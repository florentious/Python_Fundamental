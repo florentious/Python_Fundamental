{
 "cells": [
  {
   "cell_type": "code",
   "execution_count": 1,
   "metadata": {},
   "outputs": [],
   "source": [
    "import numpy as np\n",
    "import pandas as pd\n",
    "import glob\n",
    "import json\n",
    "import os\n",
    "import sys\n",
    "import urllib.request\n",
    "import requests\n",
    "from bs4 import BeautifulSoup\n",
    "import time\n",
    "import pymysql"
   ]
  },
  {
   "cell_type": "code",
   "execution_count": 60,
   "metadata": {},
   "outputs": [
    {
     "name": "stdout",
     "output_type": "stream",
     "text": [
      "3\n"
     ]
    }
   ],
   "source": [
    "# select \n",
    "# select로 해와야할 것 : 최근 업데이트 날짜, 전체\n",
    "\n",
    "conn = pymysql.connect(host='localhost',port=3306, \n",
    "                       user='acorn12',passwd='acorn12',db='acorn',charset='utf8')\n",
    "\n",
    "cur = conn.cursor()\n",
    "\n",
    "sql = 'SELECT num, title, content FROM practice ORDER by num DESC '\n",
    "\n",
    "\n",
    "cur.execute(sql)\n",
    "\n",
    "# for row in cur :\n",
    "#     print(row)\n",
    "\n",
    "rows = cur.fetchall()\n",
    "print(rows)\n",
    "    \n",
    "cur.close()\n",
    "conn.close()"
   ]
  },
  {
   "cell_type": "code",
   "execution_count": 58,
   "metadata": {},
   "outputs": [
    {
     "name": "stdout",
     "output_type": "stream",
     "text": [
      "{'IFNULL(MAX(num)+1,1)': 4}\n"
     ]
    }
   ],
   "source": [
    "# insert \n",
    "# 데이터 입력받아서 꺼내쓸떄 넣어야겠지\n",
    "\n",
    "conn = pymysql.connect(host='localhost', port=3306,\n",
    "                       user='acorn12', passwd='acorn12', db='acorn', charset='utf8')\n",
    "\n",
    "# 반환타입을 dict 구조로 반환하게 하는 코드\n",
    "curs = conn.cursor(pymysql.cursors.DictCursor)\n",
    "\n",
    "sql = 'SELECT IFNULL(MAX(num)+1,1) FROM practice'\n",
    "\n",
    "curs.execute(sql)\n",
    "\n",
    "\n",
    "# sql = '''INSERT INTO practice(num, title, content, someDate) VALUES(%d,%s,%s,NOW())'''\n",
    "\n",
    "rows = curs.fetchall()\n",
    "print(rows)\n",
    "\n",
    "curs.close()\n",
    "conn.close()\n"
   ]
  },
  {
   "cell_type": "code",
   "execution_count": 76,
   "metadata": {},
   "outputs": [],
   "source": [
    "# pymysql CRUD\n",
    "# 나중에 이부분을 read해서 가져올수 있도록 수정하기(아이디 비밀번호이므로 수정할 것)\n",
    "conn = pymysql.connect(host='localhost', port=3306,\n",
    "                       user='acorn12', passwd='acorn12', db='acorn', charset='utf8')\n",
    "\n",
    "try:\n",
    "    with conn.cursor() as cursor:\n",
    "        sql = 'SELECT IFNULL(MAX(num)+1,1) FROM practice'\n",
    "        \n",
    "        cursor.execute(sql)\n",
    "        conn.commit()\n",
    "        \n",
    "        rows = cursor.fetchone()\n",
    "        \n",
    "        maxNum = rows[0]\n",
    "        \n",
    "        \n",
    "        \n",
    "        sql = 'INSERT INTO practice(num, title, content, someDate) VALUES(%s,%s,%s,CURDATE())'\n",
    "        \n",
    "        cursor.execute(sql, (maxNum,str(maxNum),str(maxNum)*2))\n",
    "        conn.commit()\n",
    "        \n",
    "        \n",
    "        \n",
    "\n",
    "finally:\n",
    "    conn.close()"
   ]
  },
  {
   "cell_type": "code",
   "execution_count": 77,
   "metadata": {},
   "outputs": [
    {
     "name": "stdout",
     "output_type": "stream",
     "text": [
      "2020-01-20\n"
     ]
    }
   ],
   "source": [
    "# recently date return\n",
    "conn = pymysql.connect(host='localhost', port=3306,\n",
    "                       user='acorn12', passwd='acorn12', db='acorn', charset='utf8')\n",
    "\n",
    "try:\n",
    "    with conn.cursor() as cursor:\n",
    "        sql = 'SELECT IFNULL(MAX(someDate),\"2013-01-01\") FROM practice'\n",
    "        \n",
    "        cursor.execute(sql)\n",
    "        conn.commit()\n",
    "        \n",
    "        rows = cursor.fetchone()\n",
    "        \n",
    "        lastDate = rows[0]\n",
    "        \n",
    "        print(lastDate)\n",
    "        \n",
    "        conn.commit()\n",
    "        \n",
    "\n",
    "finally:\n",
    "    conn.close()"
   ]
  },
  {
   "cell_type": "code",
   "execution_count": 78,
   "metadata": {},
   "outputs": [],
   "source": [
    "import datetime\n",
    "import date"
   ]
  },
  {
   "cell_type": "code",
   "execution_count": 98,
   "metadata": {},
   "outputs": [
    {
     "name": "stdout",
     "output_type": "stream",
     "text": [
      "2020\n"
     ]
    }
   ],
   "source": [
    "# 일자를 받아서 그 일자에 하루를 추가한뒤에 형변환해서 출력하는 것\n",
    "\n",
    "newTime = datetime.datetime.strptime(lastDate, '%Y-%m-%d') # string 타입을 datetime타입으로 바꾸는 것\n",
    "\n",
    "newTime += datetime.timedelta(days=1)\n",
    "\n",
    "print(newTime.year) # 단일년도\n",
    "print(newTime.strftime('%Y/%m/%d'))"
   ]
  },
  {
   "cell_type": "code",
   "execution_count": 100,
   "metadata": {},
   "outputs": [
    {
     "name": "stdout",
     "output_type": "stream",
     "text": [
      "2020/01/21\n"
     ]
    }
   ],
   "source": []
  },
  {
   "cell_type": "code",
   "execution_count": 102,
   "metadata": {},
   "outputs": [
    {
     "name": "stdout",
     "output_type": "stream",
     "text": [
      "2020-01-16 00:00:00\n"
     ]
    }
   ],
   "source": [
    "# 한글로 된 일자를 들어가는지 테스트(완료)\n",
    "newStr = '2020년 01월 16일' \n",
    "\n",
    "chTime = datetime.datetime.strptime(newStr, '%Y년 %m월 %d일')\n",
    "print(chTime)"
   ]
  },
  {
   "cell_type": "code",
   "execution_count": null,
   "metadata": {},
   "outputs": [],
   "source": []
  },
  {
   "cell_type": "code",
   "execution_count": null,
   "metadata": {},
   "outputs": [],
   "source": []
  }
 ],
 "metadata": {
  "kernelspec": {
   "display_name": "Python 3",
   "language": "python",
   "name": "python3"
  },
  "language_info": {
   "codemirror_mode": {
    "name": "ipython",
    "version": 3
   },
   "file_extension": ".py",
   "mimetype": "text/x-python",
   "name": "python",
   "nbconvert_exporter": "python",
   "pygments_lexer": "ipython3",
   "version": "3.7.4"
  }
 },
 "nbformat": 4,
 "nbformat_minor": 2
}
