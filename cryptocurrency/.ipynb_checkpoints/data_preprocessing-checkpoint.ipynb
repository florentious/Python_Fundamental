{
 "cells": [
  {
   "cell_type": "code",
   "execution_count": 1,
   "metadata": {},
   "outputs": [],
   "source": [
    "import numpy as np\n",
    "import pandas as pd\n",
    "import glob\n",
    "import json\n",
    "import os\n",
    "import sys\n",
    "import urllib.request\n",
    "import requests\n",
    "from bs4 import BeautifulSoup\n",
    "import time\n",
    "from selenium import webdriver\n",
    "import datetime as dt\n",
    "import pymysql\n",
    "\n",
    "%matplotlib inline\n",
    "import matplotlib.pyplot as plt\n",
    "import seaborn as sns"
   ]
  },
  {
   "cell_type": "code",
   "execution_count": null,
   "metadata": {},
   "outputs": [],
   "source": [
    "from statsmodels.tsa.arima_model import ARIMA\n",
    "# arima 모델 import"
   ]
  },
  {
   "cell_type": "code",
   "execution_count": 3,
   "metadata": {},
   "outputs": [],
   "source": [
    "# dowjones's db to DataFrame\n",
    "\n",
    "def selectDJ() : \n",
    "    tmp_df = pd.DataFrame([])\n",
    "    \n",
    "    tmp_date = np.array([])\n",
    "    tmp_close = np.array([])\n",
    "    tmp_open = np.array([])\n",
    "    tmp_high = np.array([])\n",
    "    tmp_low = np.array([])\n",
    "    tmp_volume = np.array([])\n",
    "    \n",
    "    conn = pymysql.connect(host='localhost', port=3306,\n",
    "                           user='acorn12', passwd='acorn12', db='acorn', charset='utf8')\n",
    "    try:\n",
    "        with conn.cursor() as cursor:\n",
    "            sql = 'SELECT dj_date, dj_close, dj_open, dj_high, dj_low, dj_volume FROM dowjones '\n",
    "\n",
    "            cursor.execute(sql)\n",
    "            conn.commit()\n",
    "\n",
    "            rows = cursor.fetchall()\n",
    "            \n",
    "            for i in range(len(rows)) :\n",
    "                tmp_date = np.append(tmp_date, rows[i][0])\n",
    "                tmp_close = np.append(tmp_close, rows[i][1])\n",
    "                tmp_open = np.append(tmp_open, rows[i][2])\n",
    "                tmp_high = np.append(tmp_high, rows[i][3])\n",
    "                tmp_low = np.append(tmp_low, rows[i][4])\n",
    "                tmp_volume = np.append(tmp_volume, rows[i][5])\n",
    "                \n",
    "    finally:\n",
    "        conn.close()\n",
    "    \n",
    "    tmp_df['date'] = tmp_date.astype('datetime64[ns]')\n",
    "    tmp_df['close'] = tmp_close\n",
    "    tmp_df['open'] = tmp_open\n",
    "    tmp_df['high'] = tmp_high\n",
    "    tmp_df['low'] = tmp_low\n",
    "    tmp_df['volume'] = tmp_volume\n",
    "    \n",
    "    tmp_df = tmp_df.set_index('date')\n",
    "    \n",
    "    return(tmp_df)"
   ]
  },
  {
   "cell_type": "code",
   "execution_count": 4,
   "metadata": {},
   "outputs": [],
   "source": [
    "# gold's db to DataFrame\n",
    "\n",
    "def selectGold() : \n",
    "    tmp_df = pd.DataFrame([])\n",
    "    \n",
    "    tmp_date = np.array([])\n",
    "    tmp_close = np.array([])\n",
    "    tmp_open = np.array([])\n",
    "    tmp_high = np.array([])\n",
    "    tmp_low = np.array([])\n",
    "    tmp_volume = np.array([])\n",
    "    \n",
    "    conn = pymysql.connect(host='localhost', port=3306,\n",
    "                           user='acorn12', passwd='acorn12', db='acorn', charset='utf8')\n",
    "    try:\n",
    "        with conn.cursor() as cursor:\n",
    "            sql = 'SELECT gold_date, gold_close, gold_open, gold_high, gold_low, gold_volume '\n",
    "            sql += 'FROM gold '\n",
    "\n",
    "            cursor.execute(sql)\n",
    "            conn.commit()\n",
    "\n",
    "            rows = cursor.fetchall()\n",
    "            \n",
    "            for i in range(len(rows)) :\n",
    "                tmp_date = np.append(tmp_date, rows[i][0])\n",
    "                tmp_close = np.append(tmp_close, rows[i][1])\n",
    "                tmp_open = np.append(tmp_open, rows[i][2])\n",
    "                tmp_high = np.append(tmp_high, rows[i][3])\n",
    "                tmp_low = np.append(tmp_low, rows[i][4])\n",
    "                tmp_volume = np.append(tmp_volume, rows[i][5])\n",
    "                \n",
    "    finally:\n",
    "        conn.close()\n",
    "    \n",
    "    tmp_df['date'] = tmp_date.astype('datetime64[ns]')\n",
    "    tmp_df['close'] = tmp_close\n",
    "    tmp_df['open'] = tmp_open\n",
    "    tmp_df['high'] = tmp_high\n",
    "    tmp_df['low'] = tmp_low\n",
    "    tmp_df['volume'] = tmp_volume\n",
    "    \n",
    "    tmp_df = tmp_df.set_index('date')\n",
    "    \n",
    "    return(tmp_df)"
   ]
  },
  {
   "cell_type": "code",
   "execution_count": 5,
   "metadata": {},
   "outputs": [],
   "source": [
    "# bitcoin's db to DataFrame\n",
    "\n",
    "def selectBitcoin() : \n",
    "    tmp_df = pd.DataFrame([])\n",
    "    \n",
    "    tmp_date = np.array([])\n",
    "    tmp_close = np.array([])\n",
    "    tmp_open = np.array([])\n",
    "    tmp_high = np.array([])\n",
    "    tmp_low = np.array([])\n",
    "    tmp_volume = np.array([])\n",
    "    \n",
    "    conn = pymysql.connect(host='localhost', port=3306,\n",
    "                           user='acorn12', passwd='acorn12', db='acorn', charset='utf8')\n",
    "    try:\n",
    "        with conn.cursor() as cursor:\n",
    "            sql = 'SELECT bit_date, bit_close, bit_open, bit_high, bit_low, bit_volume '\n",
    "            sql += 'FROM bitcoin '\n",
    "\n",
    "            cursor.execute(sql)\n",
    "            conn.commit()\n",
    "\n",
    "            rows = cursor.fetchall()\n",
    "            \n",
    "            for i in range(len(rows)) :\n",
    "                tmp_date = np.append(tmp_date, rows[i][0])\n",
    "                tmp_close = np.append(tmp_close, rows[i][1])\n",
    "                tmp_open = np.append(tmp_open, rows[i][2])\n",
    "                tmp_high = np.append(tmp_high, rows[i][3])\n",
    "                tmp_low = np.append(tmp_low, rows[i][4])\n",
    "                tmp_volume = np.append(tmp_volume, rows[i][5])\n",
    "                \n",
    "    finally:\n",
    "        conn.close()\n",
    "    \n",
    "    tmp_df['date'] = tmp_date.astype('datetime64[ns]')\n",
    "    tmp_df['close'] = tmp_close\n",
    "    tmp_df['open'] = tmp_open\n",
    "    tmp_df['high'] = tmp_high\n",
    "    tmp_df['low'] = tmp_low\n",
    "    tmp_df['volume'] = tmp_volume\n",
    "    \n",
    "    tmp_df = tmp_df.set_index('date')\n",
    "    \n",
    "    return(tmp_df)"
   ]
  },
  {
   "cell_type": "code",
   "execution_count": null,
   "metadata": {},
   "outputs": [],
   "source": []
  },
  {
   "cell_type": "code",
   "execution_count": null,
   "metadata": {},
   "outputs": [],
   "source": []
  },
  {
   "cell_type": "code",
   "execution_count": 6,
   "metadata": {},
   "outputs": [],
   "source": [
    "# get all Data in db\n",
    "\n",
    "dowjones_DF = selectDJ()\n",
    "gold_DF = selectGold()\n",
    "bitcoin_DF = selectBitcoin()"
   ]
  },
  {
   "cell_type": "code",
   "execution_count": null,
   "metadata": {},
   "outputs": [],
   "source": []
  },
  {
   "cell_type": "code",
   "execution_count": null,
   "metadata": {},
   "outputs": [],
   "source": [
    "# Close DB 제작 \n"
   ]
  },
  {
   "cell_type": "code",
   "execution_count": 19,
   "metadata": {},
   "outputs": [],
   "source": [
    "# Close DB 채워넣기\n",
    "\n",
    "dowjones_DF = selectDJ()\n",
    "gold_DF = selectGold()\n",
    "bitcoin_DF = selectBitcoin()\n",
    "\n",
    "dowjones_subDF = dowjones_DF.loc[:,['close','open']]\n",
    "gold_subDF = gold_DF.loc[:,['close','open']]\n",
    "bitcoin_subDF = bitcoin_DF.loc[:,['close','open']]\n",
    "\n",
    "dowjones_subDF = dowjones_subDF.add_prefix('dj_')\n",
    "gold_subDF = gold_subDF.add_prefix('gol_')\n",
    "bitcoin_subDF = bitcoin_subDF.add_prefix('bit_')\n",
    "\n",
    "result_sub = pd.concat([bitcoin_subDF, gold_subDF, dowjones_subDF], axis = 1, sort=False)\n",
    "\n",
    "# na 값에 대해서 padding 처리한 과정 : 값이 없으면 전날 데이터 기준으로 들어간다\n",
    "\n",
    "beforeDate = result_sub.index[0]\n",
    "\n",
    "for date in result_sub.index :\n",
    "    for cols in result_sub.columns :\n",
    "        if pd.isnull(result_sub.at[date,cols]) == True :\n",
    "            result_sub.at[date,cols] = result_sub.at[beforeDate,cols]\n",
    "    beforeDate = date\n",
    "\n",
    "\n",
    "# db연결해서 중복된 값 안받아오게끔 하기\n",
    "conn = pymysql.connect(host='localhost', port=3306,user='acorn12', passwd='acorn12', db='acorn', charset='utf8')\n",
    "\n",
    "try:\n",
    "    with conn.cursor() as cursor:\n",
    "        sql = 'SELECT IFNULL(MAX(cl_date),\"2013-01-01\") FROM al_close '\n",
    "        \n",
    "        cursor.execute(sql)\n",
    "        \n",
    "        rows = cursor.fetchone()\n",
    "        lastDate = rows[0]\n",
    "        \n",
    "        # db에 기록된 가장 최근값과 오늘의 날짜 반납( 이 기준으로 db에서 가져옴)\n",
    "        \n",
    "        recentlyDate = pd.to_datetime(lastDate).date()\n",
    "        recentlyDate += dt.timedelta(days=1) # 하루 추가하기(다음날로 확인하는 거)\n",
    "        today = dt.datetime.now().date()\n",
    "        \n",
    "        result_sub_update = result_sub.loc[recentlyDate:,:]\n",
    "        \n",
    "        if recentlyDate < today :\n",
    "            for date in result_sub_update.index :\n",
    "\n",
    "                sql = 'INSERT INTO al_close(cl_date, cl_bitcoin, cl_gold, cl_dowjones) '\n",
    "                sql += 'VALUES(%s,%s,%s,%s) '\n",
    "\n",
    "                cursor.execute(sql,(date.date(),float(result_sub_update.at[date,'bit_close']),float(result_sub_update.at[date,'gol_close']),float(result_sub_update.at[date,'dj_close'])) )\n",
    "\n",
    "\n",
    "        conn.commit()\n",
    "\n",
    "finally:\n",
    "    conn.close()"
   ]
  },
  {
   "cell_type": "code",
   "execution_count": null,
   "metadata": {},
   "outputs": [],
   "source": []
  },
  {
   "cell_type": "code",
   "execution_count": 30,
   "metadata": {},
   "outputs": [
    {
     "data": {
      "text/html": [
       "<div>\n",
       "<style scoped>\n",
       "    .dataframe tbody tr th:only-of-type {\n",
       "        vertical-align: middle;\n",
       "    }\n",
       "\n",
       "    .dataframe tbody tr th {\n",
       "        vertical-align: top;\n",
       "    }\n",
       "\n",
       "    .dataframe thead th {\n",
       "        text-align: right;\n",
       "    }\n",
       "</style>\n",
       "<table border=\"1\" class=\"dataframe\">\n",
       "  <thead>\n",
       "    <tr style=\"text-align: right;\">\n",
       "      <th></th>\n",
       "      <th>bit_close</th>\n",
       "      <th>bit_open</th>\n",
       "      <th>gol_close</th>\n",
       "      <th>gol_open</th>\n",
       "      <th>dj_close</th>\n",
       "      <th>dj_open</th>\n",
       "    </tr>\n",
       "    <tr>\n",
       "      <th>date</th>\n",
       "      <th></th>\n",
       "      <th></th>\n",
       "      <th></th>\n",
       "      <th></th>\n",
       "      <th></th>\n",
       "      <th></th>\n",
       "    </tr>\n",
       "  </thead>\n",
       "  <tbody>\n",
       "    <tr>\n",
       "      <td>2013-01-02</td>\n",
       "      <td>13.28</td>\n",
       "      <td>13.28</td>\n",
       "      <td>1687.90</td>\n",
       "      <td>1672.80</td>\n",
       "      <td>13412.55</td>\n",
       "      <td>13104.30</td>\n",
       "    </tr>\n",
       "    <tr>\n",
       "      <td>2013-01-03</td>\n",
       "      <td>13.40</td>\n",
       "      <td>13.40</td>\n",
       "      <td>1673.70</td>\n",
       "      <td>1686.10</td>\n",
       "      <td>13391.36</td>\n",
       "      <td>13413.01</td>\n",
       "    </tr>\n",
       "    <tr>\n",
       "      <td>2013-01-04</td>\n",
       "      <td>13.50</td>\n",
       "      <td>13.50</td>\n",
       "      <td>1648.10</td>\n",
       "      <td>1647.00</td>\n",
       "      <td>13435.21</td>\n",
       "      <td>13391.05</td>\n",
       "    </tr>\n",
       "    <tr>\n",
       "      <td>2013-01-05</td>\n",
       "      <td>13.44</td>\n",
       "      <td>13.44</td>\n",
       "      <td>1648.10</td>\n",
       "      <td>1647.00</td>\n",
       "      <td>13435.21</td>\n",
       "      <td>13391.05</td>\n",
       "    </tr>\n",
       "    <tr>\n",
       "      <td>2013-01-06</td>\n",
       "      <td>13.45</td>\n",
       "      <td>13.45</td>\n",
       "      <td>1648.10</td>\n",
       "      <td>1647.00</td>\n",
       "      <td>13435.21</td>\n",
       "      <td>13391.05</td>\n",
       "    </tr>\n",
       "    <tr>\n",
       "      <td>...</td>\n",
       "      <td>...</td>\n",
       "      <td>...</td>\n",
       "      <td>...</td>\n",
       "      <td>...</td>\n",
       "      <td>...</td>\n",
       "      <td>...</td>\n",
       "    </tr>\n",
       "    <tr>\n",
       "      <td>2020-01-26</td>\n",
       "      <td>8621.60</td>\n",
       "      <td>8351.10</td>\n",
       "      <td>1581.95</td>\n",
       "      <td>1571.65</td>\n",
       "      <td>28989.73</td>\n",
       "      <td>29230.39</td>\n",
       "    </tr>\n",
       "    <tr>\n",
       "      <td>2020-01-27</td>\n",
       "      <td>8912.00</td>\n",
       "      <td>8622.00</td>\n",
       "      <td>1580.25</td>\n",
       "      <td>1582.40</td>\n",
       "      <td>28533.15</td>\n",
       "      <td>28542.49</td>\n",
       "    </tr>\n",
       "    <tr>\n",
       "      <td>2020-01-28</td>\n",
       "      <td>9393.70</td>\n",
       "      <td>8912.10</td>\n",
       "      <td>1580.15</td>\n",
       "      <td>1580.30</td>\n",
       "      <td>28722.03</td>\n",
       "      <td>28594.28</td>\n",
       "    </tr>\n",
       "    <tr>\n",
       "      <td>2020-01-29</td>\n",
       "      <td>9304.20</td>\n",
       "      <td>9390.90</td>\n",
       "      <td>1576.70</td>\n",
       "      <td>1567.65</td>\n",
       "      <td>28735.70</td>\n",
       "      <td>28820.53</td>\n",
       "    </tr>\n",
       "    <tr>\n",
       "      <td>2020-01-30</td>\n",
       "      <td>9322.50</td>\n",
       "      <td>9305.10</td>\n",
       "      <td>1575.95</td>\n",
       "      <td>1576.65</td>\n",
       "      <td>28735.70</td>\n",
       "      <td>28820.53</td>\n",
       "    </tr>\n",
       "  </tbody>\n",
       "</table>\n",
       "<p>2578 rows × 6 columns</p>\n",
       "</div>"
      ],
      "text/plain": [
       "            bit_close  bit_open  gol_close  gol_open  dj_close   dj_open\n",
       "date                                                                    \n",
       "2013-01-02      13.28     13.28    1687.90   1672.80  13412.55  13104.30\n",
       "2013-01-03      13.40     13.40    1673.70   1686.10  13391.36  13413.01\n",
       "2013-01-04      13.50     13.50    1648.10   1647.00  13435.21  13391.05\n",
       "2013-01-05      13.44     13.44    1648.10   1647.00  13435.21  13391.05\n",
       "2013-01-06      13.45     13.45    1648.10   1647.00  13435.21  13391.05\n",
       "...               ...       ...        ...       ...       ...       ...\n",
       "2020-01-26    8621.60   8351.10    1581.95   1571.65  28989.73  29230.39\n",
       "2020-01-27    8912.00   8622.00    1580.25   1582.40  28533.15  28542.49\n",
       "2020-01-28    9393.70   8912.10    1580.15   1580.30  28722.03  28594.28\n",
       "2020-01-29    9304.20   9390.90    1576.70   1567.65  28735.70  28820.53\n",
       "2020-01-30    9322.50   9305.10    1575.95   1576.65  28735.70  28820.53\n",
       "\n",
       "[2578 rows x 6 columns]"
      ]
     },
     "execution_count": 30,
     "metadata": {},
     "output_type": "execute_result"
    }
   ],
   "source": [
    "result_sub"
   ]
  },
  {
   "cell_type": "code",
   "execution_count": 71,
   "metadata": {},
   "outputs": [],
   "source": [
    "featureTrain = result_sub.loc['2017-01-01':'2020-01-20','bit_close']\n",
    "featureTest = result_sub.loc['2020-01-21':,'bit_close']"
   ]
  },
  {
   "cell_type": "code",
   "execution_count": 31,
   "metadata": {},
   "outputs": [],
   "source": [
    "from statsmodels.tsa.arima_model import ARIMA"
   ]
  },
  {
   "cell_type": "code",
   "execution_count": null,
   "metadata": {},
   "outputs": [],
   "source": [
    "# p-value 보는거\n",
    "from statsmodels.tsa.stattools import adfuller"
   ]
  },
  {
   "cell_type": "code",
   "execution_count": null,
   "metadata": {},
   "outputs": [],
   "source": []
  },
  {
   "cell_type": "code",
   "execution_count": 140,
   "metadata": {},
   "outputs": [],
   "source": [
    "# arima 예측하는거 5일치 함수\n",
    "\n",
    "def arima_predict(df, typeData) :\n",
    "    \n",
    "    if typeData == 'gol' :\n",
    "        orders =(0,2,1)\n",
    "    else :\n",
    "        orders = (1,2,2)\n",
    "    \n",
    "    beforeYear= dt.datetime.now().date().replace(year=dt.datetime.now().year-3)\n",
    "    testDate = dt.datetime.now().date().replace(day=dt.datetime.now().day-5)\n",
    "    \n",
    "    featureTrain = result_sub.loc[beforeYear:testDate,typeData+'_close']\n",
    "    featureTest = result_sub.loc[testDate:,typeData+'_close']\n",
    "    \n",
    "    arima_model = ARIMA(featureTrain, order=orders)\n",
    "    arima_fit = arima_model.fit(trend='nc', full_output=True, disp=1)\n",
    "    \n",
    "    arima_predict = arima_fit.forecast(steps=5)\n",
    "    featureTest\n",
    "    \n",
    "    return (arima_predict[0],featureTest)\n",
    "    \n",
    "    \n",
    "    "
   ]
  },
  {
   "cell_type": "code",
   "execution_count": 115,
   "metadata": {},
   "outputs": [
    {
     "name": "stderr",
     "output_type": "stream",
     "text": [
      "C:\\dev\\Anaconda3\\lib\\site-packages\\statsmodels\\tsa\\base\\tsa_model.py:165: ValueWarning: No frequency information was provided, so inferred frequency D will be used.\n",
      "  % freq, ValueWarning)\n",
      "C:\\dev\\Anaconda3\\lib\\site-packages\\statsmodels\\tsa\\base\\tsa_model.py:165: ValueWarning: No frequency information was provided, so inferred frequency D will be used.\n",
      "  % freq, ValueWarning)\n"
     ]
    }
   ],
   "source": [
    "bit_pred, bit_test = arima_predict(result_sub,'bit')"
   ]
  },
  {
   "cell_type": "code",
   "execution_count": 119,
   "metadata": {},
   "outputs": [
    {
     "name": "stderr",
     "output_type": "stream",
     "text": [
      "C:\\dev\\Anaconda3\\lib\\site-packages\\statsmodels\\tsa\\base\\tsa_model.py:165: ValueWarning: No frequency information was provided, so inferred frequency D will be used.\n",
      "  % freq, ValueWarning)\n",
      "C:\\dev\\Anaconda3\\lib\\site-packages\\statsmodels\\tsa\\base\\tsa_model.py:165: ValueWarning: No frequency information was provided, so inferred frequency D will be used.\n",
      "  % freq, ValueWarning)\n"
     ]
    }
   ],
   "source": [
    "dj_pred, dj_test = arima_predict(result_sub,'dj')"
   ]
  },
  {
   "cell_type": "code",
   "execution_count": null,
   "metadata": {},
   "outputs": [],
   "source": [
    "예측결과가 똥임"
   ]
  },
  {
   "cell_type": "code",
   "execution_count": 141,
   "metadata": {},
   "outputs": [
    {
     "name": "stderr",
     "output_type": "stream",
     "text": [
      "C:\\dev\\Anaconda3\\lib\\site-packages\\statsmodels\\tsa\\base\\tsa_model.py:165: ValueWarning: No frequency information was provided, so inferred frequency D will be used.\n",
      "  % freq, ValueWarning)\n",
      "C:\\dev\\Anaconda3\\lib\\site-packages\\statsmodels\\tsa\\base\\tsa_model.py:165: ValueWarning: No frequency information was provided, so inferred frequency D will be used.\n",
      "  % freq, ValueWarning)\n"
     ]
    }
   ],
   "source": [
    "gol_pred, gol_test = arima_predict(result_sub, 'gol')"
   ]
  },
  {
   "cell_type": "code",
   "execution_count": 142,
   "metadata": {},
   "outputs": [
    {
     "data": {
      "text/plain": [
       "(array([1572.1918754 , 1572.48375081, 1572.77562621, 1573.06750162,\n",
       "        1573.35937702]), date\n",
       " 2020-01-25    1571.90\n",
       " 2020-01-26    1581.95\n",
       " 2020-01-27    1580.25\n",
       " 2020-01-28    1580.15\n",
       " 2020-01-29    1576.70\n",
       " 2020-01-30    1575.95\n",
       " Name: gol_close, dtype: float64)"
      ]
     },
     "execution_count": 142,
     "metadata": {},
     "output_type": "execute_result"
    }
   ],
   "source": [
    "gol_pred, gol_test"
   ]
  },
  {
   "cell_type": "code",
   "execution_count": null,
   "metadata": {},
   "outputs": [],
   "source": []
  },
  {
   "cell_type": "code",
   "execution_count": 122,
   "metadata": {},
   "outputs": [
    {
     "data": {
      "text/plain": [
       "(array([28992.46637686, 29005.87588157, 29009.66099916, 29022.12481233,\n",
       "        29026.76269788]), date\n",
       " 2020-01-25    28989.73\n",
       " 2020-01-26    28989.73\n",
       " 2020-01-27    28533.15\n",
       " 2020-01-28    28722.03\n",
       " 2020-01-29    28735.70\n",
       " 2020-01-30    28735.70\n",
       " Name: dj_close, dtype: float64)"
      ]
     },
     "execution_count": 122,
     "metadata": {},
     "output_type": "execute_result"
    }
   ],
   "source": [
    "dj_pred, dj_test"
   ]
  },
  {
   "cell_type": "code",
   "execution_count": null,
   "metadata": {},
   "outputs": [],
   "source": []
  },
  {
   "cell_type": "code",
   "execution_count": 123,
   "metadata": {},
   "outputs": [
    {
     "data": {
      "text/plain": [
       "(array([8341.00969243, 8363.1896987 , 8358.16373933, 8374.36398887,\n",
       "        8374.00346087]), date\n",
       " 2020-01-25    8353.7\n",
       " 2020-01-26    8621.6\n",
       " 2020-01-27    8912.0\n",
       " 2020-01-28    9393.7\n",
       " 2020-01-29    9304.2\n",
       " 2020-01-30    9322.5\n",
       " Name: bit_close, dtype: float64)"
      ]
     },
     "execution_count": 123,
     "metadata": {},
     "output_type": "execute_result"
    }
   ],
   "source": [
    "bit_pred, bit_test"
   ]
  },
  {
   "cell_type": "code",
   "execution_count": null,
   "metadata": {},
   "outputs": [],
   "source": []
  },
  {
   "cell_type": "code",
   "execution_count": 75,
   "metadata": {},
   "outputs": [
    {
     "name": "stdout",
     "output_type": "stream",
     "text": [
      "2017-01-30\n",
      "2020-01-25\n"
     ]
    }
   ],
   "source": [
    "beforeYear= dt.datetime.now().date().replace(year=dt.datetime.now().year-3)\n",
    "print(beforeYear)\n",
    "\n",
    "testDate = dt.datetime.now().date().replace(day=dt.datetime.now().day-5)\n",
    "print(testDate)"
   ]
  },
  {
   "cell_type": "code",
   "execution_count": 76,
   "metadata": {},
   "outputs": [],
   "source": [
    "featureTrain = result_sub.loc[beforeYear:testDate,'bit_close']\n",
    "featureTest = result_sub.loc[testDate:,'bit_close']"
   ]
  },
  {
   "cell_type": "code",
   "execution_count": null,
   "metadata": {},
   "outputs": [],
   "source": []
  },
  {
   "cell_type": "code",
   "execution_count": 84,
   "metadata": {},
   "outputs": [
    {
     "name": "stdout",
     "output_type": "stream",
     "text": [
      "p-value: 0.13793836326069048\n"
     ]
    }
   ],
   "source": [
    "from statsmodels.tsa.stattools import adfuller\n",
    "print(\"p-value:\", adfuller(featureTrain.dropna())[1])"
   ]
  },
  {
   "cell_type": "code",
   "execution_count": 85,
   "metadata": {},
   "outputs": [
    {
     "data": {
      "image/png": "[encoded data removed]",
      "text/plain": [
       "<Figure size 720x720 with 3 Axes>"
      ]
     },
     "metadata": {
      "needs_background": "light"
     },
     "output_type": "display_data"
    }
   ],
   "source": [
    "from statsmodels.graphics.tsaplots import plot_acf, plot_pacf\n",
    "fig = plt.figure(figsize=(10, 10))\n",
    "ax1 = fig.add_subplot(311)\n",
    "fig = plot_acf(featureTrain, ax=ax1,\n",
    "               title=\"Autocorrelation on Original Series\") \n",
    "ax2 = fig.add_subplot(312)\n",
    "fig = plot_acf(featureTrain.diff().dropna(), ax=ax2, \n",
    "               title=\"1st Order Differencing\")\n",
    "ax3 = fig.add_subplot(313)\n",
    "fig = plot_acf(featureTrain.diff().diff().dropna(), ax=ax3, \n",
    "               title=\"2nd Order Differencing\")"
   ]
  },
  {
   "cell_type": "code",
   "execution_count": 86,
   "metadata": {},
   "outputs": [
    {
     "data": {
      "image/png": "[encoded data removed]",
      "text/plain": [
       "<Figure size 432x288 with 1 Axes>"
      ]
     },
     "execution_count": 86,
     "metadata": {},
     "output_type": "execute_result"
    },
    {
     "data": {
      "image/png": "[encoded data removed]",
      "text/plain": [
       "<Figure size 432x288 with 1 Axes>"
      ]
     },
     "metadata": {
      "needs_background": "light"
     },
     "output_type": "display_data"
    }
   ],
   "source": [
    "plot_pacf(featureTrain.diff().dropna(), lags=40)"
   ]
  },
  {
   "cell_type": "code",
   "execution_count": null,
   "metadata": {},
   "outputs": [],
   "source": []
  },
  {
   "cell_type": "code",
   "execution_count": 88,
   "metadata": {},
   "outputs": [],
   "source": [
    "import pmdarima as pm"
   ]
  },
  {
   "cell_type": "code",
   "execution_count": 125,
   "metadata": {},
   "outputs": [
    {
     "name": "stdout",
     "output_type": "stream",
     "text": [
      "2017-01-30\n",
      "2020-01-25\n"
     ]
    }
   ],
   "source": [
    "beforeYear= dt.datetime.now().date().replace(year=dt.datetime.now().year-3)\n",
    "print(beforeYear)\n",
    "\n",
    "testDate = dt.datetime.now().date().replace(day=dt.datetime.now().day-5)\n",
    "print(testDate)\n",
    "\n",
    "featureTrain = result_sub.loc[beforeYear:testDate,'gol_close']\n",
    "featureTest = result_sub.loc[testDate:,'gol_close']"
   ]
  },
  {
   "cell_type": "code",
   "execution_count": 126,
   "metadata": {},
   "outputs": [
    {
     "name": "stderr",
     "output_type": "stream",
     "text": [
      "C:\\dev\\Anaconda3\\lib\\site-packages\\statsmodels\\tsa\\base\\tsa_model.py:165: ValueWarning: No frequency information was provided, so inferred frequency D will be used.\n",
      "  % freq, ValueWarning)\n",
      "C:\\dev\\Anaconda3\\lib\\site-packages\\statsmodels\\tsa\\base\\tsa_model.py:165: ValueWarning: No frequency information was provided, so inferred frequency D will be used.\n",
      "  % freq, ValueWarning)\n"
     ]
    }
   ],
   "source": [
    "arima_model = ARIMA(featureTrain, order=(1,2,2))"
   ]
  },
  {
   "cell_type": "code",
   "execution_count": null,
   "metadata": {},
   "outputs": [],
   "source": []
  },
  {
   "cell_type": "code",
   "execution_count": 128,
   "metadata": {},
   "outputs": [
    {
     "name": "stdout",
     "output_type": "stream",
     "text": [
      "                             ARIMA Model Results                              \n",
      "==============================================================================\n",
      "Dep. Variable:            D.gol_close   No. Observations:                 1090\n",
      "Model:                 ARIMA(1, 1, 1)   Log Likelihood               -4175.142\n",
      "Method:                       css-mle   S.D. of innovations             11.150\n",
      "Date:                Thu, 30 Jan 2020   AIC                           8356.284\n",
      "Time:                        18:21:00   BIC                           8371.266\n",
      "Sample:                    01-31-2017   HQIC                          8361.955\n",
      "                         - 01-25-2020                                         \n",
      "=====================================================================================\n",
      "                        coef    std err          z      P>|z|      [0.025      0.975]\n",
      "-------------------------------------------------------------------------------------\n",
      "ar.L1.D.gol_close     0.4712      0.077      6.123      0.000       0.320       0.622\n",
      "ma.L1.D.gol_close    -0.6783      0.063    -10.736      0.000      -0.802      -0.554\n",
      "                                    Roots                                    \n",
      "=============================================================================\n",
      "                  Real          Imaginary           Modulus         Frequency\n",
      "-----------------------------------------------------------------------------\n",
      "AR.1            2.1220           +0.0000j            2.1220            0.0000\n",
      "MA.1            1.4742           +0.0000j            1.4742            0.0000\n",
      "-----------------------------------------------------------------------------\n"
     ]
    },
    {
     "name": "stderr",
     "output_type": "stream",
     "text": [
      "C:\\dev\\Anaconda3\\lib\\site-packages\\statsmodels\\tsa\\base\\tsa_model.py:165: ValueWarning: No frequency information was provided, so inferred frequency D will be used.\n",
      "  % freq, ValueWarning)\n",
      "C:\\dev\\Anaconda3\\lib\\site-packages\\statsmodels\\tsa\\base\\tsa_model.py:165: ValueWarning: No frequency information was provided, so inferred frequency D will be used.\n",
      "  % freq, ValueWarning)\n"
     ]
    }
   ],
   "source": [
    "arima_model = ARIMA(featureTrain, order=(1,1,1))\n",
    "arima_fit = arima_model.fit(trend='nc', full_output=True, disp=1)\n",
    "print(arima_fit.summary())"
   ]
  },
  {
   "cell_type": "code",
   "execution_count": 80,
   "metadata": {},
   "outputs": [
    {
     "data": {
      "image/png": "[encoded data removed]",
      "text/plain": [
       "<Figure size 432x288 with 1 Axes>"
      ]
     },
     "execution_count": 80,
     "metadata": {},
     "output_type": "execute_result"
    },
    {
     "data": {
      "image/png": "[encoded data removed]",
      "text/plain": [
       "<Figure size 432x288 with 1 Axes>"
      ]
     },
     "metadata": {
      "needs_background": "light"
     },
     "output_type": "display_data"
    }
   ],
   "source": [
    "arima_fit.plot_predict()"
   ]
  },
  {
   "cell_type": "code",
   "execution_count": 105,
   "metadata": {},
   "outputs": [
    {
     "name": "stdout",
     "output_type": "stream",
     "text": [
      "[8341.00969243 8363.1896987  8358.16373933 8374.36398887 8374.00346087]\n"
     ]
    }
   ],
   "source": [
    "arima_predict = arima_fit.forecast(steps=5)\n",
    "print(arima_predict[0])"
   ]
  },
  {
   "cell_type": "code",
   "execution_count": null,
   "metadata": {},
   "outputs": [],
   "source": []
  },
  {
   "cell_type": "code",
   "execution_count": null,
   "metadata": {},
   "outputs": [],
   "source": []
  },
  {
   "cell_type": "code",
   "execution_count": 109,
   "metadata": {},
   "outputs": [
    {
     "data": {
      "text/plain": [
       "pandas.core.series.Series"
      ]
     },
     "execution_count": 109,
     "metadata": {},
     "output_type": "execute_result"
    }
   ],
   "source": [
    "featureTest"
   ]
  },
  {
   "cell_type": "code",
   "execution_count": null,
   "metadata": {},
   "outputs": [],
   "source": []
  },
  {
   "cell_type": "code",
   "execution_count": 89,
   "metadata": {},
   "outputs": [
    {
     "data": {
      "text/html": [
       "<table class=\"simpletable\">\n",
       "<caption>ARIMA Model Results</caption>\n",
       "<tr>\n",
       "  <th>Dep. Variable:</th>    <td>D.bit_close</td>   <th>  No. Observations:  </th>   <td>1090</td>   \n",
       "</tr>\n",
       "<tr>\n",
       "  <th>Model:</th>          <td>ARIMA(2, 1, 1)</td>  <th>  Log Likelihood     </th> <td>-7990.523</td>\n",
       "</tr>\n",
       "<tr>\n",
       "  <th>Method:</th>             <td>css-mle</td>     <th>  S.D. of innovations</th>  <td>369.373</td> \n",
       "</tr>\n",
       "<tr>\n",
       "  <th>Date:</th>          <td>Thu, 30 Jan 2020</td> <th>  AIC                </th> <td>15989.046</td>\n",
       "</tr>\n",
       "<tr>\n",
       "  <th>Time:</th>              <td>15:58:55</td>     <th>  BIC                </th> <td>16009.021</td>\n",
       "</tr>\n",
       "<tr>\n",
       "  <th>Sample:</th>           <td>01-31-2017</td>    <th>  HQIC               </th> <td>15996.606</td>\n",
       "</tr>\n",
       "<tr>\n",
       "  <th></th>                 <td>- 01-25-2020</td>   <th>                     </th>     <td> </td>    \n",
       "</tr>\n",
       "</table>\n",
       "<table class=\"simpletable\">\n",
       "<tr>\n",
       "          <td></td>             <th>coef</th>     <th>std err</th>      <th>z</th>      <th>P>|z|</th>  <th>[0.025</th>    <th>0.975]</th>  \n",
       "</tr>\n",
       "<tr>\n",
       "  <th>ar.L1.D.bit_close</th> <td>   -0.7655</td> <td>    0.091</td> <td>   -8.374</td> <td> 0.000</td> <td>   -0.945</td> <td>   -0.586</td>\n",
       "</tr>\n",
       "<tr>\n",
       "  <th>ar.L2.D.bit_close</th> <td>   -0.0394</td> <td>    0.032</td> <td>   -1.243</td> <td> 0.214</td> <td>   -0.101</td> <td>    0.023</td>\n",
       "</tr>\n",
       "<tr>\n",
       "  <th>ma.L1.D.bit_close</th> <td>    0.7829</td> <td>    0.087</td> <td>    9.030</td> <td> 0.000</td> <td>    0.613</td> <td>    0.953</td>\n",
       "</tr>\n",
       "</table>\n",
       "<table class=\"simpletable\">\n",
       "<caption>Roots</caption>\n",
       "<tr>\n",
       "    <td></td>   <th>            Real</th>  <th>         Imaginary</th> <th>         Modulus</th>  <th>        Frequency</th>\n",
       "</tr>\n",
       "<tr>\n",
       "  <th>AR.1</th> <td>          -1.4084</td> <td>          +0.0000j</td> <td>           1.4084</td> <td>           0.5000</td>\n",
       "</tr>\n",
       "<tr>\n",
       "  <th>AR.2</th> <td>         -18.0244</td> <td>          +0.0000j</td> <td>          18.0244</td> <td>           0.5000</td>\n",
       "</tr>\n",
       "<tr>\n",
       "  <th>MA.1</th> <td>          -1.2774</td> <td>          +0.0000j</td> <td>           1.2774</td> <td>           0.5000</td>\n",
       "</tr>\n",
       "</table>"
      ],
      "text/plain": [
       "<class 'statsmodels.iolib.summary.Summary'>\n",
       "\"\"\"\n",
       "                             ARIMA Model Results                              \n",
       "==============================================================================\n",
       "Dep. Variable:            D.bit_close   No. Observations:                 1090\n",
       "Model:                 ARIMA(2, 1, 1)   Log Likelihood               -7990.523\n",
       "Method:                       css-mle   S.D. of innovations            369.373\n",
       "Date:                Thu, 30 Jan 2020   AIC                          15989.046\n",
       "Time:                        15:58:55   BIC                          16009.021\n",
       "Sample:                    01-31-2017   HQIC                         15996.606\n",
       "                         - 01-25-2020                                         \n",
       "=====================================================================================\n",
       "                        coef    std err          z      P>|z|      [0.025      0.975]\n",
       "-------------------------------------------------------------------------------------\n",
       "ar.L1.D.bit_close    -0.7655      0.091     -8.374      0.000      -0.945      -0.586\n",
       "ar.L2.D.bit_close    -0.0394      0.032     -1.243      0.214      -0.101       0.023\n",
       "ma.L1.D.bit_close     0.7829      0.087      9.030      0.000       0.613       0.953\n",
       "                                    Roots                                    \n",
       "=============================================================================\n",
       "                  Real          Imaginary           Modulus         Frequency\n",
       "-----------------------------------------------------------------------------\n",
       "AR.1           -1.4084           +0.0000j            1.4084            0.5000\n",
       "AR.2          -18.0244           +0.0000j           18.0244            0.5000\n",
       "MA.1           -1.2774           +0.0000j            1.2774            0.5000\n",
       "-----------------------------------------------------------------------------\n",
       "\"\"\""
      ]
     },
     "execution_count": 89,
     "metadata": {},
     "output_type": "execute_result"
    }
   ],
   "source": [
    "arima_fit.summary()"
   ]
  },
  {
   "cell_type": "code",
   "execution_count": null,
   "metadata": {},
   "outputs": [],
   "source": []
  },
  {
   "cell_type": "code",
   "execution_count": null,
   "metadata": {},
   "outputs": [],
   "source": []
  },
  {
   "cell_type": "code",
   "execution_count": 96,
   "metadata": {},
   "outputs": [],
   "source": [
    "def arimamodel(timeseries):\n",
    "    automodel = pm.auto_arima(timeseries, \n",
    "                              start_p=1,\n",
    "                              max_p=5,\n",
    "                              start_q=1,\n",
    "                              max_q=5,\n",
    "                              test=\"kpss\",\n",
    "                              seasonal=True,\n",
    "                              trace=True)\n",
    "    return automodel"
   ]
  },
  {
   "cell_type": "code",
   "execution_count": 91,
   "metadata": {},
   "outputs": [],
   "source": [
    "def plotarima(n_periods, timeseries, automodel):\n",
    "    # Forecast\n",
    "    fc, confint = automodel.predict(n_periods=n_periods, \n",
    "                                    return_conf_int=True)\n",
    "    # Weekly index\n",
    "    fc_ind = pd.date_range(timeseries.index[timeseries.shape[0]-1], \n",
    "                           periods=n_periods, freq=\"W\")\n",
    "    # Forecast series\n",
    "    fc_series = pd.Series(fc, index=fc_ind)\n",
    "    # Upper and lower confidence bounds\n",
    "    lower_series = pd.Series(confint[:, 0], index=fc_ind)\n",
    "    upper_series = pd.Series(confint[:, 1], index=fc_ind)\n",
    "    # Create plot\n",
    "    plt.figure(figsize=(10, 6))\n",
    "    plt.plot(timeseries)\n",
    "    plt.plot(fc_series, color=\"red\")\n",
    "    plt.xlabel(\"date\")\n",
    "    plt.ylabel(timeseries.name)\n",
    "    plt.fill_between(lower_series.index, \n",
    "                     lower_series, \n",
    "                     upper_series, \n",
    "                     color=\"k\", \n",
    "                     alpha=0.25)\n",
    "    plt.legend((\"past\", \"forecast\", \"95% confidence interval\"),  \n",
    "               loc=\"upper left\")\n",
    "    plt.show()"
   ]
  },
  {
   "cell_type": "code",
   "execution_count": 100,
   "metadata": {},
   "outputs": [
    {
     "name": "stderr",
     "output_type": "stream",
     "text": [
      "C:\\dev\\Anaconda3\\lib\\site-packages\\statsmodels\\tsa\\statespace\\sarimax.py:949: UserWarning: Non-stationary starting autoregressive parameters found. Using zeros as starting parameters.\n",
      "  warn('Non-stationary starting autoregressive parameters'\n",
      "C:\\dev\\Anaconda3\\lib\\site-packages\\statsmodels\\tsa\\statespace\\sarimax.py:961: UserWarning: Non-invertible starting MA parameters found. Using zeros as starting parameters.\n",
      "  warn('Non-invertible starting MA parameters found.'\n"
     ]
    },
    {
     "name": "stdout",
     "output_type": "stream",
     "text": [
      "Fit ARIMA: order=(1, 1, 1) seasonal_order=(0, 0, 0, 1); AIC=15990.262, BIC=16010.238, Fit time=0.270 seconds\n",
      "Fit ARIMA: order=(0, 1, 0) seasonal_order=(0, 0, 0, 1); AIC=15991.483, BIC=16001.471, Fit time=0.020 seconds\n",
      "Fit ARIMA: order=(1, 1, 0) seasonal_order=(0, 0, 0, 1); AIC=15993.335, BIC=16008.317, Fit time=0.043 seconds\n",
      "Fit ARIMA: order=(0, 1, 1) seasonal_order=(0, 0, 0, 1); AIC=15993.340, BIC=16008.322, Fit time=0.043 seconds\n",
      "Fit ARIMA: order=(0, 1, 0) seasonal_order=(0, 0, 0, 1); AIC=15989.853, BIC=15994.847, Fit time=0.009 seconds\n",
      "Total fit time: 0.386 seconds\n"
     ]
    },
    {
     "data": {
      "image/png": "[encoded data removed]",
      "text/plain": [
       "<Figure size 720x432 with 1 Axes>"
      ]
     },
     "metadata": {
      "needs_background": "light"
     },
     "output_type": "display_data"
    }
   ],
   "source": [
    "automodel = arimamodel(featureTrain)\n",
    "plotarima(70, featureTest, automodel)"
   ]
  },
  {
   "cell_type": "code",
   "execution_count": null,
   "metadata": {},
   "outputs": [],
   "source": []
  },
  {
   "cell_type": "code",
   "execution_count": null,
   "metadata": {},
   "outputs": [],
   "source": []
  },
  {
   "cell_type": "code",
   "execution_count": null,
   "metadata": {},
   "outputs": [],
   "source": []
  },
  {
   "cell_type": "code",
   "execution_count": null,
   "metadata": {},
   "outputs": [],
   "source": []
  },
  {
   "cell_type": "code",
   "execution_count": 17,
   "metadata": {},
   "outputs": [
    {
     "name": "stdout",
     "output_type": "stream",
     "text": [
      "False    2578\n",
      "Name: bit_close, dtype: int64\n",
      "False    2578\n",
      "Name: bit_open, dtype: int64\n",
      "False    2578\n",
      "Name: gol_close, dtype: int64\n",
      "False    2578\n",
      "Name: gol_open, dtype: int64\n",
      "False    2578\n",
      "Name: dj_close, dtype: int64\n",
      "False    2578\n",
      "Name: dj_open, dtype: int64\n"
     ]
    }
   ],
   "source": [
    "# padding 안된값있는지 확인\n",
    "for cols in result_sub.columns :\n",
    "    print(result_sub.loc[:,cols].isnull().value_counts())"
   ]
  },
  {
   "cell_type": "code",
   "execution_count": 13,
   "metadata": {},
   "outputs": [
    {
     "data": {
      "text/html": [
       "<div>\n",
       "<style scoped>\n",
       "    .dataframe tbody tr th:only-of-type {\n",
       "        vertical-align: middle;\n",
       "    }\n",
       "\n",
       "    .dataframe tbody tr th {\n",
       "        vertical-align: top;\n",
       "    }\n",
       "\n",
       "    .dataframe thead th {\n",
       "        text-align: right;\n",
       "    }\n",
       "</style>\n",
       "<table border=\"1\" class=\"dataframe\">\n",
       "  <thead>\n",
       "    <tr style=\"text-align: right;\">\n",
       "      <th></th>\n",
       "      <th>bit_close</th>\n",
       "      <th>bit_open</th>\n",
       "      <th>gol_close</th>\n",
       "      <th>gol_open</th>\n",
       "      <th>dj_close</th>\n",
       "      <th>dj_open</th>\n",
       "    </tr>\n",
       "    <tr>\n",
       "      <th>date</th>\n",
       "      <th></th>\n",
       "      <th></th>\n",
       "      <th></th>\n",
       "      <th></th>\n",
       "      <th></th>\n",
       "      <th></th>\n",
       "    </tr>\n",
       "  </thead>\n",
       "  <tbody>\n",
       "    <tr>\n",
       "      <td>2020-01-29</td>\n",
       "      <td>9304.2</td>\n",
       "      <td>9390.9</td>\n",
       "      <td>1576.70</td>\n",
       "      <td>1567.65</td>\n",
       "      <td>28735.7</td>\n",
       "      <td>28820.53</td>\n",
       "    </tr>\n",
       "    <tr>\n",
       "      <td>2020-01-30</td>\n",
       "      <td>9322.5</td>\n",
       "      <td>9305.1</td>\n",
       "      <td>1575.95</td>\n",
       "      <td>1576.65</td>\n",
       "      <td>28735.7</td>\n",
       "      <td>28820.53</td>\n",
       "    </tr>\n",
       "  </tbody>\n",
       "</table>\n",
       "</div>"
      ],
      "text/plain": [
       "            bit_close  bit_open  gol_close  gol_open  dj_close   dj_open\n",
       "date                                                                    \n",
       "2020-01-29     9304.2    9390.9    1576.70   1567.65   28735.7  28820.53\n",
       "2020-01-30     9322.5    9305.1    1575.95   1576.65   28735.7  28820.53"
      ]
     },
     "execution_count": 13,
     "metadata": {},
     "output_type": "execute_result"
    }
   ],
   "source": [
    "result_sub.loc[recentlyDate:,:]"
   ]
  },
  {
   "cell_type": "code",
   "execution_count": 7,
   "metadata": {},
   "outputs": [],
   "source": [
    "dowjones_subDF = dowjones_DF.loc[:,['close','open']]\n",
    "gold_subDF = gold_DF.loc[:,['close','open']]\n",
    "bitcoin_subDF = bitcoin_DF.loc[:,['close','open']]"
   ]
  },
  {
   "cell_type": "code",
   "execution_count": 8,
   "metadata": {},
   "outputs": [],
   "source": [
    "dowjones_subDF = dowjones_subDF.add_prefix('dj_')\n",
    "gold_subDF = gold_subDF.add_prefix('gol_')\n",
    "bitcoin_subDF = bitcoin_subDF.add_prefix('bit_')"
   ]
  },
  {
   "cell_type": "code",
   "execution_count": 8,
   "metadata": {},
   "outputs": [
    {
     "data": {
      "text/html": [
       "<div>\n",
       "<style scoped>\n",
       "    .dataframe tbody tr th:only-of-type {\n",
       "        vertical-align: middle;\n",
       "    }\n",
       "\n",
       "    .dataframe tbody tr th {\n",
       "        vertical-align: top;\n",
       "    }\n",
       "\n",
       "    .dataframe thead th {\n",
       "        text-align: right;\n",
       "    }\n",
       "</style>\n",
       "<table border=\"1\" class=\"dataframe\">\n",
       "  <thead>\n",
       "    <tr style=\"text-align: right;\">\n",
       "      <th></th>\n",
       "      <th>close</th>\n",
       "      <th>open</th>\n",
       "      <th>high</th>\n",
       "      <th>low</th>\n",
       "      <th>volume</th>\n",
       "    </tr>\n",
       "    <tr>\n",
       "      <th>date</th>\n",
       "      <th></th>\n",
       "      <th></th>\n",
       "      <th></th>\n",
       "      <th></th>\n",
       "      <th></th>\n",
       "    </tr>\n",
       "  </thead>\n",
       "  <tbody>\n",
       "    <tr>\n",
       "      <td>2013-01-02</td>\n",
       "      <td>13.28</td>\n",
       "      <td>13.28</td>\n",
       "      <td>13.28</td>\n",
       "      <td>13.28</td>\n",
       "      <td>0.0</td>\n",
       "    </tr>\n",
       "    <tr>\n",
       "      <td>2013-01-03</td>\n",
       "      <td>13.40</td>\n",
       "      <td>13.40</td>\n",
       "      <td>13.40</td>\n",
       "      <td>13.40</td>\n",
       "      <td>0.0</td>\n",
       "    </tr>\n",
       "    <tr>\n",
       "      <td>2013-01-04</td>\n",
       "      <td>13.50</td>\n",
       "      <td>13.50</td>\n",
       "      <td>13.50</td>\n",
       "      <td>13.50</td>\n",
       "      <td>0.0</td>\n",
       "    </tr>\n",
       "    <tr>\n",
       "      <td>2013-01-05</td>\n",
       "      <td>13.44</td>\n",
       "      <td>13.44</td>\n",
       "      <td>13.44</td>\n",
       "      <td>13.44</td>\n",
       "      <td>0.0</td>\n",
       "    </tr>\n",
       "    <tr>\n",
       "      <td>2013-01-06</td>\n",
       "      <td>13.45</td>\n",
       "      <td>13.45</td>\n",
       "      <td>13.45</td>\n",
       "      <td>13.45</td>\n",
       "      <td>0.0</td>\n",
       "    </tr>\n",
       "    <tr>\n",
       "      <td>...</td>\n",
       "      <td>...</td>\n",
       "      <td>...</td>\n",
       "      <td>...</td>\n",
       "      <td>...</td>\n",
       "      <td>...</td>\n",
       "    </tr>\n",
       "    <tr>\n",
       "      <td>2020-01-18</td>\n",
       "      <td>8891.50</td>\n",
       "      <td>8873.10</td>\n",
       "      <td>8965.00</td>\n",
       "      <td>8794.23</td>\n",
       "      <td>3460.0</td>\n",
       "    </tr>\n",
       "    <tr>\n",
       "      <td>2020-01-19</td>\n",
       "      <td>8694.00</td>\n",
       "      <td>8891.60</td>\n",
       "      <td>9169.50</td>\n",
       "      <td>8455.70</td>\n",
       "      <td>12410.0</td>\n",
       "    </tr>\n",
       "    <tr>\n",
       "      <td>2020-01-20</td>\n",
       "      <td>8667.44</td>\n",
       "      <td>8698.60</td>\n",
       "      <td>8720.00</td>\n",
       "      <td>8630.00</td>\n",
       "      <td>9260.0</td>\n",
       "    </tr>\n",
       "    <tr>\n",
       "      <td>2020-01-21</td>\n",
       "      <td>8734.10</td>\n",
       "      <td>8638.20</td>\n",
       "      <td>8782.80</td>\n",
       "      <td>8512.20</td>\n",
       "      <td>3250.0</td>\n",
       "    </tr>\n",
       "    <tr>\n",
       "      <td>2020-01-22</td>\n",
       "      <td>8724.80</td>\n",
       "      <td>8734.20</td>\n",
       "      <td>8799.90</td>\n",
       "      <td>8689.18</td>\n",
       "      <td>3490.0</td>\n",
       "    </tr>\n",
       "  </tbody>\n",
       "</table>\n",
       "<p>2560 rows × 5 columns</p>\n",
       "</div>"
      ],
      "text/plain": [
       "              close     open     high      low   volume\n",
       "date                                                   \n",
       "2013-01-02    13.28    13.28    13.28    13.28      0.0\n",
       "2013-01-03    13.40    13.40    13.40    13.40      0.0\n",
       "2013-01-04    13.50    13.50    13.50    13.50      0.0\n",
       "2013-01-05    13.44    13.44    13.44    13.44      0.0\n",
       "2013-01-06    13.45    13.45    13.45    13.45      0.0\n",
       "...             ...      ...      ...      ...      ...\n",
       "2020-01-18  8891.50  8873.10  8965.00  8794.23   3460.0\n",
       "2020-01-19  8694.00  8891.60  9169.50  8455.70  12410.0\n",
       "2020-01-20  8667.44  8698.60  8720.00  8630.00   9260.0\n",
       "2020-01-21  8734.10  8638.20  8782.80  8512.20   3250.0\n",
       "2020-01-22  8724.80  8734.20  8799.90  8689.18   3490.0\n",
       "\n",
       "[2560 rows x 5 columns]"
      ]
     },
     "execution_count": 8,
     "metadata": {},
     "output_type": "execute_result"
    }
   ],
   "source": [
    "bitcoin_DF"
   ]
  },
  {
   "cell_type": "code",
   "execution_count": 14,
   "metadata": {},
   "outputs": [],
   "source": [
    "result = pd.concat([dowjones_DF,gold_DF,bitcoin_DF], axis=1, sort=False)"
   ]
  },
  {
   "cell_type": "code",
   "execution_count": 9,
   "metadata": {},
   "outputs": [],
   "source": [
    "result_sub = pd.concat([bitcoin_subDF, gold_subDF, dowjones_subDF], axis = 1, sort=False)"
   ]
  },
  {
   "cell_type": "code",
   "execution_count": 9,
   "metadata": {},
   "outputs": [
    {
     "data": {
      "text/html": [
       "<div>\n",
       "<style scoped>\n",
       "    .dataframe tbody tr th:only-of-type {\n",
       "        vertical-align: middle;\n",
       "    }\n",
       "\n",
       "    .dataframe tbody tr th {\n",
       "        vertical-align: top;\n",
       "    }\n",
       "\n",
       "    .dataframe thead th {\n",
       "        text-align: right;\n",
       "    }\n",
       "</style>\n",
       "<table border=\"1\" class=\"dataframe\">\n",
       "  <thead>\n",
       "    <tr style=\"text-align: right;\">\n",
       "      <th></th>\n",
       "      <th>bit_close</th>\n",
       "      <th>bit_open</th>\n",
       "      <th>gol_close</th>\n",
       "      <th>gol_open</th>\n",
       "      <th>dj_close</th>\n",
       "      <th>dj_open</th>\n",
       "    </tr>\n",
       "    <tr>\n",
       "      <th>date</th>\n",
       "      <th></th>\n",
       "      <th></th>\n",
       "      <th></th>\n",
       "      <th></th>\n",
       "      <th></th>\n",
       "      <th></th>\n",
       "    </tr>\n",
       "  </thead>\n",
       "  <tbody>\n",
       "    <tr>\n",
       "      <td>2013-01-02</td>\n",
       "      <td>13.28</td>\n",
       "      <td>13.28</td>\n",
       "      <td>1687.90</td>\n",
       "      <td>1672.80</td>\n",
       "      <td>13412.55</td>\n",
       "      <td>13104.30</td>\n",
       "    </tr>\n",
       "    <tr>\n",
       "      <td>2013-01-03</td>\n",
       "      <td>13.40</td>\n",
       "      <td>13.40</td>\n",
       "      <td>1673.70</td>\n",
       "      <td>1686.10</td>\n",
       "      <td>13391.36</td>\n",
       "      <td>13413.01</td>\n",
       "    </tr>\n",
       "    <tr>\n",
       "      <td>2013-01-04</td>\n",
       "      <td>13.50</td>\n",
       "      <td>13.50</td>\n",
       "      <td>1648.10</td>\n",
       "      <td>1647.00</td>\n",
       "      <td>13435.21</td>\n",
       "      <td>13391.05</td>\n",
       "    </tr>\n",
       "    <tr>\n",
       "      <td>2013-01-05</td>\n",
       "      <td>13.44</td>\n",
       "      <td>13.44</td>\n",
       "      <td>NaN</td>\n",
       "      <td>NaN</td>\n",
       "      <td>NaN</td>\n",
       "      <td>NaN</td>\n",
       "    </tr>\n",
       "    <tr>\n",
       "      <td>2013-01-06</td>\n",
       "      <td>13.45</td>\n",
       "      <td>13.45</td>\n",
       "      <td>NaN</td>\n",
       "      <td>NaN</td>\n",
       "      <td>NaN</td>\n",
       "      <td>NaN</td>\n",
       "    </tr>\n",
       "    <tr>\n",
       "      <td>...</td>\n",
       "      <td>...</td>\n",
       "      <td>...</td>\n",
       "      <td>...</td>\n",
       "      <td>...</td>\n",
       "      <td>...</td>\n",
       "      <td>...</td>\n",
       "    </tr>\n",
       "    <tr>\n",
       "      <td>2020-01-18</td>\n",
       "      <td>8891.50</td>\n",
       "      <td>8873.10</td>\n",
       "      <td>NaN</td>\n",
       "      <td>NaN</td>\n",
       "      <td>NaN</td>\n",
       "      <td>NaN</td>\n",
       "    </tr>\n",
       "    <tr>\n",
       "      <td>2020-01-19</td>\n",
       "      <td>8694.00</td>\n",
       "      <td>8891.60</td>\n",
       "      <td>1557.05</td>\n",
       "      <td>1557.40</td>\n",
       "      <td>NaN</td>\n",
       "      <td>NaN</td>\n",
       "    </tr>\n",
       "    <tr>\n",
       "      <td>2020-01-20</td>\n",
       "      <td>8667.44</td>\n",
       "      <td>8698.60</td>\n",
       "      <td>1562.05</td>\n",
       "      <td>1557.20</td>\n",
       "      <td>NaN</td>\n",
       "      <td>NaN</td>\n",
       "    </tr>\n",
       "    <tr>\n",
       "      <td>2020-01-21</td>\n",
       "      <td>8734.10</td>\n",
       "      <td>8638.20</td>\n",
       "      <td>1557.90</td>\n",
       "      <td>1557.30</td>\n",
       "      <td>29196.04</td>\n",
       "      <td>29269.05</td>\n",
       "    </tr>\n",
       "    <tr>\n",
       "      <td>2020-01-22</td>\n",
       "      <td>8724.80</td>\n",
       "      <td>8734.20</td>\n",
       "      <td>1554.30</td>\n",
       "      <td>1556.25</td>\n",
       "      <td>29186.27</td>\n",
       "      <td>29263.63</td>\n",
       "    </tr>\n",
       "  </tbody>\n",
       "</table>\n",
       "<p>2570 rows × 6 columns</p>\n",
       "</div>"
      ],
      "text/plain": [
       "            bit_close  bit_open  gol_close  gol_open  dj_close   dj_open\n",
       "date                                                                    \n",
       "2013-01-02      13.28     13.28    1687.90   1672.80  13412.55  13104.30\n",
       "2013-01-03      13.40     13.40    1673.70   1686.10  13391.36  13413.01\n",
       "2013-01-04      13.50     13.50    1648.10   1647.00  13435.21  13391.05\n",
       "2013-01-05      13.44     13.44        NaN       NaN       NaN       NaN\n",
       "2013-01-06      13.45     13.45        NaN       NaN       NaN       NaN\n",
       "...               ...       ...        ...       ...       ...       ...\n",
       "2020-01-18    8891.50   8873.10        NaN       NaN       NaN       NaN\n",
       "2020-01-19    8694.00   8891.60    1557.05   1557.40       NaN       NaN\n",
       "2020-01-20    8667.44   8698.60    1562.05   1557.20       NaN       NaN\n",
       "2020-01-21    8734.10   8638.20    1557.90   1557.30  29196.04  29269.05\n",
       "2020-01-22    8724.80   8734.20    1554.30   1556.25  29186.27  29263.63\n",
       "\n",
       "[2570 rows x 6 columns]"
      ]
     },
     "execution_count": 9,
     "metadata": {},
     "output_type": "execute_result"
    }
   ],
   "source": [
    "result_sub"
   ]
  },
  {
   "cell_type": "code",
   "execution_count": 10,
   "metadata": {
    "collapsed": true
   },
   "outputs": [
    {
     "data": {
      "text/html": [
       "<div>\n",
       "<style scoped>\n",
       "    .dataframe tbody tr th:only-of-type {\n",
       "        vertical-align: middle;\n",
       "    }\n",
       "\n",
       "    .dataframe tbody tr th {\n",
       "        vertical-align: top;\n",
       "    }\n",
       "\n",
       "    .dataframe thead th {\n",
       "        text-align: right;\n",
       "    }\n",
       "</style>\n",
       "<table border=\"1\" class=\"dataframe\">\n",
       "  <thead>\n",
       "    <tr style=\"text-align: right;\">\n",
       "      <th></th>\n",
       "      <th>close</th>\n",
       "      <th>open</th>\n",
       "      <th>high</th>\n",
       "      <th>low</th>\n",
       "      <th>volume</th>\n",
       "      <th>close</th>\n",
       "      <th>open</th>\n",
       "      <th>high</th>\n",
       "      <th>low</th>\n",
       "      <th>volume</th>\n",
       "      <th>close</th>\n",
       "      <th>open</th>\n",
       "      <th>high</th>\n",
       "      <th>low</th>\n",
       "      <th>volume</th>\n",
       "    </tr>\n",
       "  </thead>\n",
       "  <tbody>\n",
       "    <tr>\n",
       "      <td>2013-01-02</td>\n",
       "      <td>13412.55</td>\n",
       "      <td>13104.30</td>\n",
       "      <td>13412.71</td>\n",
       "      <td>13104.30</td>\n",
       "      <td>161430000.0</td>\n",
       "      <td>1687.9</td>\n",
       "      <td>1672.8</td>\n",
       "      <td>1693.8</td>\n",
       "      <td>1670.0</td>\n",
       "      <td>40.0</td>\n",
       "      <td>13.28</td>\n",
       "      <td>13.28</td>\n",
       "      <td>13.28</td>\n",
       "      <td>13.28</td>\n",
       "      <td>0.0</td>\n",
       "    </tr>\n",
       "    <tr>\n",
       "      <td>2013-01-03</td>\n",
       "      <td>13391.36</td>\n",
       "      <td>13413.01</td>\n",
       "      <td>13430.60</td>\n",
       "      <td>13358.30</td>\n",
       "      <td>129630000.0</td>\n",
       "      <td>1673.7</td>\n",
       "      <td>1686.1</td>\n",
       "      <td>1686.8</td>\n",
       "      <td>1662.0</td>\n",
       "      <td>140.0</td>\n",
       "      <td>13.40</td>\n",
       "      <td>13.40</td>\n",
       "      <td>13.40</td>\n",
       "      <td>13.40</td>\n",
       "      <td>0.0</td>\n",
       "    </tr>\n",
       "    <tr>\n",
       "      <td>2013-01-04</td>\n",
       "      <td>13435.21</td>\n",
       "      <td>13391.05</td>\n",
       "      <td>13447.11</td>\n",
       "      <td>13376.23</td>\n",
       "      <td>107590000.0</td>\n",
       "      <td>1648.1</td>\n",
       "      <td>1647.0</td>\n",
       "      <td>1658.3</td>\n",
       "      <td>1625.7</td>\n",
       "      <td>200.0</td>\n",
       "      <td>13.50</td>\n",
       "      <td>13.50</td>\n",
       "      <td>13.50</td>\n",
       "      <td>13.50</td>\n",
       "      <td>0.0</td>\n",
       "    </tr>\n",
       "    <tr>\n",
       "      <td>2013-01-07</td>\n",
       "      <td>13384.29</td>\n",
       "      <td>13436.13</td>\n",
       "      <td>13436.13</td>\n",
       "      <td>13343.32</td>\n",
       "      <td>113120000.0</td>\n",
       "      <td>1645.5</td>\n",
       "      <td>1656.5</td>\n",
       "      <td>1659.9</td>\n",
       "      <td>1643.8</td>\n",
       "      <td>50.0</td>\n",
       "      <td>13.59</td>\n",
       "      <td>13.59</td>\n",
       "      <td>13.59</td>\n",
       "      <td>13.59</td>\n",
       "      <td>0.0</td>\n",
       "    </tr>\n",
       "    <tr>\n",
       "      <td>2013-01-08</td>\n",
       "      <td>13328.85</td>\n",
       "      <td>13377.42</td>\n",
       "      <td>13377.42</td>\n",
       "      <td>13293.13</td>\n",
       "      <td>129570000.0</td>\n",
       "      <td>1661.5</td>\n",
       "      <td>1647.7</td>\n",
       "      <td>1659.5</td>\n",
       "      <td>1647.7</td>\n",
       "      <td>20.0</td>\n",
       "      <td>13.74</td>\n",
       "      <td>13.74</td>\n",
       "      <td>13.74</td>\n",
       "      <td>13.74</td>\n",
       "      <td>0.0</td>\n",
       "    </tr>\n",
       "    <tr>\n",
       "      <td>...</td>\n",
       "      <td>...</td>\n",
       "      <td>...</td>\n",
       "      <td>...</td>\n",
       "      <td>...</td>\n",
       "      <td>...</td>\n",
       "      <td>...</td>\n",
       "      <td>...</td>\n",
       "      <td>...</td>\n",
       "      <td>...</td>\n",
       "      <td>...</td>\n",
       "      <td>...</td>\n",
       "      <td>...</td>\n",
       "      <td>...</td>\n",
       "      <td>...</td>\n",
       "      <td>...</td>\n",
       "    </tr>\n",
       "    <tr>\n",
       "      <td>2020-01-04</td>\n",
       "      <td>NaN</td>\n",
       "      <td>NaN</td>\n",
       "      <td>NaN</td>\n",
       "      <td>NaN</td>\n",
       "      <td>NaN</td>\n",
       "      <td>NaN</td>\n",
       "      <td>NaN</td>\n",
       "      <td>NaN</td>\n",
       "      <td>NaN</td>\n",
       "      <td>NaN</td>\n",
       "      <td>7369.83</td>\n",
       "      <td>7371.80</td>\n",
       "      <td>7422.00</td>\n",
       "      <td>7297.70</td>\n",
       "      <td>4270.0</td>\n",
       "    </tr>\n",
       "    <tr>\n",
       "      <td>2020-01-05</td>\n",
       "      <td>NaN</td>\n",
       "      <td>NaN</td>\n",
       "      <td>NaN</td>\n",
       "      <td>NaN</td>\n",
       "      <td>NaN</td>\n",
       "      <td>NaN</td>\n",
       "      <td>NaN</td>\n",
       "      <td>NaN</td>\n",
       "      <td>NaN</td>\n",
       "      <td>NaN</td>\n",
       "      <td>7364.60</td>\n",
       "      <td>7370.30</td>\n",
       "      <td>7509.90</td>\n",
       "      <td>7315.80</td>\n",
       "      <td>4450.0</td>\n",
       "    </tr>\n",
       "    <tr>\n",
       "      <td>2020-01-11</td>\n",
       "      <td>NaN</td>\n",
       "      <td>NaN</td>\n",
       "      <td>NaN</td>\n",
       "      <td>NaN</td>\n",
       "      <td>NaN</td>\n",
       "      <td>NaN</td>\n",
       "      <td>NaN</td>\n",
       "      <td>NaN</td>\n",
       "      <td>NaN</td>\n",
       "      <td>NaN</td>\n",
       "      <td>8013.80</td>\n",
       "      <td>8184.30</td>\n",
       "      <td>8271.90</td>\n",
       "      <td>7994.60</td>\n",
       "      <td>4250.0</td>\n",
       "    </tr>\n",
       "    <tr>\n",
       "      <td>2020-01-12</td>\n",
       "      <td>NaN</td>\n",
       "      <td>NaN</td>\n",
       "      <td>NaN</td>\n",
       "      <td>NaN</td>\n",
       "      <td>NaN</td>\n",
       "      <td>NaN</td>\n",
       "      <td>NaN</td>\n",
       "      <td>NaN</td>\n",
       "      <td>NaN</td>\n",
       "      <td>NaN</td>\n",
       "      <td>8174.70</td>\n",
       "      <td>8013.63</td>\n",
       "      <td>8174.70</td>\n",
       "      <td>7951.70</td>\n",
       "      <td>3210.0</td>\n",
       "    </tr>\n",
       "    <tr>\n",
       "      <td>2020-01-18</td>\n",
       "      <td>NaN</td>\n",
       "      <td>NaN</td>\n",
       "      <td>NaN</td>\n",
       "      <td>NaN</td>\n",
       "      <td>NaN</td>\n",
       "      <td>NaN</td>\n",
       "      <td>NaN</td>\n",
       "      <td>NaN</td>\n",
       "      <td>NaN</td>\n",
       "      <td>NaN</td>\n",
       "      <td>8891.50</td>\n",
       "      <td>8873.10</td>\n",
       "      <td>8965.00</td>\n",
       "      <td>8794.23</td>\n",
       "      <td>3460.0</td>\n",
       "    </tr>\n",
       "  </tbody>\n",
       "</table>\n",
       "<p>2570 rows × 15 columns</p>\n",
       "</div>"
      ],
      "text/plain": [
       "               close      open      high       low       volume   close  \\\n",
       "2013-01-02  13412.55  13104.30  13412.71  13104.30  161430000.0  1687.9   \n",
       "2013-01-03  13391.36  13413.01  13430.60  13358.30  129630000.0  1673.7   \n",
       "2013-01-04  13435.21  13391.05  13447.11  13376.23  107590000.0  1648.1   \n",
       "2013-01-07  13384.29  13436.13  13436.13  13343.32  113120000.0  1645.5   \n",
       "2013-01-08  13328.85  13377.42  13377.42  13293.13  129570000.0  1661.5   \n",
       "...              ...       ...       ...       ...          ...     ...   \n",
       "2020-01-04       NaN       NaN       NaN       NaN          NaN     NaN   \n",
       "2020-01-05       NaN       NaN       NaN       NaN          NaN     NaN   \n",
       "2020-01-11       NaN       NaN       NaN       NaN          NaN     NaN   \n",
       "2020-01-12       NaN       NaN       NaN       NaN          NaN     NaN   \n",
       "2020-01-18       NaN       NaN       NaN       NaN          NaN     NaN   \n",
       "\n",
       "              open    high     low  volume    close     open     high  \\\n",
       "2013-01-02  1672.8  1693.8  1670.0    40.0    13.28    13.28    13.28   \n",
       "2013-01-03  1686.1  1686.8  1662.0   140.0    13.40    13.40    13.40   \n",
       "2013-01-04  1647.0  1658.3  1625.7   200.0    13.50    13.50    13.50   \n",
       "2013-01-07  1656.5  1659.9  1643.8    50.0    13.59    13.59    13.59   \n",
       "2013-01-08  1647.7  1659.5  1647.7    20.0    13.74    13.74    13.74   \n",
       "...            ...     ...     ...     ...      ...      ...      ...   \n",
       "2020-01-04     NaN     NaN     NaN     NaN  7369.83  7371.80  7422.00   \n",
       "2020-01-05     NaN     NaN     NaN     NaN  7364.60  7370.30  7509.90   \n",
       "2020-01-11     NaN     NaN     NaN     NaN  8013.80  8184.30  8271.90   \n",
       "2020-01-12     NaN     NaN     NaN     NaN  8174.70  8013.63  8174.70   \n",
       "2020-01-18     NaN     NaN     NaN     NaN  8891.50  8873.10  8965.00   \n",
       "\n",
       "                low  volume  \n",
       "2013-01-02    13.28     0.0  \n",
       "2013-01-03    13.40     0.0  \n",
       "2013-01-04    13.50     0.0  \n",
       "2013-01-07    13.59     0.0  \n",
       "2013-01-08    13.74     0.0  \n",
       "...             ...     ...  \n",
       "2020-01-04  7297.70  4270.0  \n",
       "2020-01-05  7315.80  4450.0  \n",
       "2020-01-11  7994.60  4250.0  \n",
       "2020-01-12  7951.70  3210.0  \n",
       "2020-01-18  8794.23  3460.0  \n",
       "\n",
       "[2570 rows x 15 columns]"
      ]
     },
     "execution_count": 10,
     "metadata": {},
     "output_type": "execute_result"
    }
   ],
   "source": [
    "result"
   ]
  },
  {
   "cell_type": "code",
   "execution_count": 15,
   "metadata": {
    "collapsed": true
   },
   "outputs": [
    {
     "data": {
      "text/html": [
       "<div>\n",
       "<style scoped>\n",
       "    .dataframe tbody tr th:only-of-type {\n",
       "        vertical-align: middle;\n",
       "    }\n",
       "\n",
       "    .dataframe tbody tr th {\n",
       "        vertical-align: top;\n",
       "    }\n",
       "\n",
       "    .dataframe thead th {\n",
       "        text-align: right;\n",
       "    }\n",
       "</style>\n",
       "<table border=\"1\" class=\"dataframe\">\n",
       "  <thead>\n",
       "    <tr style=\"text-align: right;\">\n",
       "      <th></th>\n",
       "      <th>close</th>\n",
       "      <th>open</th>\n",
       "      <th>high</th>\n",
       "      <th>low</th>\n",
       "      <th>volume</th>\n",
       "      <th>close</th>\n",
       "      <th>open</th>\n",
       "      <th>high</th>\n",
       "      <th>low</th>\n",
       "      <th>volume</th>\n",
       "      <th>close</th>\n",
       "      <th>open</th>\n",
       "      <th>high</th>\n",
       "      <th>low</th>\n",
       "      <th>volume</th>\n",
       "    </tr>\n",
       "  </thead>\n",
       "  <tbody>\n",
       "    <tr>\n",
       "      <td>2013-01-02</td>\n",
       "      <td>13412.55</td>\n",
       "      <td>13104.30</td>\n",
       "      <td>13412.71</td>\n",
       "      <td>13104.30</td>\n",
       "      <td>161430000.0</td>\n",
       "      <td>1687.9</td>\n",
       "      <td>1672.8</td>\n",
       "      <td>1693.8</td>\n",
       "      <td>1670.0</td>\n",
       "      <td>40.0</td>\n",
       "      <td>13.28</td>\n",
       "      <td>13.28</td>\n",
       "      <td>13.28</td>\n",
       "      <td>13.28</td>\n",
       "      <td>0.0</td>\n",
       "    </tr>\n",
       "    <tr>\n",
       "      <td>2013-01-03</td>\n",
       "      <td>13391.36</td>\n",
       "      <td>13413.01</td>\n",
       "      <td>13430.60</td>\n",
       "      <td>13358.30</td>\n",
       "      <td>129630000.0</td>\n",
       "      <td>1673.7</td>\n",
       "      <td>1686.1</td>\n",
       "      <td>1686.8</td>\n",
       "      <td>1662.0</td>\n",
       "      <td>140.0</td>\n",
       "      <td>13.40</td>\n",
       "      <td>13.40</td>\n",
       "      <td>13.40</td>\n",
       "      <td>13.40</td>\n",
       "      <td>0.0</td>\n",
       "    </tr>\n",
       "    <tr>\n",
       "      <td>2013-01-04</td>\n",
       "      <td>13435.21</td>\n",
       "      <td>13391.05</td>\n",
       "      <td>13447.11</td>\n",
       "      <td>13376.23</td>\n",
       "      <td>107590000.0</td>\n",
       "      <td>1648.1</td>\n",
       "      <td>1647.0</td>\n",
       "      <td>1658.3</td>\n",
       "      <td>1625.7</td>\n",
       "      <td>200.0</td>\n",
       "      <td>13.50</td>\n",
       "      <td>13.50</td>\n",
       "      <td>13.50</td>\n",
       "      <td>13.50</td>\n",
       "      <td>0.0</td>\n",
       "    </tr>\n",
       "    <tr>\n",
       "      <td>2013-01-07</td>\n",
       "      <td>13384.29</td>\n",
       "      <td>13436.13</td>\n",
       "      <td>13436.13</td>\n",
       "      <td>13343.32</td>\n",
       "      <td>113120000.0</td>\n",
       "      <td>1645.5</td>\n",
       "      <td>1656.5</td>\n",
       "      <td>1659.9</td>\n",
       "      <td>1643.8</td>\n",
       "      <td>50.0</td>\n",
       "      <td>13.59</td>\n",
       "      <td>13.59</td>\n",
       "      <td>13.59</td>\n",
       "      <td>13.59</td>\n",
       "      <td>0.0</td>\n",
       "    </tr>\n",
       "    <tr>\n",
       "      <td>2013-01-08</td>\n",
       "      <td>13328.85</td>\n",
       "      <td>13377.42</td>\n",
       "      <td>13377.42</td>\n",
       "      <td>13293.13</td>\n",
       "      <td>129570000.0</td>\n",
       "      <td>1661.5</td>\n",
       "      <td>1647.7</td>\n",
       "      <td>1659.5</td>\n",
       "      <td>1647.7</td>\n",
       "      <td>20.0</td>\n",
       "      <td>13.74</td>\n",
       "      <td>13.74</td>\n",
       "      <td>13.74</td>\n",
       "      <td>13.74</td>\n",
       "      <td>0.0</td>\n",
       "    </tr>\n",
       "    <tr>\n",
       "      <td>...</td>\n",
       "      <td>...</td>\n",
       "      <td>...</td>\n",
       "      <td>...</td>\n",
       "      <td>...</td>\n",
       "      <td>...</td>\n",
       "      <td>...</td>\n",
       "      <td>...</td>\n",
       "      <td>...</td>\n",
       "      <td>...</td>\n",
       "      <td>...</td>\n",
       "      <td>...</td>\n",
       "      <td>...</td>\n",
       "      <td>...</td>\n",
       "      <td>...</td>\n",
       "      <td>...</td>\n",
       "    </tr>\n",
       "    <tr>\n",
       "      <td>2020-01-14</td>\n",
       "      <td>28939.67</td>\n",
       "      <td>28895.50</td>\n",
       "      <td>29054.16</td>\n",
       "      <td>28872.27</td>\n",
       "      <td>296040000.0</td>\n",
       "      <td>1544.6</td>\n",
       "      <td>1548.6</td>\n",
       "      <td>1549.5</td>\n",
       "      <td>1536.4</td>\n",
       "      <td>340910.0</td>\n",
       "      <td>8775.60</td>\n",
       "      <td>8104.10</td>\n",
       "      <td>8829.00</td>\n",
       "      <td>8099.30</td>\n",
       "      <td>16570.0</td>\n",
       "    </tr>\n",
       "    <tr>\n",
       "      <td>2020-01-15</td>\n",
       "      <td>29030.22</td>\n",
       "      <td>28901.80</td>\n",
       "      <td>29127.59</td>\n",
       "      <td>28897.35</td>\n",
       "      <td>263430000.0</td>\n",
       "      <td>1554.0</td>\n",
       "      <td>1546.8</td>\n",
       "      <td>1558.8</td>\n",
       "      <td>1546.5</td>\n",
       "      <td>310070.0</td>\n",
       "      <td>8807.70</td>\n",
       "      <td>8760.84</td>\n",
       "      <td>8873.00</td>\n",
       "      <td>8560.20</td>\n",
       "      <td>8780.0</td>\n",
       "    </tr>\n",
       "    <tr>\n",
       "      <td>2020-01-16</td>\n",
       "      <td>29297.64</td>\n",
       "      <td>29131.95</td>\n",
       "      <td>29300.32</td>\n",
       "      <td>29131.95</td>\n",
       "      <td>252110000.0</td>\n",
       "      <td>1550.5</td>\n",
       "      <td>1556.6</td>\n",
       "      <td>1558.2</td>\n",
       "      <td>1548.0</td>\n",
       "      <td>260050.0</td>\n",
       "      <td>8720.60</td>\n",
       "      <td>8810.90</td>\n",
       "      <td>8839.90</td>\n",
       "      <td>8579.80</td>\n",
       "      <td>5310.0</td>\n",
       "    </tr>\n",
       "    <tr>\n",
       "      <td>2020-01-17</td>\n",
       "      <td>29348.10</td>\n",
       "      <td>29313.31</td>\n",
       "      <td>29373.62</td>\n",
       "      <td>29289.91</td>\n",
       "      <td>336870000.0</td>\n",
       "      <td>1560.3</td>\n",
       "      <td>1553.0</td>\n",
       "      <td>1561.4</td>\n",
       "      <td>1549.3</td>\n",
       "      <td>264930.0</td>\n",
       "      <td>8875.40</td>\n",
       "      <td>8719.55</td>\n",
       "      <td>8994.90</td>\n",
       "      <td>8674.20</td>\n",
       "      <td>9690.0</td>\n",
       "    </tr>\n",
       "    <tr>\n",
       "      <td>2020-01-21</td>\n",
       "      <td>29196.04</td>\n",
       "      <td>29269.05</td>\n",
       "      <td>29341.21</td>\n",
       "      <td>29146.47</td>\n",
       "      <td>320640000.0</td>\n",
       "      <td>1557.9</td>\n",
       "      <td>1557.3</td>\n",
       "      <td>1568.8</td>\n",
       "      <td>1546.0</td>\n",
       "      <td>462620.0</td>\n",
       "      <td>8734.10</td>\n",
       "      <td>8638.20</td>\n",
       "      <td>8782.80</td>\n",
       "      <td>8512.20</td>\n",
       "      <td>3250.0</td>\n",
       "    </tr>\n",
       "  </tbody>\n",
       "</table>\n",
       "<p>1765 rows × 15 columns</p>\n",
       "</div>"
      ],
      "text/plain": [
       "               close      open      high       low       volume   close  \\\n",
       "2013-01-02  13412.55  13104.30  13412.71  13104.30  161430000.0  1687.9   \n",
       "2013-01-03  13391.36  13413.01  13430.60  13358.30  129630000.0  1673.7   \n",
       "2013-01-04  13435.21  13391.05  13447.11  13376.23  107590000.0  1648.1   \n",
       "2013-01-07  13384.29  13436.13  13436.13  13343.32  113120000.0  1645.5   \n",
       "2013-01-08  13328.85  13377.42  13377.42  13293.13  129570000.0  1661.5   \n",
       "...              ...       ...       ...       ...          ...     ...   \n",
       "2020-01-14  28939.67  28895.50  29054.16  28872.27  296040000.0  1544.6   \n",
       "2020-01-15  29030.22  28901.80  29127.59  28897.35  263430000.0  1554.0   \n",
       "2020-01-16  29297.64  29131.95  29300.32  29131.95  252110000.0  1550.5   \n",
       "2020-01-17  29348.10  29313.31  29373.62  29289.91  336870000.0  1560.3   \n",
       "2020-01-21  29196.04  29269.05  29341.21  29146.47  320640000.0  1557.9   \n",
       "\n",
       "              open    high     low    volume    close     open     high  \\\n",
       "2013-01-02  1672.8  1693.8  1670.0      40.0    13.28    13.28    13.28   \n",
       "2013-01-03  1686.1  1686.8  1662.0     140.0    13.40    13.40    13.40   \n",
       "2013-01-04  1647.0  1658.3  1625.7     200.0    13.50    13.50    13.50   \n",
       "2013-01-07  1656.5  1659.9  1643.8      50.0    13.59    13.59    13.59   \n",
       "2013-01-08  1647.7  1659.5  1647.7      20.0    13.74    13.74    13.74   \n",
       "...            ...     ...     ...       ...      ...      ...      ...   \n",
       "2020-01-14  1548.6  1549.5  1536.4  340910.0  8775.60  8104.10  8829.00   \n",
       "2020-01-15  1546.8  1558.8  1546.5  310070.0  8807.70  8760.84  8873.00   \n",
       "2020-01-16  1556.6  1558.2  1548.0  260050.0  8720.60  8810.90  8839.90   \n",
       "2020-01-17  1553.0  1561.4  1549.3  264930.0  8875.40  8719.55  8994.90   \n",
       "2020-01-21  1557.3  1568.8  1546.0  462620.0  8734.10  8638.20  8782.80   \n",
       "\n",
       "                low   volume  \n",
       "2013-01-02    13.28      0.0  \n",
       "2013-01-03    13.40      0.0  \n",
       "2013-01-04    13.50      0.0  \n",
       "2013-01-07    13.59      0.0  \n",
       "2013-01-08    13.74      0.0  \n",
       "...             ...      ...  \n",
       "2020-01-14  8099.30  16570.0  \n",
       "2020-01-15  8560.20   8780.0  \n",
       "2020-01-16  8579.80   5310.0  \n",
       "2020-01-17  8674.20   9690.0  \n",
       "2020-01-21  8512.20   3250.0  \n",
       "\n",
       "[1765 rows x 15 columns]"
      ]
     },
     "execution_count": 15,
     "metadata": {},
     "output_type": "execute_result"
    }
   ],
   "source": [
    "result.dropna()"
   ]
  },
  {
   "cell_type": "code",
   "execution_count": 21,
   "metadata": {},
   "outputs": [],
   "source": [
    "result_sub_drop = result_sub.dropna()"
   ]
  },
  {
   "cell_type": "code",
   "execution_count": 15,
   "metadata": {},
   "outputs": [
    {
     "data": {
      "text/plain": [
       "DatetimeIndex(['2013-01-02', '2013-01-03', '2013-01-04', '2013-01-05',\n",
       "               '2013-01-06', '2013-01-07', '2013-01-08', '2013-01-09',\n",
       "               '2013-01-10', '2013-01-11',\n",
       "               ...\n",
       "               '2020-01-13', '2020-01-14', '2020-01-15', '2020-01-16',\n",
       "               '2020-01-17', '2020-01-18', '2020-01-19', '2020-01-20',\n",
       "               '2020-01-21', '2020-01-22'],\n",
       "              dtype='datetime64[ns]', name='date', length=2570, freq=None)"
      ]
     },
     "execution_count": 15,
     "metadata": {},
     "output_type": "execute_result"
    }
   ],
   "source": [
    "result_sub.index"
   ]
  },
  {
   "cell_type": "code",
   "execution_count": null,
   "metadata": {},
   "outputs": [],
   "source": [
    "result_sub.at['2013-01-05','bit_close']"
   ]
  },
  {
   "cell_type": "code",
   "execution_count": null,
   "metadata": {},
   "outputs": [],
   "source": []
  },
  {
   "cell_type": "code",
   "execution_count": null,
   "metadata": {},
   "outputs": [],
   "source": []
  },
  {
   "cell_type": "code",
   "execution_count": 22,
   "metadata": {},
   "outputs": [
    {
     "data": {
      "text/html": [
       "<div>\n",
       "<style scoped>\n",
       "    .dataframe tbody tr th:only-of-type {\n",
       "        vertical-align: middle;\n",
       "    }\n",
       "\n",
       "    .dataframe tbody tr th {\n",
       "        vertical-align: top;\n",
       "    }\n",
       "\n",
       "    .dataframe thead th {\n",
       "        text-align: right;\n",
       "    }\n",
       "</style>\n",
       "<table border=\"1\" class=\"dataframe\">\n",
       "  <thead>\n",
       "    <tr style=\"text-align: right;\">\n",
       "      <th></th>\n",
       "      <th>close</th>\n",
       "      <th>open</th>\n",
       "      <th>close</th>\n",
       "      <th>open</th>\n",
       "      <th>close</th>\n",
       "      <th>open</th>\n",
       "    </tr>\n",
       "  </thead>\n",
       "  <tbody>\n",
       "    <tr>\n",
       "      <td>2013-01-02</td>\n",
       "      <td>13.28</td>\n",
       "      <td>13.28</td>\n",
       "      <td>1687.9</td>\n",
       "      <td>1672.8</td>\n",
       "      <td>13412.55</td>\n",
       "      <td>13104.30</td>\n",
       "    </tr>\n",
       "    <tr>\n",
       "      <td>2013-01-03</td>\n",
       "      <td>13.40</td>\n",
       "      <td>13.40</td>\n",
       "      <td>1673.7</td>\n",
       "      <td>1686.1</td>\n",
       "      <td>13391.36</td>\n",
       "      <td>13413.01</td>\n",
       "    </tr>\n",
       "    <tr>\n",
       "      <td>2013-01-04</td>\n",
       "      <td>13.50</td>\n",
       "      <td>13.50</td>\n",
       "      <td>1648.1</td>\n",
       "      <td>1647.0</td>\n",
       "      <td>13435.21</td>\n",
       "      <td>13391.05</td>\n",
       "    </tr>\n",
       "    <tr>\n",
       "      <td>2013-01-07</td>\n",
       "      <td>13.59</td>\n",
       "      <td>13.59</td>\n",
       "      <td>1645.5</td>\n",
       "      <td>1656.5</td>\n",
       "      <td>13384.29</td>\n",
       "      <td>13436.13</td>\n",
       "    </tr>\n",
       "    <tr>\n",
       "      <td>2013-01-08</td>\n",
       "      <td>13.74</td>\n",
       "      <td>13.74</td>\n",
       "      <td>1661.5</td>\n",
       "      <td>1647.7</td>\n",
       "      <td>13328.85</td>\n",
       "      <td>13377.42</td>\n",
       "    </tr>\n",
       "    <tr>\n",
       "      <td>...</td>\n",
       "      <td>...</td>\n",
       "      <td>...</td>\n",
       "      <td>...</td>\n",
       "      <td>...</td>\n",
       "      <td>...</td>\n",
       "      <td>...</td>\n",
       "    </tr>\n",
       "    <tr>\n",
       "      <td>2020-01-14</td>\n",
       "      <td>8775.60</td>\n",
       "      <td>8104.10</td>\n",
       "      <td>1544.6</td>\n",
       "      <td>1548.6</td>\n",
       "      <td>28939.67</td>\n",
       "      <td>28895.50</td>\n",
       "    </tr>\n",
       "    <tr>\n",
       "      <td>2020-01-15</td>\n",
       "      <td>8807.70</td>\n",
       "      <td>8760.84</td>\n",
       "      <td>1554.0</td>\n",
       "      <td>1546.8</td>\n",
       "      <td>29030.22</td>\n",
       "      <td>28901.80</td>\n",
       "    </tr>\n",
       "    <tr>\n",
       "      <td>2020-01-16</td>\n",
       "      <td>8720.60</td>\n",
       "      <td>8810.90</td>\n",
       "      <td>1550.5</td>\n",
       "      <td>1556.6</td>\n",
       "      <td>29297.64</td>\n",
       "      <td>29131.95</td>\n",
       "    </tr>\n",
       "    <tr>\n",
       "      <td>2020-01-17</td>\n",
       "      <td>8875.40</td>\n",
       "      <td>8719.55</td>\n",
       "      <td>1560.3</td>\n",
       "      <td>1553.0</td>\n",
       "      <td>29348.10</td>\n",
       "      <td>29313.31</td>\n",
       "    </tr>\n",
       "    <tr>\n",
       "      <td>2020-01-21</td>\n",
       "      <td>8734.10</td>\n",
       "      <td>8638.20</td>\n",
       "      <td>1557.9</td>\n",
       "      <td>1557.3</td>\n",
       "      <td>29196.04</td>\n",
       "      <td>29269.05</td>\n",
       "    </tr>\n",
       "  </tbody>\n",
       "</table>\n",
       "<p>1765 rows × 6 columns</p>\n",
       "</div>"
      ],
      "text/plain": [
       "              close     open   close    open     close      open\n",
       "2013-01-02    13.28    13.28  1687.9  1672.8  13412.55  13104.30\n",
       "2013-01-03    13.40    13.40  1673.7  1686.1  13391.36  13413.01\n",
       "2013-01-04    13.50    13.50  1648.1  1647.0  13435.21  13391.05\n",
       "2013-01-07    13.59    13.59  1645.5  1656.5  13384.29  13436.13\n",
       "2013-01-08    13.74    13.74  1661.5  1647.7  13328.85  13377.42\n",
       "...             ...      ...     ...     ...       ...       ...\n",
       "2020-01-14  8775.60  8104.10  1544.6  1548.6  28939.67  28895.50\n",
       "2020-01-15  8807.70  8760.84  1554.0  1546.8  29030.22  28901.80\n",
       "2020-01-16  8720.60  8810.90  1550.5  1556.6  29297.64  29131.95\n",
       "2020-01-17  8875.40  8719.55  1560.3  1553.0  29348.10  29313.31\n",
       "2020-01-21  8734.10  8638.20  1557.9  1557.3  29196.04  29269.05\n",
       "\n",
       "[1765 rows x 6 columns]"
      ]
     },
     "execution_count": 22,
     "metadata": {},
     "output_type": "execute_result"
    }
   ],
   "source": [
    "# 데이터를 한데모으고 이에 대해 빈값은 지워버렸음 0은 살리고, NaN 값만 지움\n",
    "\n",
    "# 그리고 suffix,prefix 로 값을 넣어주는 형태로 해결해야함 : 완료\n",
    "# 이와같이하면 안되고 peding 처리를 해야함 NaN 값에 대해서 전 값을 똑같이 집어넣어준다\n",
    "\n",
    "result_sub_drop"
   ]
  },
  {
   "cell_type": "code",
   "execution_count": 40,
   "metadata": {},
   "outputs": [],
   "source": [
    "result_sub = result_sub.sort_index(axis=0)"
   ]
  },
  {
   "cell_type": "code",
   "execution_count": 100,
   "metadata": {
    "scrolled": true
   },
   "outputs": [
    {
     "data": {
      "text/plain": [
       "True"
      ]
     },
     "execution_count": 100,
     "metadata": {},
     "output_type": "execute_result"
    }
   ],
   "source": [
    "np.isnan(result_sub.loc[result_sub.index[4],'gol_close'])"
   ]
  },
  {
   "cell_type": "code",
   "execution_count": 124,
   "metadata": {},
   "outputs": [
    {
     "data": {
      "text/plain": [
       "2013-01-02    False\n",
       "2013-01-03    False\n",
       "2013-01-04    False\n",
       "2013-01-05     True\n",
       "2013-01-06     True\n",
       "              ...  \n",
       "2020-01-18     True\n",
       "2020-01-19    False\n",
       "2020-01-20    False\n",
       "2020-01-21    False\n",
       "2020-01-22    False\n",
       "Name: gol_close, Length: 2570, dtype: bool"
      ]
     },
     "execution_count": 124,
     "metadata": {},
     "output_type": "execute_result"
    }
   ],
   "source": [
    "result_sub.loc[:,'gol_close'].isnull()"
   ]
  },
  {
   "cell_type": "code",
   "execution_count": 10,
   "metadata": {},
   "outputs": [],
   "source": [
    "# na 값에 대해서 padding 처리한 과정 : 값이 없으면 전날 데이터 기준으로 들어간다\n",
    "\n",
    "beforeDate = result_sub.index[0]\n",
    "\n",
    "for date in result_sub.index :\n",
    "    for cols in result_sub.columns :\n",
    "        if pd.isnull(result_sub.at[date,cols]) == True :\n",
    "            result_sub.at[date,cols] = result_sub.at[beforeDate,cols]\n",
    "    beforeDate = date\n",
    "    "
   ]
  },
  {
   "cell_type": "code",
   "execution_count": 10,
   "metadata": {},
   "outputs": [
    {
     "name": "stdout",
     "output_type": "stream",
     "text": [
      "False    2575\n",
      "Name: bit_close, dtype: int64\n",
      "False    2575\n",
      "Name: bit_open, dtype: int64\n",
      "False    2575\n",
      "Name: gol_close, dtype: int64\n",
      "False    2575\n",
      "Name: gol_open, dtype: int64\n",
      "False    2575\n",
      "Name: dj_close, dtype: int64\n",
      "False    2575\n",
      "Name: dj_open, dtype: int64\n"
     ]
    }
   ],
   "source": [
    "# padding 안된값있는지 확인\n",
    "for cols in result_sub.columns :\n",
    "    print(result_sub.loc[:,cols].isnull().value_counts())"
   ]
  },
  {
   "cell_type": "code",
   "execution_count": 11,
   "metadata": {
    "scrolled": false
   },
   "outputs": [
    {
     "data": {
      "text/html": [
       "<div>\n",
       "<style scoped>\n",
       "    .dataframe tbody tr th:only-of-type {\n",
       "        vertical-align: middle;\n",
       "    }\n",
       "\n",
       "    .dataframe tbody tr th {\n",
       "        vertical-align: top;\n",
       "    }\n",
       "\n",
       "    .dataframe thead th {\n",
       "        text-align: right;\n",
       "    }\n",
       "</style>\n",
       "<table border=\"1\" class=\"dataframe\">\n",
       "  <thead>\n",
       "    <tr style=\"text-align: right;\">\n",
       "      <th></th>\n",
       "      <th>bit_close</th>\n",
       "      <th>bit_open</th>\n",
       "      <th>gol_close</th>\n",
       "      <th>gol_open</th>\n",
       "      <th>dj_close</th>\n",
       "      <th>dj_open</th>\n",
       "    </tr>\n",
       "    <tr>\n",
       "      <th>date</th>\n",
       "      <th></th>\n",
       "      <th></th>\n",
       "      <th></th>\n",
       "      <th></th>\n",
       "      <th></th>\n",
       "      <th></th>\n",
       "    </tr>\n",
       "  </thead>\n",
       "  <tbody>\n",
       "    <tr>\n",
       "      <td>2013-01-02</td>\n",
       "      <td>13.28</td>\n",
       "      <td>13.28</td>\n",
       "      <td>1687.90</td>\n",
       "      <td>1672.80</td>\n",
       "      <td>13412.55</td>\n",
       "      <td>13104.30</td>\n",
       "    </tr>\n",
       "    <tr>\n",
       "      <td>2013-01-03</td>\n",
       "      <td>13.40</td>\n",
       "      <td>13.40</td>\n",
       "      <td>1673.70</td>\n",
       "      <td>1686.10</td>\n",
       "      <td>13391.36</td>\n",
       "      <td>13413.01</td>\n",
       "    </tr>\n",
       "    <tr>\n",
       "      <td>2013-01-04</td>\n",
       "      <td>13.50</td>\n",
       "      <td>13.50</td>\n",
       "      <td>1648.10</td>\n",
       "      <td>1647.00</td>\n",
       "      <td>13435.21</td>\n",
       "      <td>13391.05</td>\n",
       "    </tr>\n",
       "    <tr>\n",
       "      <td>2013-01-05</td>\n",
       "      <td>13.44</td>\n",
       "      <td>13.44</td>\n",
       "      <td>1648.10</td>\n",
       "      <td>1647.00</td>\n",
       "      <td>13435.21</td>\n",
       "      <td>13391.05</td>\n",
       "    </tr>\n",
       "    <tr>\n",
       "      <td>2013-01-06</td>\n",
       "      <td>13.45</td>\n",
       "      <td>13.45</td>\n",
       "      <td>1648.10</td>\n",
       "      <td>1647.00</td>\n",
       "      <td>13435.21</td>\n",
       "      <td>13391.05</td>\n",
       "    </tr>\n",
       "    <tr>\n",
       "      <td>...</td>\n",
       "      <td>...</td>\n",
       "      <td>...</td>\n",
       "      <td>...</td>\n",
       "      <td>...</td>\n",
       "      <td>...</td>\n",
       "      <td>...</td>\n",
       "    </tr>\n",
       "    <tr>\n",
       "      <td>2020-01-23</td>\n",
       "      <td>8724.80</td>\n",
       "      <td>8734.20</td>\n",
       "      <td>1565.40</td>\n",
       "      <td>1558.90</td>\n",
       "      <td>29160.09</td>\n",
       "      <td>29111.02</td>\n",
       "    </tr>\n",
       "    <tr>\n",
       "      <td>2020-01-24</td>\n",
       "      <td>8724.80</td>\n",
       "      <td>8734.20</td>\n",
       "      <td>1571.90</td>\n",
       "      <td>1562.90</td>\n",
       "      <td>28989.73</td>\n",
       "      <td>29230.39</td>\n",
       "    </tr>\n",
       "    <tr>\n",
       "      <td>2020-01-26</td>\n",
       "      <td>8724.80</td>\n",
       "      <td>8734.20</td>\n",
       "      <td>1581.95</td>\n",
       "      <td>1571.65</td>\n",
       "      <td>28989.73</td>\n",
       "      <td>29230.39</td>\n",
       "    </tr>\n",
       "    <tr>\n",
       "      <td>2020-01-27</td>\n",
       "      <td>8724.80</td>\n",
       "      <td>8734.20</td>\n",
       "      <td>1580.25</td>\n",
       "      <td>1582.40</td>\n",
       "      <td>28533.15</td>\n",
       "      <td>28542.49</td>\n",
       "    </tr>\n",
       "    <tr>\n",
       "      <td>2020-01-28</td>\n",
       "      <td>8724.80</td>\n",
       "      <td>8734.20</td>\n",
       "      <td>1580.15</td>\n",
       "      <td>1580.30</td>\n",
       "      <td>28533.15</td>\n",
       "      <td>28542.49</td>\n",
       "    </tr>\n",
       "  </tbody>\n",
       "</table>\n",
       "<p>2575 rows × 6 columns</p>\n",
       "</div>"
      ],
      "text/plain": [
       "            bit_close  bit_open  gol_close  gol_open  dj_close   dj_open\n",
       "date                                                                    \n",
       "2013-01-02      13.28     13.28    1687.90   1672.80  13412.55  13104.30\n",
       "2013-01-03      13.40     13.40    1673.70   1686.10  13391.36  13413.01\n",
       "2013-01-04      13.50     13.50    1648.10   1647.00  13435.21  13391.05\n",
       "2013-01-05      13.44     13.44    1648.10   1647.00  13435.21  13391.05\n",
       "2013-01-06      13.45     13.45    1648.10   1647.00  13435.21  13391.05\n",
       "...               ...       ...        ...       ...       ...       ...\n",
       "2020-01-23    8724.80   8734.20    1565.40   1558.90  29160.09  29111.02\n",
       "2020-01-24    8724.80   8734.20    1571.90   1562.90  28989.73  29230.39\n",
       "2020-01-26    8724.80   8734.20    1581.95   1571.65  28989.73  29230.39\n",
       "2020-01-27    8724.80   8734.20    1580.25   1582.40  28533.15  28542.49\n",
       "2020-01-28    8724.80   8734.20    1580.15   1580.30  28533.15  28542.49\n",
       "\n",
       "[2575 rows x 6 columns]"
      ]
     },
     "execution_count": 11,
     "metadata": {},
     "output_type": "execute_result"
    }
   ],
   "source": [
    "result_sub"
   ]
  },
  {
   "cell_type": "code",
   "execution_count": null,
   "metadata": {},
   "outputs": [],
   "source": [
    "result_sub.loc[:,['bit_close','bit_open']]"
   ]
  },
  {
   "cell_type": "code",
   "execution_count": 52,
   "metadata": {},
   "outputs": [
    {
     "data": {
      "text/plain": [
       "float"
      ]
     },
     "execution_count": 52,
     "metadata": {},
     "output_type": "execute_result"
    }
   ],
   "source": [
    "type(float(result_sub.at[result_sub.index[1],'bit_close']))"
   ]
  },
  {
   "cell_type": "code",
   "execution_count": 12,
   "metadata": {},
   "outputs": [
    {
     "data": {
      "text/plain": [
       "DatetimeIndex(['2013-01-02', '2013-01-03', '2013-01-04', '2013-01-05',\n",
       "               '2013-01-06', '2013-01-07', '2013-01-08', '2013-01-09',\n",
       "               '2013-01-10', '2013-01-11',\n",
       "               ...\n",
       "               '2020-01-18', '2020-01-19', '2020-01-20', '2020-01-21',\n",
       "               '2020-01-22', '2020-01-23', '2020-01-24', '2020-01-26',\n",
       "               '2020-01-27', '2020-01-28'],\n",
       "              dtype='datetime64[ns]', name='date', length=2575, freq=None)"
      ]
     },
     "execution_count": 12,
     "metadata": {},
     "output_type": "execute_result"
    }
   ],
   "source": [
    "result_sub.index"
   ]
  },
  {
   "cell_type": "code",
   "execution_count": 53,
   "metadata": {},
   "outputs": [],
   "source": [
    "def insertClose(df) : \n",
    "    \n",
    "    conn = pymysql.connect(host='localhost', port=3306,\n",
    "                           user='acorn12', passwd='acorn12', db='acorn', charset='utf8')\n",
    "    try:\n",
    "        with conn.cursor() as cursor:\n",
    "            \n",
    "            for date in result_sub.index :\n",
    "                \n",
    "                sql = 'INSERT INTO al_close(cl_date, cl_bitcoin, cl_gold, cl_dowjones) '\n",
    "                sql += 'VALUES(%s,%s,%s,%s) '\n",
    "\n",
    "                cursor.execute(sql,(date.date(),float(result_sub.at[date,'bit_close']),float(result_sub.at[date,'gol_close']),float(result_sub.at[date,'dj_close'])) )\n",
    "\n",
    "            conn.commit()\n",
    "                \n",
    "    finally:\n",
    "        conn.close()\n",
    "    "
   ]
  },
  {
   "cell_type": "code",
   "execution_count": 11,
   "metadata": {},
   "outputs": [
    {
     "ename": "IntegrityError",
     "evalue": "(1062, \"Duplicate entry '2013-01-02' for key 'PRIMARY'\")",
     "output_type": "error",
     "traceback": [
      "\u001b[1;31m---------------------------------------------------------------------------\u001b[0m",
      "\u001b[1;31mIntegrityError\u001b[0m                            Traceback (most recent call last)",
      "\u001b[1;32m<ipython-input-11-1f049d4a9c21>\u001b[0m in \u001b[0;36m<module>\u001b[1;34m\u001b[0m\n\u001b[0;32m      9\u001b[0m             \u001b[0msql\u001b[0m \u001b[1;33m+=\u001b[0m \u001b[1;34m'VALUES(%s,%s,%s,%s) '\u001b[0m\u001b[1;33m\u001b[0m\u001b[1;33m\u001b[0m\u001b[0m\n\u001b[0;32m     10\u001b[0m \u001b[1;33m\u001b[0m\u001b[0m\n\u001b[1;32m---> 11\u001b[1;33m             \u001b[0mcursor\u001b[0m\u001b[1;33m.\u001b[0m\u001b[0mexecute\u001b[0m\u001b[1;33m(\u001b[0m\u001b[0msql\u001b[0m\u001b[1;33m,\u001b[0m\u001b[1;33m(\u001b[0m\u001b[0mdate\u001b[0m\u001b[1;33m.\u001b[0m\u001b[0mdate\u001b[0m\u001b[1;33m(\u001b[0m\u001b[1;33m)\u001b[0m\u001b[1;33m,\u001b[0m\u001b[0mfloat\u001b[0m\u001b[1;33m(\u001b[0m\u001b[0mresult_sub\u001b[0m\u001b[1;33m.\u001b[0m\u001b[0mat\u001b[0m\u001b[1;33m[\u001b[0m\u001b[0mdate\u001b[0m\u001b[1;33m,\u001b[0m\u001b[1;34m'bit_close'\u001b[0m\u001b[1;33m]\u001b[0m\u001b[1;33m)\u001b[0m\u001b[1;33m,\u001b[0m\u001b[0mfloat\u001b[0m\u001b[1;33m(\u001b[0m\u001b[0mresult_sub\u001b[0m\u001b[1;33m.\u001b[0m\u001b[0mat\u001b[0m\u001b[1;33m[\u001b[0m\u001b[0mdate\u001b[0m\u001b[1;33m,\u001b[0m\u001b[1;34m'gol_close'\u001b[0m\u001b[1;33m]\u001b[0m\u001b[1;33m)\u001b[0m\u001b[1;33m,\u001b[0m\u001b[0mfloat\u001b[0m\u001b[1;33m(\u001b[0m\u001b[0mresult_sub\u001b[0m\u001b[1;33m.\u001b[0m\u001b[0mat\u001b[0m\u001b[1;33m[\u001b[0m\u001b[0mdate\u001b[0m\u001b[1;33m,\u001b[0m\u001b[1;34m'dj_close'\u001b[0m\u001b[1;33m]\u001b[0m\u001b[1;33m)\u001b[0m\u001b[1;33m)\u001b[0m \u001b[1;33m)\u001b[0m\u001b[1;33m\u001b[0m\u001b[1;33m\u001b[0m\u001b[0m\n\u001b[0m\u001b[0;32m     12\u001b[0m \u001b[1;33m\u001b[0m\u001b[0m\n\u001b[0;32m     13\u001b[0m         \u001b[0mconn\u001b[0m\u001b[1;33m.\u001b[0m\u001b[0mcommit\u001b[0m\u001b[1;33m(\u001b[0m\u001b[1;33m)\u001b[0m\u001b[1;33m\u001b[0m\u001b[1;33m\u001b[0m\u001b[0m\n",
      "\u001b[1;32mC:\\dev\\Anaconda3\\lib\\site-packages\\pymysql\\cursors.py\u001b[0m in \u001b[0;36mexecute\u001b[1;34m(self, query, args)\u001b[0m\n\u001b[0;32m    168\u001b[0m         \u001b[0mquery\u001b[0m \u001b[1;33m=\u001b[0m \u001b[0mself\u001b[0m\u001b[1;33m.\u001b[0m\u001b[0mmogrify\u001b[0m\u001b[1;33m(\u001b[0m\u001b[0mquery\u001b[0m\u001b[1;33m,\u001b[0m \u001b[0margs\u001b[0m\u001b[1;33m)\u001b[0m\u001b[1;33m\u001b[0m\u001b[1;33m\u001b[0m\u001b[0m\n\u001b[0;32m    169\u001b[0m \u001b[1;33m\u001b[0m\u001b[0m\n\u001b[1;32m--> 170\u001b[1;33m         \u001b[0mresult\u001b[0m \u001b[1;33m=\u001b[0m \u001b[0mself\u001b[0m\u001b[1;33m.\u001b[0m\u001b[0m_query\u001b[0m\u001b[1;33m(\u001b[0m\u001b[0mquery\u001b[0m\u001b[1;33m)\u001b[0m\u001b[1;33m\u001b[0m\u001b[1;33m\u001b[0m\u001b[0m\n\u001b[0m\u001b[0;32m    171\u001b[0m         \u001b[0mself\u001b[0m\u001b[1;33m.\u001b[0m\u001b[0m_executed\u001b[0m \u001b[1;33m=\u001b[0m \u001b[0mquery\u001b[0m\u001b[1;33m\u001b[0m\u001b[1;33m\u001b[0m\u001b[0m\n\u001b[0;32m    172\u001b[0m         \u001b[1;32mreturn\u001b[0m \u001b[0mresult\u001b[0m\u001b[1;33m\u001b[0m\u001b[1;33m\u001b[0m\u001b[0m\n",
      "\u001b[1;32mC:\\dev\\Anaconda3\\lib\\site-packages\\pymysql\\cursors.py\u001b[0m in \u001b[0;36m_query\u001b[1;34m(self, q)\u001b[0m\n\u001b[0;32m    326\u001b[0m         \u001b[0mself\u001b[0m\u001b[1;33m.\u001b[0m\u001b[0m_last_executed\u001b[0m \u001b[1;33m=\u001b[0m \u001b[0mq\u001b[0m\u001b[1;33m\u001b[0m\u001b[1;33m\u001b[0m\u001b[0m\n\u001b[0;32m    327\u001b[0m         \u001b[0mself\u001b[0m\u001b[1;33m.\u001b[0m\u001b[0m_clear_result\u001b[0m\u001b[1;33m(\u001b[0m\u001b[1;33m)\u001b[0m\u001b[1;33m\u001b[0m\u001b[1;33m\u001b[0m\u001b[0m\n\u001b[1;32m--> 328\u001b[1;33m         \u001b[0mconn\u001b[0m\u001b[1;33m.\u001b[0m\u001b[0mquery\u001b[0m\u001b[1;33m(\u001b[0m\u001b[0mq\u001b[0m\u001b[1;33m)\u001b[0m\u001b[1;33m\u001b[0m\u001b[1;33m\u001b[0m\u001b[0m\n\u001b[0m\u001b[0;32m    329\u001b[0m         \u001b[0mself\u001b[0m\u001b[1;33m.\u001b[0m\u001b[0m_do_get_result\u001b[0m\u001b[1;33m(\u001b[0m\u001b[1;33m)\u001b[0m\u001b[1;33m\u001b[0m\u001b[1;33m\u001b[0m\u001b[0m\n\u001b[0;32m    330\u001b[0m         \u001b[1;32mreturn\u001b[0m \u001b[0mself\u001b[0m\u001b[1;33m.\u001b[0m\u001b[0mrowcount\u001b[0m\u001b[1;33m\u001b[0m\u001b[1;33m\u001b[0m\u001b[0m\n",
      "\u001b[1;32mC:\\dev\\Anaconda3\\lib\\site-packages\\pymysql\\connections.py\u001b[0m in \u001b[0;36mquery\u001b[1;34m(self, sql, unbuffered)\u001b[0m\n\u001b[0;32m    515\u001b[0m                 \u001b[0msql\u001b[0m \u001b[1;33m=\u001b[0m \u001b[0msql\u001b[0m\u001b[1;33m.\u001b[0m\u001b[0mencode\u001b[0m\u001b[1;33m(\u001b[0m\u001b[0mself\u001b[0m\u001b[1;33m.\u001b[0m\u001b[0mencoding\u001b[0m\u001b[1;33m,\u001b[0m \u001b[1;34m'surrogateescape'\u001b[0m\u001b[1;33m)\u001b[0m\u001b[1;33m\u001b[0m\u001b[1;33m\u001b[0m\u001b[0m\n\u001b[0;32m    516\u001b[0m         \u001b[0mself\u001b[0m\u001b[1;33m.\u001b[0m\u001b[0m_execute_command\u001b[0m\u001b[1;33m(\u001b[0m\u001b[0mCOMMAND\u001b[0m\u001b[1;33m.\u001b[0m\u001b[0mCOM_QUERY\u001b[0m\u001b[1;33m,\u001b[0m \u001b[0msql\u001b[0m\u001b[1;33m)\u001b[0m\u001b[1;33m\u001b[0m\u001b[1;33m\u001b[0m\u001b[0m\n\u001b[1;32m--> 517\u001b[1;33m         \u001b[0mself\u001b[0m\u001b[1;33m.\u001b[0m\u001b[0m_affected_rows\u001b[0m \u001b[1;33m=\u001b[0m \u001b[0mself\u001b[0m\u001b[1;33m.\u001b[0m\u001b[0m_read_query_result\u001b[0m\u001b[1;33m(\u001b[0m\u001b[0munbuffered\u001b[0m\u001b[1;33m=\u001b[0m\u001b[0munbuffered\u001b[0m\u001b[1;33m)\u001b[0m\u001b[1;33m\u001b[0m\u001b[1;33m\u001b[0m\u001b[0m\n\u001b[0m\u001b[0;32m    518\u001b[0m         \u001b[1;32mreturn\u001b[0m \u001b[0mself\u001b[0m\u001b[1;33m.\u001b[0m\u001b[0m_affected_rows\u001b[0m\u001b[1;33m\u001b[0m\u001b[1;33m\u001b[0m\u001b[0m\n\u001b[0;32m    519\u001b[0m \u001b[1;33m\u001b[0m\u001b[0m\n",
      "\u001b[1;32mC:\\dev\\Anaconda3\\lib\\site-packages\\pymysql\\connections.py\u001b[0m in \u001b[0;36m_read_query_result\u001b[1;34m(self, unbuffered)\u001b[0m\n\u001b[0;32m    730\u001b[0m         \u001b[1;32melse\u001b[0m\u001b[1;33m:\u001b[0m\u001b[1;33m\u001b[0m\u001b[1;33m\u001b[0m\u001b[0m\n\u001b[0;32m    731\u001b[0m             \u001b[0mresult\u001b[0m \u001b[1;33m=\u001b[0m \u001b[0mMySQLResult\u001b[0m\u001b[1;33m(\u001b[0m\u001b[0mself\u001b[0m\u001b[1;33m)\u001b[0m\u001b[1;33m\u001b[0m\u001b[1;33m\u001b[0m\u001b[0m\n\u001b[1;32m--> 732\u001b[1;33m             \u001b[0mresult\u001b[0m\u001b[1;33m.\u001b[0m\u001b[0mread\u001b[0m\u001b[1;33m(\u001b[0m\u001b[1;33m)\u001b[0m\u001b[1;33m\u001b[0m\u001b[1;33m\u001b[0m\u001b[0m\n\u001b[0m\u001b[0;32m    733\u001b[0m         \u001b[0mself\u001b[0m\u001b[1;33m.\u001b[0m\u001b[0m_result\u001b[0m \u001b[1;33m=\u001b[0m \u001b[0mresult\u001b[0m\u001b[1;33m\u001b[0m\u001b[1;33m\u001b[0m\u001b[0m\n\u001b[0;32m    734\u001b[0m         \u001b[1;32mif\u001b[0m \u001b[0mresult\u001b[0m\u001b[1;33m.\u001b[0m\u001b[0mserver_status\u001b[0m \u001b[1;32mis\u001b[0m \u001b[1;32mnot\u001b[0m \u001b[1;32mNone\u001b[0m\u001b[1;33m:\u001b[0m\u001b[1;33m\u001b[0m\u001b[1;33m\u001b[0m\u001b[0m\n",
      "\u001b[1;32mC:\\dev\\Anaconda3\\lib\\site-packages\\pymysql\\connections.py\u001b[0m in \u001b[0;36mread\u001b[1;34m(self)\u001b[0m\n\u001b[0;32m   1073\u001b[0m     \u001b[1;32mdef\u001b[0m \u001b[0mread\u001b[0m\u001b[1;33m(\u001b[0m\u001b[0mself\u001b[0m\u001b[1;33m)\u001b[0m\u001b[1;33m:\u001b[0m\u001b[1;33m\u001b[0m\u001b[1;33m\u001b[0m\u001b[0m\n\u001b[0;32m   1074\u001b[0m         \u001b[1;32mtry\u001b[0m\u001b[1;33m:\u001b[0m\u001b[1;33m\u001b[0m\u001b[1;33m\u001b[0m\u001b[0m\n\u001b[1;32m-> 1075\u001b[1;33m             \u001b[0mfirst_packet\u001b[0m \u001b[1;33m=\u001b[0m \u001b[0mself\u001b[0m\u001b[1;33m.\u001b[0m\u001b[0mconnection\u001b[0m\u001b[1;33m.\u001b[0m\u001b[0m_read_packet\u001b[0m\u001b[1;33m(\u001b[0m\u001b[1;33m)\u001b[0m\u001b[1;33m\u001b[0m\u001b[1;33m\u001b[0m\u001b[0m\n\u001b[0m\u001b[0;32m   1076\u001b[0m \u001b[1;33m\u001b[0m\u001b[0m\n\u001b[0;32m   1077\u001b[0m             \u001b[1;32mif\u001b[0m \u001b[0mfirst_packet\u001b[0m\u001b[1;33m.\u001b[0m\u001b[0mis_ok_packet\u001b[0m\u001b[1;33m(\u001b[0m\u001b[1;33m)\u001b[0m\u001b[1;33m:\u001b[0m\u001b[1;33m\u001b[0m\u001b[1;33m\u001b[0m\u001b[0m\n",
      "\u001b[1;32mC:\\dev\\Anaconda3\\lib\\site-packages\\pymysql\\connections.py\u001b[0m in \u001b[0;36m_read_packet\u001b[1;34m(self, packet_type)\u001b[0m\n\u001b[0;32m    682\u001b[0m \u001b[1;33m\u001b[0m\u001b[0m\n\u001b[0;32m    683\u001b[0m         \u001b[0mpacket\u001b[0m \u001b[1;33m=\u001b[0m \u001b[0mpacket_type\u001b[0m\u001b[1;33m(\u001b[0m\u001b[0mbuff\u001b[0m\u001b[1;33m,\u001b[0m \u001b[0mself\u001b[0m\u001b[1;33m.\u001b[0m\u001b[0mencoding\u001b[0m\u001b[1;33m)\u001b[0m\u001b[1;33m\u001b[0m\u001b[1;33m\u001b[0m\u001b[0m\n\u001b[1;32m--> 684\u001b[1;33m         \u001b[0mpacket\u001b[0m\u001b[1;33m.\u001b[0m\u001b[0mcheck_error\u001b[0m\u001b[1;33m(\u001b[0m\u001b[1;33m)\u001b[0m\u001b[1;33m\u001b[0m\u001b[1;33m\u001b[0m\u001b[0m\n\u001b[0m\u001b[0;32m    685\u001b[0m         \u001b[1;32mreturn\u001b[0m \u001b[0mpacket\u001b[0m\u001b[1;33m\u001b[0m\u001b[1;33m\u001b[0m\u001b[0m\n\u001b[0;32m    686\u001b[0m \u001b[1;33m\u001b[0m\u001b[0m\n",
      "\u001b[1;32mC:\\dev\\Anaconda3\\lib\\site-packages\\pymysql\\protocol.py\u001b[0m in \u001b[0;36mcheck_error\u001b[1;34m(self)\u001b[0m\n\u001b[0;32m    218\u001b[0m             \u001b[0merrno\u001b[0m \u001b[1;33m=\u001b[0m \u001b[0mself\u001b[0m\u001b[1;33m.\u001b[0m\u001b[0mread_uint16\u001b[0m\u001b[1;33m(\u001b[0m\u001b[1;33m)\u001b[0m\u001b[1;33m\u001b[0m\u001b[1;33m\u001b[0m\u001b[0m\n\u001b[0;32m    219\u001b[0m             \u001b[1;32mif\u001b[0m \u001b[0mDEBUG\u001b[0m\u001b[1;33m:\u001b[0m \u001b[0mprint\u001b[0m\u001b[1;33m(\u001b[0m\u001b[1;34m\"errno =\"\u001b[0m\u001b[1;33m,\u001b[0m \u001b[0merrno\u001b[0m\u001b[1;33m)\u001b[0m\u001b[1;33m\u001b[0m\u001b[1;33m\u001b[0m\u001b[0m\n\u001b[1;32m--> 220\u001b[1;33m             \u001b[0merr\u001b[0m\u001b[1;33m.\u001b[0m\u001b[0mraise_mysql_exception\u001b[0m\u001b[1;33m(\u001b[0m\u001b[0mself\u001b[0m\u001b[1;33m.\u001b[0m\u001b[0m_data\u001b[0m\u001b[1;33m)\u001b[0m\u001b[1;33m\u001b[0m\u001b[1;33m\u001b[0m\u001b[0m\n\u001b[0m\u001b[0;32m    221\u001b[0m \u001b[1;33m\u001b[0m\u001b[0m\n\u001b[0;32m    222\u001b[0m     \u001b[1;32mdef\u001b[0m \u001b[0mdump\u001b[0m\u001b[1;33m(\u001b[0m\u001b[0mself\u001b[0m\u001b[1;33m)\u001b[0m\u001b[1;33m:\u001b[0m\u001b[1;33m\u001b[0m\u001b[1;33m\u001b[0m\u001b[0m\n",
      "\u001b[1;32mC:\\dev\\Anaconda3\\lib\\site-packages\\pymysql\\err.py\u001b[0m in \u001b[0;36mraise_mysql_exception\u001b[1;34m(data)\u001b[0m\n\u001b[0;32m    107\u001b[0m         \u001b[0merrval\u001b[0m \u001b[1;33m=\u001b[0m \u001b[0mdata\u001b[0m\u001b[1;33m[\u001b[0m\u001b[1;36m3\u001b[0m\u001b[1;33m:\u001b[0m\u001b[1;33m]\u001b[0m\u001b[1;33m.\u001b[0m\u001b[0mdecode\u001b[0m\u001b[1;33m(\u001b[0m\u001b[1;34m'utf-8'\u001b[0m\u001b[1;33m,\u001b[0m \u001b[1;34m'replace'\u001b[0m\u001b[1;33m)\u001b[0m\u001b[1;33m\u001b[0m\u001b[1;33m\u001b[0m\u001b[0m\n\u001b[0;32m    108\u001b[0m     \u001b[0merrorclass\u001b[0m \u001b[1;33m=\u001b[0m \u001b[0merror_map\u001b[0m\u001b[1;33m.\u001b[0m\u001b[0mget\u001b[0m\u001b[1;33m(\u001b[0m\u001b[0merrno\u001b[0m\u001b[1;33m,\u001b[0m \u001b[0mInternalError\u001b[0m\u001b[1;33m)\u001b[0m\u001b[1;33m\u001b[0m\u001b[1;33m\u001b[0m\u001b[0m\n\u001b[1;32m--> 109\u001b[1;33m     \u001b[1;32mraise\u001b[0m \u001b[0merrorclass\u001b[0m\u001b[1;33m(\u001b[0m\u001b[0merrno\u001b[0m\u001b[1;33m,\u001b[0m \u001b[0merrval\u001b[0m\u001b[1;33m)\u001b[0m\u001b[1;33m\u001b[0m\u001b[1;33m\u001b[0m\u001b[0m\n\u001b[0m",
      "\u001b[1;31mIntegrityError\u001b[0m: (1062, \"Duplicate entry '2013-01-02' for key 'PRIMARY'\")"
     ]
    }
   ],
   "source": [
    "conn = pymysql.connect(host='localhost', port=3306,\n",
    "                           user='acorn12', passwd='acorn12', db='acorn', charset='utf8')\n",
    "try:\n",
    "    with conn.cursor() as cursor:\n",
    "\n",
    "        for date in result_sub.index :\n",
    "\n",
    "            sql = 'INSERT INTO al_close(cl_date, cl_bitcoin, cl_gold, cl_dowjones) '\n",
    "            sql += 'VALUES(%s,%s,%s,%s) '\n",
    "\n",
    "            cursor.execute(sql,(date.date(),float(result_sub.at[date,'bit_close']),float(result_sub.at[date,'gol_close']),float(result_sub.at[date,'dj_close'])) )\n",
    "\n",
    "        conn.commit()\n",
    "\n",
    "finally:\n",
    "    conn.close()"
   ]
  },
  {
   "cell_type": "code",
   "execution_count": 28,
   "metadata": {},
   "outputs": [
    {
     "data": {
      "text/plain": [
       "1580.15"
      ]
     },
     "execution_count": 28,
     "metadata": {},
     "output_type": "execute_result"
    }
   ],
   "source": [
    "result_sub.at[date,'gol_close']"
   ]
  },
  {
   "cell_type": "code",
   "execution_count": null,
   "metadata": {},
   "outputs": [],
   "source": []
  },
  {
   "cell_type": "code",
   "execution_count": null,
   "metadata": {},
   "outputs": [],
   "source": []
  },
  {
   "cell_type": "code",
   "execution_count": 44,
   "metadata": {},
   "outputs": [],
   "source": [
    "result_new = result_sub.iloc[1500:,:]"
   ]
  },
  {
   "cell_type": "code",
   "execution_count": 84,
   "metadata": {},
   "outputs": [
    {
     "data": {
      "text/plain": [
       "datetime.date(2018, 1, 23)"
      ]
     },
     "execution_count": 84,
     "metadata": {},
     "output_type": "execute_result"
    }
   ],
   "source": [
    "beforeYear= dt.datetime.now().date().replace(year=dt.datetime.now().year-2)\n",
    "beforeYear"
   ]
  },
  {
   "cell_type": "code",
   "execution_count": 85,
   "metadata": {},
   "outputs": [],
   "source": [
    "result_new = result_sub.loc[beforeYear:,:]"
   ]
  },
  {
   "cell_type": "code",
   "execution_count": 13,
   "metadata": {},
   "outputs": [],
   "source": [
    "result_new = result_sub.loc[dt.datetime(2017,1,1).date():,:]"
   ]
  },
  {
   "cell_type": "code",
   "execution_count": null,
   "metadata": {},
   "outputs": [],
   "source": [
    "result_new = result_sub.loc[:,:]"
   ]
  },
  {
   "cell_type": "code",
   "execution_count": 68,
   "metadata": {},
   "outputs": [
    {
     "data": {
      "text/html": [
       "<div>\n",
       "<style scoped>\n",
       "    .dataframe tbody tr th:only-of-type {\n",
       "        vertical-align: middle;\n",
       "    }\n",
       "\n",
       "    .dataframe tbody tr th {\n",
       "        vertical-align: top;\n",
       "    }\n",
       "\n",
       "    .dataframe thead th {\n",
       "        text-align: right;\n",
       "    }\n",
       "</style>\n",
       "<table border=\"1\" class=\"dataframe\">\n",
       "  <thead>\n",
       "    <tr style=\"text-align: right;\">\n",
       "      <th></th>\n",
       "      <th>bit_close</th>\n",
       "      <th>bit_open</th>\n",
       "      <th>gol_close</th>\n",
       "      <th>gol_open</th>\n",
       "      <th>dj_close</th>\n",
       "      <th>dj_open</th>\n",
       "    </tr>\n",
       "  </thead>\n",
       "  <tbody>\n",
       "    <tr>\n",
       "      <td>2017-01-23</td>\n",
       "      <td>910.03</td>\n",
       "      <td>923.72</td>\n",
       "      <td>1276.60</td>\n",
       "      <td>1276.60</td>\n",
       "      <td>19799.85</td>\n",
       "      <td>19794.79</td>\n",
       "    </tr>\n",
       "    <tr>\n",
       "      <td>2017-01-24</td>\n",
       "      <td>886.10</td>\n",
       "      <td>908.41</td>\n",
       "      <td>1271.80</td>\n",
       "      <td>1271.80</td>\n",
       "      <td>19912.71</td>\n",
       "      <td>19794.68</td>\n",
       "    </tr>\n",
       "    <tr>\n",
       "      <td>2017-01-25</td>\n",
       "      <td>893.35</td>\n",
       "      <td>886.10</td>\n",
       "      <td>1258.80</td>\n",
       "      <td>1258.80</td>\n",
       "      <td>20068.51</td>\n",
       "      <td>19994.48</td>\n",
       "    </tr>\n",
       "    <tr>\n",
       "      <td>2017-01-26</td>\n",
       "      <td>915.12</td>\n",
       "      <td>893.35</td>\n",
       "      <td>1250.60</td>\n",
       "      <td>1250.60</td>\n",
       "      <td>20100.91</td>\n",
       "      <td>20076.25</td>\n",
       "    </tr>\n",
       "    <tr>\n",
       "      <td>2017-01-27</td>\n",
       "      <td>916.70</td>\n",
       "      <td>915.12</td>\n",
       "      <td>1249.40</td>\n",
       "      <td>1246.00</td>\n",
       "      <td>20093.78</td>\n",
       "      <td>20103.36</td>\n",
       "    </tr>\n",
       "    <tr>\n",
       "      <td>...</td>\n",
       "      <td>...</td>\n",
       "      <td>...</td>\n",
       "      <td>...</td>\n",
       "      <td>...</td>\n",
       "      <td>...</td>\n",
       "      <td>...</td>\n",
       "    </tr>\n",
       "    <tr>\n",
       "      <td>2020-01-18</td>\n",
       "      <td>8891.50</td>\n",
       "      <td>8873.10</td>\n",
       "      <td>1560.30</td>\n",
       "      <td>1553.00</td>\n",
       "      <td>29348.10</td>\n",
       "      <td>29313.31</td>\n",
       "    </tr>\n",
       "    <tr>\n",
       "      <td>2020-01-19</td>\n",
       "      <td>8694.00</td>\n",
       "      <td>8891.60</td>\n",
       "      <td>1557.05</td>\n",
       "      <td>1557.40</td>\n",
       "      <td>29348.10</td>\n",
       "      <td>29313.31</td>\n",
       "    </tr>\n",
       "    <tr>\n",
       "      <td>2020-01-20</td>\n",
       "      <td>8667.44</td>\n",
       "      <td>8698.60</td>\n",
       "      <td>1562.05</td>\n",
       "      <td>1557.20</td>\n",
       "      <td>29348.10</td>\n",
       "      <td>29313.31</td>\n",
       "    </tr>\n",
       "    <tr>\n",
       "      <td>2020-01-21</td>\n",
       "      <td>8734.10</td>\n",
       "      <td>8638.20</td>\n",
       "      <td>1557.90</td>\n",
       "      <td>1557.30</td>\n",
       "      <td>29196.04</td>\n",
       "      <td>29269.05</td>\n",
       "    </tr>\n",
       "    <tr>\n",
       "      <td>2020-01-22</td>\n",
       "      <td>8724.80</td>\n",
       "      <td>8734.20</td>\n",
       "      <td>1554.30</td>\n",
       "      <td>1556.25</td>\n",
       "      <td>29186.27</td>\n",
       "      <td>29263.63</td>\n",
       "    </tr>\n",
       "  </tbody>\n",
       "</table>\n",
       "<p>1095 rows × 6 columns</p>\n",
       "</div>"
      ],
      "text/plain": [
       "            bit_close  bit_open  gol_close  gol_open  dj_close   dj_open\n",
       "2017-01-23     910.03    923.72    1276.60   1276.60  19799.85  19794.79\n",
       "2017-01-24     886.10    908.41    1271.80   1271.80  19912.71  19794.68\n",
       "2017-01-25     893.35    886.10    1258.80   1258.80  20068.51  19994.48\n",
       "2017-01-26     915.12    893.35    1250.60   1250.60  20100.91  20076.25\n",
       "2017-01-27     916.70    915.12    1249.40   1246.00  20093.78  20103.36\n",
       "...               ...       ...        ...       ...       ...       ...\n",
       "2020-01-18    8891.50   8873.10    1560.30   1553.00  29348.10  29313.31\n",
       "2020-01-19    8694.00   8891.60    1557.05   1557.40  29348.10  29313.31\n",
       "2020-01-20    8667.44   8698.60    1562.05   1557.20  29348.10  29313.31\n",
       "2020-01-21    8734.10   8638.20    1557.90   1557.30  29196.04  29269.05\n",
       "2020-01-22    8724.80   8734.20    1554.30   1556.25  29186.27  29263.63\n",
       "\n",
       "[1095 rows x 6 columns]"
      ]
     },
     "execution_count": 68,
     "metadata": {},
     "output_type": "execute_result"
    }
   ],
   "source": [
    "result_new"
   ]
  },
  {
   "cell_type": "code",
   "execution_count": null,
   "metadata": {},
   "outputs": [],
   "source": []
  },
  {
   "cell_type": "code",
   "execution_count": 12,
   "metadata": {},
   "outputs": [],
   "source": [
    "corr = result_sub.corr(method='pearson')"
   ]
  },
  {
   "cell_type": "code",
   "execution_count": 13,
   "metadata": {
    "scrolled": true
   },
   "outputs": [
    {
     "name": "stdout",
     "output_type": "stream",
     "text": [
      "           bit_close  bit_open  gol_close  gol_open  dj_close   dj_open\n",
      "bit_close   1.000000  0.997905   0.156959  0.152992  0.865958  0.865712\n",
      "bit_open    0.997905  1.000000   0.157612  0.153590  0.866022  0.865840\n",
      "gol_close   0.156959  0.157612   1.000000  0.998173 -0.022841 -0.024420\n",
      "gol_open    0.152992  0.153590   0.998173  1.000000 -0.027844 -0.029507\n",
      "dj_close    0.865958  0.866022  -0.022841 -0.027844  1.000000  0.999381\n",
      "dj_open     0.865712  0.865840  -0.024420 -0.029507  0.999381  1.000000\n"
     ]
    }
   ],
   "source": [
    "print(corr)"
   ]
  },
  {
   "cell_type": "code",
   "execution_count": 57,
   "metadata": {},
   "outputs": [
    {
     "data": {
      "text/plain": [
       "1.0"
      ]
     },
     "execution_count": 57,
     "metadata": {},
     "output_type": "execute_result"
    }
   ],
   "source": [
    "corr.iat[0,0]"
   ]
  },
  {
   "cell_type": "code",
   "execution_count": null,
   "metadata": {},
   "outputs": [],
   "source": [
    "# bit_close와 dj_close는 의외로 노은 상관관계를 가지고 있음을 알수 있다."
   ]
  },
  {
   "cell_type": "code",
   "execution_count": null,
   "metadata": {},
   "outputs": [],
   "source": []
  },
  {
   "cell_type": "code",
   "execution_count": 69,
   "metadata": {},
   "outputs": [
    {
     "name": "stdout",
     "output_type": "stream",
     "text": [
      "           bit_close  bit_open  gol_close  gol_open  dj_close   dj_open\n",
      "bit_close   1.000000  0.994118   0.473515  0.472763  0.646654  0.646566\n",
      "bit_open    0.994118  1.000000   0.474936  0.473990  0.648785  0.649023\n",
      "gol_close   0.473515  0.474936   1.000000  0.996531  0.521949  0.521530\n",
      "gol_open    0.472763  0.473990   0.996531  1.000000  0.520399  0.519283\n",
      "dj_close    0.646654  0.648785   0.521949  0.520399  1.000000  0.997060\n",
      "dj_open     0.646566  0.649023   0.521530  0.519283  0.997060  1.000000\n"
     ]
    }
   ],
   "source": [
    "print(result_new.corr(method='pearson'))"
   ]
  },
  {
   "cell_type": "code",
   "execution_count": 86,
   "metadata": {},
   "outputs": [
    {
     "name": "stdout",
     "output_type": "stream",
     "text": [
      "\n",
      "pearson\n",
      "\n",
      "           bit_close  bit_open  gol_close  gol_open  dj_close   dj_open\n",
      "bit_close   1.000000  0.990211   0.585097  0.585971  0.339856  0.343023\n",
      "bit_open    0.990211  1.000000   0.584458  0.585529  0.337016  0.340895\n",
      "gol_close   0.585097  0.584458   1.000000  0.996283  0.557282  0.559288\n",
      "gol_open    0.585971  0.585529   0.996283  1.000000  0.558231  0.558759\n",
      "dj_close    0.339856  0.337016   0.557282  0.558231  1.000000  0.987855\n",
      "dj_open     0.343023  0.340895   0.559288  0.558759  0.987855  1.000000\n",
      "\n",
      "kendall\n",
      "\n",
      "           bit_close  bit_open  gol_close  gol_open  dj_close   dj_open\n",
      "bit_close   1.000000  0.914665   0.399998  0.399366  0.218073  0.219941\n",
      "bit_open    0.914665  1.000000   0.398881  0.397895  0.215474  0.217734\n",
      "gol_close   0.399998  0.398881   1.000000  0.946064  0.276582  0.276789\n",
      "gol_open    0.399366  0.397895   0.946064  1.000000  0.277955  0.278350\n",
      "dj_close    0.218073  0.215474   0.276582  0.277955  1.000000  0.908463\n",
      "dj_open     0.219941  0.217734   0.276789  0.278350  0.908463  1.000000\n",
      "\n",
      "spearman\n",
      "\n",
      "           bit_close  bit_open  gol_close  gol_open  dj_close   dj_open\n",
      "bit_close   1.000000  0.989214   0.647802  0.645814  0.340006  0.343436\n",
      "bit_open    0.989214  1.000000   0.647629  0.645590  0.336469  0.341655\n",
      "gol_close   0.647802  0.647629   1.000000  0.995674  0.454172  0.454479\n",
      "gol_open    0.645814  0.645590   0.995674  1.000000  0.456112  0.455563\n",
      "dj_close    0.340006  0.336469   0.454172  0.456112  1.000000  0.986247\n",
      "dj_open     0.343436  0.341655   0.454479  0.455563  0.986247  1.000000\n"
     ]
    }
   ],
   "source": [
    "method = ['pearson', 'kendall', 'spearman']\n",
    "\n",
    "for m in method :\n",
    "    print('\\n' + m + '\\n')\n",
    "    print(result_new.corr(method=m))"
   ]
  },
  {
   "cell_type": "code",
   "execution_count": 100,
   "metadata": {
    "scrolled": true
   },
   "outputs": [
    {
     "data": {
      "text/plain": [
       "(6.0, 0.0)"
      ]
     },
     "execution_count": 100,
     "metadata": {},
     "output_type": "execute_result"
    },
    {
     "data": {
      "image/png": "[encoded data removed]",
      "text/plain": [
       "<Figure size 504x360 with 2 Axes>"
      ]
     },
     "metadata": {
      "needs_background": "light"
     },
     "output_type": "display_data"
    }
   ],
   "source": [
    "plt.figure(figsize = (7,5))\n",
    "hm = sns.heatmap(data=result_new.corr(method='pearson'), annot=True, fmt = '.2f', linewidths = .5,\n",
    "            cmap='RdYlBu_r', vmin = -1, vmax = 1)\n",
    "# 위 아래 0.5씩 더 줘서 꼬이는게 없어지게 하는 경우\n",
    "bottom, top = hm.get_ylim()\n",
    "hm.set_ylim(bottom + 0.5, top - 0.5)"
   ]
  },
  {
   "cell_type": "code",
   "execution_count": 15,
   "metadata": {
    "scrolled": true
   },
   "outputs": [
    {
     "data": {
      "image/png": "[encoded data removed]",
      "text/plain": [
       "<Figure size 504x360 with 2 Axes>"
      ]
     },
     "metadata": {
      "needs_background": "light"
     },
     "output_type": "display_data"
    }
   ],
   "source": [
    "# 그림 사이즈 지정\n",
    "fig, ax = plt.subplots(figsize=(7,5))\n",
    "\n",
    "# 삼각형 마스크를 만든다(위 쪽 삼각형에 True, 아래삼각형에 False)\n",
    "\n",
    "mask = np.zeros_like(result_new.corr(),dtype=np.bool)\n",
    "mask[np.triu_indices_from(mask)] = True\n",
    "\n",
    "hm = sns.heatmap(data=result_new.corr(), annot=True, fmt = '.2f', linewidths = .5,\n",
    "            mask=mask, cbar_kws={'shrink':.5},\n",
    "            cmap='RdYlBu_r', vmin = -1, vmax = 1)\n",
    "\n",
    "bottom, top = hm.get_ylim()\n",
    "hm.set_ylim(bottom + 0.5, top - 0.5)\n",
    "\n",
    "# 경로에는 절대적인 경로 및 상대적인 경로가 모두 가능하다\n",
    "outImgPath = 'C:/dev/info file/output.jpg'\n",
    "fig.savefig(outImgPath)"
   ]
  },
  {
   "cell_type": "code",
   "execution_count": 97,
   "metadata": {},
   "outputs": [
    {
     "data": {
      "text/plain": [
       "(5.5, 0.5)"
      ]
     },
     "execution_count": 97,
     "metadata": {},
     "output_type": "execute_result"
    }
   ],
   "source": [
    "hm.get_ylim()"
   ]
  },
  {
   "cell_type": "code",
   "execution_count": 65,
   "metadata": {},
   "outputs": [
    {
     "data": {
      "text/plain": [
       "datetime.date(2013, 1, 2)"
      ]
     },
     "execution_count": 65,
     "metadata": {},
     "output_type": "execute_result"
    }
   ],
   "source": [
    "result_sub.index[0]"
   ]
  },
  {
   "cell_type": "code",
   "execution_count": null,
   "metadata": {},
   "outputs": [],
   "source": []
  },
  {
   "cell_type": "code",
   "execution_count": null,
   "metadata": {},
   "outputs": [],
   "source": [
    "beforeYear= dt.datetime.now().date().replace(year=dt.datetime.now().year-2)\n",
    "beforeYear"
   ]
  },
  {
   "cell_type": "code",
   "execution_count": null,
   "metadata": {},
   "outputs": [],
   "source": []
  }
 ],
 "metadata": {
  "kernelspec": {
   "display_name": "Python 3",
   "language": "python",
   "name": "python3"
  },
  "language_info": {
   "codemirror_mode": {
    "name": "ipython",
    "version": 3
   },
   "file_extension": ".py",
   "mimetype": "text/x-python",
   "name": "python",
   "nbconvert_exporter": "python",
   "pygments_lexer": "ipython3",
   "version": "3.7.4"
  }
 },
 "nbformat": 4,
 "nbformat_minor": 2
}
