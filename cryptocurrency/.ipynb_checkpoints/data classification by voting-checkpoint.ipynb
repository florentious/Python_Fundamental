{
 "cells": [
  {
   "cell_type": "code",
   "execution_count": 2,
   "metadata": {},
   "outputs": [],
   "source": [
    "import numpy as np\n",
    "import pandas as pd\n",
    "import glob\n",
    "import json\n",
    "import os\n",
    "import sys\n",
    "import urllib.request\n",
    "import requests\n",
    "from bs4 import BeautifulSoup\n",
    "import time\n",
    "from selenium import webdriver\n",
    "import datetime as dt\n",
    "import pymysql\n",
    "\n",
    "%matplotlib inline\n",
    "import matplotlib.pyplot as plt\n",
    "import seaborn as sns\n"
   ]
  },
  {
   "cell_type": "code",
   "execution_count": 3,
   "metadata": {},
   "outputs": [],
   "source": [
    "# machine learning\n",
    "\n",
    "from sklearn import preprocessing\n",
    "from sklearn.preprocessing import LabelEncoder\n",
    "from sklearn.preprocessing import OneHotEncoder\n",
    "\n",
    "from sklearn.decomposition import PCA\n",
    "from sklearn.preprocessing import MinMaxScaler\n",
    "\n",
    "from sklearn.tree import DecisionTreeClassifier\n",
    "from sklearn.linear_model import LogisticRegression\n",
    "from sklearn.ensemble import RandomForestClassifier\n",
    "\n",
    "from sklearn.svm import SVC\n",
    "from sklearn.neighbors import KNeighborsClassifier\n",
    "\n",
    "import xgboost as xgb\n",
    "from xgboost import XGBClassifier\n",
    "\n",
    "from lightgbm import LGBMClassifier\n",
    "\n",
    "from sklearn.model_selection import RandomizedSearchCV\n",
    "from sklearn.model_selection import GridSearchCV\n",
    "\n",
    "from sklearn.model_selection import cross_val_score\n",
    "\n",
    "from sklearn.metrics import accuracy_score\n",
    "\n",
    "from sklearn.ensemble import VotingClassifier\n",
    "import collections\n",
    "from collections import Counter\n",
    "\n",
    "from sklearn.model_selection import KFold\n",
    "from joblib import dump, load\n",
    "\n",
    "from sklearn.model_selection import train_test_split\n",
    "\n",
    "from statsmodels.tsa.arima_model import ARIMA"
   ]
  },
  {
   "cell_type": "code",
   "execution_count": 8,
   "metadata": {},
   "outputs": [],
   "source": [
    "def selectDJ() : \n",
    "    tmp_df = pd.DataFrame([])\n",
    "    \n",
    "    tmp_date = np.array([])\n",
    "    tmp_close = np.array([])\n",
    "    tmp_open = np.array([])\n",
    "    tmp_high = np.array([])\n",
    "    tmp_low = np.array([])\n",
    "    tmp_volume = np.array([])\n",
    "\n",
    "    # db 커넥션 연결\n",
    "    conn = pymysql.connect(host='localhost', port=3306,\n",
    "                           user='acorn12', passwd='acorn12', db='acorn', charset='utf8')\n",
    "\n",
    "#     conn = pymysql.connect(host='localhost', port=3306,\n",
    "#                            user='flo', passwd='flo', db='db', charset='utf8')\n",
    "\n",
    "    try:\n",
    "        with conn.cursor() as cursor:\n",
    "            sql = 'SELECT dj_date, dj_close, dj_open, dj_high, dj_low, dj_volume FROM dowjones '\n",
    "\n",
    "            cursor.execute(sql)\n",
    "            conn.commit()\n",
    "\n",
    "            rows = cursor.fetchall()\n",
    "            \n",
    "            for i in range(len(rows)) :\n",
    "                tmp_date = np.append(tmp_date, rows[i][0])\n",
    "                tmp_close = np.append(tmp_close, rows[i][1])\n",
    "                tmp_open = np.append(tmp_open, rows[i][2])\n",
    "                tmp_high = np.append(tmp_high, rows[i][3])\n",
    "                tmp_low = np.append(tmp_low, rows[i][4])\n",
    "                tmp_volume = np.append(tmp_volume, rows[i][5])\n",
    "                \n",
    "    finally:\n",
    "        conn.close()\n",
    "    \n",
    "    tmp_df['date'] = tmp_date.astype('datetime64[ns]')\n",
    "    tmp_df['close'] = tmp_close\n",
    "    tmp_df['open'] = tmp_open\n",
    "    tmp_df['high'] = tmp_high\n",
    "    tmp_df['low'] = tmp_low\n",
    "    tmp_df['volume'] = tmp_volume\n",
    "    \n",
    "    tmp_df = tmp_df.set_index('date')\n",
    "    \n",
    "    return(tmp_df)"
   ]
  },
  {
   "cell_type": "code",
   "execution_count": 9,
   "metadata": {},
   "outputs": [],
   "source": [
    "def selectGold() : \n",
    "    tmp_df = pd.DataFrame([])\n",
    "    \n",
    "    tmp_date = np.array([])\n",
    "    tmp_close = np.array([])\n",
    "    tmp_open = np.array([])\n",
    "    tmp_high = np.array([])\n",
    "    tmp_low = np.array([])\n",
    "    tmp_volume = np.array([])\n",
    "    # db 커넥션 연결\n",
    "    conn = pymysql.connect(host='localhost', port=3306,\n",
    "                           user='acorn12', passwd='acorn12', db='acorn', charset='utf8')\n",
    "\n",
    "#     conn = pymysql.connect(host='localhost', port=3306,\n",
    "#                            user='flo', passwd='flo', db='db', charset='utf8')\n",
    "\n",
    "    try:\n",
    "        with conn.cursor() as cursor:\n",
    "            sql = 'SELECT gold_date, gold_close, gold_open, gold_high, gold_low, gold_volume '\n",
    "            sql += 'FROM gold '\n",
    "\n",
    "            cursor.execute(sql)\n",
    "            conn.commit()\n",
    "\n",
    "            rows = cursor.fetchall()\n",
    "            \n",
    "            for i in range(len(rows)) :\n",
    "                tmp_date = np.append(tmp_date, rows[i][0])\n",
    "                tmp_close = np.append(tmp_close, rows[i][1])\n",
    "                tmp_open = np.append(tmp_open, rows[i][2])\n",
    "                tmp_high = np.append(tmp_high, rows[i][3])\n",
    "                tmp_low = np.append(tmp_low, rows[i][4])\n",
    "                tmp_volume = np.append(tmp_volume, rows[i][5])\n",
    "                \n",
    "    finally:\n",
    "        conn.close()\n",
    "    \n",
    "    tmp_df['date'] = tmp_date.astype('datetime64[ns]')\n",
    "    tmp_df['close'] = tmp_close\n",
    "    tmp_df['open'] = tmp_open\n",
    "    tmp_df['high'] = tmp_high\n",
    "    tmp_df['low'] = tmp_low\n",
    "    tmp_df['volume'] = tmp_volume\n",
    "    \n",
    "    tmp_df = tmp_df.set_index('date')\n",
    "    \n",
    "    return(tmp_df)"
   ]
  },
  {
   "cell_type": "code",
   "execution_count": 10,
   "metadata": {},
   "outputs": [],
   "source": [
    "def selectBitcoin() : \n",
    "    tmp_df = pd.DataFrame([])\n",
    "    \n",
    "    tmp_date = np.array([])\n",
    "    tmp_close = np.array([])\n",
    "    tmp_open = np.array([])\n",
    "    tmp_high = np.array([])\n",
    "    tmp_low = np.array([])\n",
    "    tmp_volume = np.array([])\n",
    "    # db 커넥션 연결\n",
    "    conn = pymysql.connect(host='localhost', port=3306,\n",
    "                           user='acorn12', passwd='acorn12', db='acorn', charset='utf8')\n",
    "\n",
    "#     conn = pymysql.connect(host='localhost', port=3306,\n",
    "#                            user='flo', passwd='flo', db='db', charset='utf8')\n",
    "\n",
    "    try:\n",
    "        with conn.cursor() as cursor:\n",
    "            sql = 'SELECT bit_date, bit_close, bit_open, bit_high, bit_low, bit_volume '\n",
    "            sql += 'FROM bitcoin '\n",
    "\n",
    "            cursor.execute(sql)\n",
    "            conn.commit()\n",
    "\n",
    "            rows = cursor.fetchall()\n",
    "            \n",
    "            for i in range(len(rows)) :\n",
    "                tmp_date = np.append(tmp_date, rows[i][0])\n",
    "                tmp_close = np.append(tmp_close, rows[i][1])\n",
    "                tmp_open = np.append(tmp_open, rows[i][2])\n",
    "                tmp_high = np.append(tmp_high, rows[i][3])\n",
    "                tmp_low = np.append(tmp_low, rows[i][4])\n",
    "                tmp_volume = np.append(tmp_volume, rows[i][5])\n",
    "                \n",
    "    finally:\n",
    "        conn.close()\n",
    "    \n",
    "    tmp_df['date'] = tmp_date.astype('datetime64[ns]')\n",
    "    tmp_df['close'] = tmp_close\n",
    "    tmp_df['open'] = tmp_open\n",
    "    tmp_df['high'] = tmp_high\n",
    "    tmp_df['low'] = tmp_low\n",
    "    tmp_df['volume'] = tmp_volume\n",
    "    \n",
    "    tmp_df = tmp_df.set_index('date')\n",
    "    \n",
    "    return(tmp_df)"
   ]
  },
  {
   "cell_type": "code",
   "execution_count": 11,
   "metadata": {},
   "outputs": [],
   "source": [
    "dowjones_DF = selectDJ()\n",
    "gold_DF = selectGold()\n",
    "bitcoin_DF = selectBitcoin()\n",
    "\n",
    "dowjones_subDF = dowjones_DF.loc[:,['close','open']]\n",
    "gold_subDF = gold_DF.loc[:,['close','open']]\n",
    "bitcoin_subDF = bitcoin_DF.loc[:,['close','open']]\n",
    "\n",
    "dowjones_subDF = dowjones_subDF.add_prefix('dj_')\n",
    "gold_subDF = gold_subDF.add_prefix('gol_')\n",
    "bitcoin_subDF = bitcoin_subDF.add_prefix('bit_')\n",
    "\n",
    "result_sub = pd.concat([bitcoin_subDF, gold_subDF, dowjones_subDF], axis = 1, sort=False)\n",
    "\n",
    "# na 값에 대해서 padding 처리한 과정 : 값이 없으면 전날 데이터 기준으로 들어간다\n",
    "\n",
    "beforeDate = result_sub.index[0]\n",
    "\n",
    "for date in result_sub.index :\n",
    "    for cols in result_sub.columns :\n",
    "        if pd.isnull(result_sub.at[date,cols]) == True :\n",
    "            result_sub.at[date,cols] = result_sub.at[beforeDate,cols]\n",
    "    beforeDate = date\n",
    "\n",
    "\n",
    "# db 커넥션 연결\n",
    "conn = pymysql.connect(host='localhost', port=3306,\n",
    "                       user='acorn12', passwd='acorn12', db='acorn', charset='utf8')\n",
    "\n",
    "# conn = pymysql.connect(host='localhost', port=3306,\n",
    "#                        user='flo', passwd='flo', db='db', charset='utf8')\n",
    "\n",
    "try:\n",
    "    with conn.cursor() as cursor:\n",
    "        sql = 'SELECT IFNULL(MAX(cl_date),\"2013-01-01\") FROM al_close '\n",
    "        \n",
    "        cursor.execute(sql)\n",
    "        \n",
    "        rows = cursor.fetchone()\n",
    "        lastDate = rows[0]\n",
    "        \n",
    "        # db에 기록된 가장 최근값과 오늘의 날짜 반납( 이 기준으로 db에서 가져옴)\n",
    "        \n",
    "        recentlyDate = pd.to_datetime(lastDate).date()\n",
    "        recentlyDate += dt.timedelta(days=1) # 하루 추가하기(다음날로 확인하는 거)\n",
    "        today = dt.datetime.now().date()\n",
    "        \n",
    "        result_sub_update = result_sub.loc[recentlyDate:,:]\n",
    "        \n",
    "        if recentlyDate < today :\n",
    "            for date in result_sub_update.index :\n",
    "\n",
    "                sql = 'INSERT INTO al_close(cl_date, cl_bitcoin, cl_gold, cl_dowjones) '\n",
    "                sql += 'VALUES(%s,%s,%s,%s) '\n",
    "\n",
    "                cursor.execute(sql,(date.date(),float(result_sub_update.at[date,'bit_close']),float(result_sub_update.at[date,'gol_close']),float(result_sub_update.at[date,'dj_close'])) )\n",
    "\n",
    "\n",
    "        conn.commit()\n",
    "\n",
    "finally:\n",
    "    conn.close()"
   ]
  },
  {
   "cell_type": "code",
   "execution_count": 13,
   "metadata": {},
   "outputs": [],
   "source": [
    "# 새로 컨트롤할 데이터 출력\n",
    "upData = result_sub.loc[:,['bit_close','gol_close','dj_close']]"
   ]
  },
  {
   "cell_type": "code",
   "execution_count": 14,
   "metadata": {
    "scrolled": true
   },
   "outputs": [
    {
     "data": {
      "text/html": [
       "<div>\n",
       "<style scoped>\n",
       "    .dataframe tbody tr th:only-of-type {\n",
       "        vertical-align: middle;\n",
       "    }\n",
       "\n",
       "    .dataframe tbody tr th {\n",
       "        vertical-align: top;\n",
       "    }\n",
       "\n",
       "    .dataframe thead th {\n",
       "        text-align: right;\n",
       "    }\n",
       "</style>\n",
       "<table border=\"1\" class=\"dataframe\">\n",
       "  <thead>\n",
       "    <tr style=\"text-align: right;\">\n",
       "      <th></th>\n",
       "      <th>bit_close</th>\n",
       "      <th>gol_close</th>\n",
       "      <th>dj_close</th>\n",
       "    </tr>\n",
       "    <tr>\n",
       "      <th>date</th>\n",
       "      <th></th>\n",
       "      <th></th>\n",
       "      <th></th>\n",
       "    </tr>\n",
       "  </thead>\n",
       "  <tbody>\n",
       "    <tr>\n",
       "      <td>2013-01-02</td>\n",
       "      <td>13.28</td>\n",
       "      <td>1687.90</td>\n",
       "      <td>13412.55</td>\n",
       "    </tr>\n",
       "    <tr>\n",
       "      <td>2013-01-03</td>\n",
       "      <td>13.40</td>\n",
       "      <td>1673.70</td>\n",
       "      <td>13391.36</td>\n",
       "    </tr>\n",
       "    <tr>\n",
       "      <td>2013-01-04</td>\n",
       "      <td>13.50</td>\n",
       "      <td>1648.10</td>\n",
       "      <td>13435.21</td>\n",
       "    </tr>\n",
       "    <tr>\n",
       "      <td>2013-01-05</td>\n",
       "      <td>13.44</td>\n",
       "      <td>1648.10</td>\n",
       "      <td>13435.21</td>\n",
       "    </tr>\n",
       "    <tr>\n",
       "      <td>2013-01-06</td>\n",
       "      <td>13.45</td>\n",
       "      <td>1648.10</td>\n",
       "      <td>13435.21</td>\n",
       "    </tr>\n",
       "    <tr>\n",
       "      <td>...</td>\n",
       "      <td>...</td>\n",
       "      <td>...</td>\n",
       "      <td>...</td>\n",
       "    </tr>\n",
       "    <tr>\n",
       "      <td>2020-01-30</td>\n",
       "      <td>9322.50</td>\n",
       "      <td>1575.95</td>\n",
       "      <td>28858.66</td>\n",
       "    </tr>\n",
       "    <tr>\n",
       "      <td>2020-01-31</td>\n",
       "      <td>9367.40</td>\n",
       "      <td>1582.90</td>\n",
       "      <td>28251.47</td>\n",
       "    </tr>\n",
       "    <tr>\n",
       "      <td>2020-02-01</td>\n",
       "      <td>9410.60</td>\n",
       "      <td>1582.90</td>\n",
       "      <td>28251.47</td>\n",
       "    </tr>\n",
       "    <tr>\n",
       "      <td>2020-02-02</td>\n",
       "      <td>9353.10</td>\n",
       "      <td>1593.85</td>\n",
       "      <td>28251.47</td>\n",
       "    </tr>\n",
       "    <tr>\n",
       "      <td>2020-02-03</td>\n",
       "      <td>9327.60</td>\n",
       "      <td>1593.55</td>\n",
       "      <td>28251.47</td>\n",
       "    </tr>\n",
       "  </tbody>\n",
       "</table>\n",
       "<p>2582 rows × 3 columns</p>\n",
       "</div>"
      ],
      "text/plain": [
       "            bit_close  gol_close  dj_close\n",
       "date                                      \n",
       "2013-01-02      13.28    1687.90  13412.55\n",
       "2013-01-03      13.40    1673.70  13391.36\n",
       "2013-01-04      13.50    1648.10  13435.21\n",
       "2013-01-05      13.44    1648.10  13435.21\n",
       "2013-01-06      13.45    1648.10  13435.21\n",
       "...               ...        ...       ...\n",
       "2020-01-30    9322.50    1575.95  28858.66\n",
       "2020-01-31    9367.40    1582.90  28251.47\n",
       "2020-02-01    9410.60    1582.90  28251.47\n",
       "2020-02-02    9353.10    1593.85  28251.47\n",
       "2020-02-03    9327.60    1593.55  28251.47\n",
       "\n",
       "[2582 rows x 3 columns]"
      ]
     },
     "execution_count": 14,
     "metadata": {},
     "output_type": "execute_result"
    }
   ],
   "source": [
    "upData"
   ]
  },
  {
   "cell_type": "code",
   "execution_count": 15,
   "metadata": {},
   "outputs": [],
   "source": [
    "# 평균선 feature 만들기\n",
    "def mkFeat(df,typeName) :\n",
    "    df[typeName+'_MA_5'] = df[typeName+'_close'].rolling(window=5).mean()\n",
    "    df[typeName+'_MA_60'] = df[typeName+'_close'].rolling(window=60).mean()\n",
    "\n",
    "\n",
    "# 차이 만들기\n",
    "def mkDif(df, typeName) :\n",
    "    df[typeName+'_dif'] = df[typeName+'_MA_5'] - df[typeName+'_MA_60']\n",
    "    df[typeName+'_dif_before_1d'] = df[typeName+'_dif'].shift(1)\n",
    "    \n",
    "    # target 만들기\n",
    "\n",
    "def mkTarget(df, typeName) :\n",
    "    tmp_change = np.array([])\n",
    "    \n",
    "    df[typeName+'_close_before_1d'] = df[typeName+'_close'].shift(1)\n",
    "    df[typeName+'_close_before_1d'][0] = 0\n",
    "    for date in df.index :\n",
    "        tmp_change = np.append(tmp_change, (lambda x : 1 if x>0 else (-1 if x<0 else 0))(df.at[date,typeName+'_close']-df.at[date,typeName+'_close_before_1d']))\n",
    "    \n",
    "    df[typeName+'_change'] = tmp_change.astype('int64')"
   ]
  },
  {
   "cell_type": "code",
   "execution_count": 33,
   "metadata": {},
   "outputs": [
    {
     "name": "stderr",
     "output_type": "stream",
     "text": [
      "C:\\dev\\Anaconda3\\lib\\site-packages\\ipykernel_launcher.py:3: SettingWithCopyWarning: \n",
      "A value is trying to be set on a copy of a slice from a DataFrame.\n",
      "Try using .loc[row_indexer,col_indexer] = value instead\n",
      "\n",
      "See the caveats in the documentation: http://pandas.pydata.org/pandas-docs/stable/user_guide/indexing.html#returning-a-view-versus-a-copy\n",
      "  This is separate from the ipykernel package so we can avoid doing imports until\n",
      "C:\\dev\\Anaconda3\\lib\\site-packages\\ipykernel_launcher.py:4: SettingWithCopyWarning: \n",
      "A value is trying to be set on a copy of a slice from a DataFrame.\n",
      "Try using .loc[row_indexer,col_indexer] = value instead\n",
      "\n",
      "See the caveats in the documentation: http://pandas.pydata.org/pandas-docs/stable/user_guide/indexing.html#returning-a-view-versus-a-copy\n",
      "  after removing the cwd from sys.path.\n",
      "C:\\dev\\Anaconda3\\lib\\site-packages\\ipykernel_launcher.py:9: SettingWithCopyWarning: \n",
      "A value is trying to be set on a copy of a slice from a DataFrame.\n",
      "Try using .loc[row_indexer,col_indexer] = value instead\n",
      "\n",
      "See the caveats in the documentation: http://pandas.pydata.org/pandas-docs/stable/user_guide/indexing.html#returning-a-view-versus-a-copy\n",
      "  if __name__ == '__main__':\n",
      "C:\\dev\\Anaconda3\\lib\\site-packages\\ipykernel_launcher.py:10: SettingWithCopyWarning: \n",
      "A value is trying to be set on a copy of a slice from a DataFrame.\n",
      "Try using .loc[row_indexer,col_indexer] = value instead\n",
      "\n",
      "See the caveats in the documentation: http://pandas.pydata.org/pandas-docs/stable/user_guide/indexing.html#returning-a-view-versus-a-copy\n",
      "  # Remove the CWD from sys.path while we load stuff.\n",
      "C:\\dev\\Anaconda3\\lib\\site-packages\\ipykernel_launcher.py:17: SettingWithCopyWarning: \n",
      "A value is trying to be set on a copy of a slice from a DataFrame.\n",
      "Try using .loc[row_indexer,col_indexer] = value instead\n",
      "\n",
      "See the caveats in the documentation: http://pandas.pydata.org/pandas-docs/stable/user_guide/indexing.html#returning-a-view-versus-a-copy\n",
      "C:\\dev\\Anaconda3\\lib\\site-packages\\ipykernel_launcher.py:18: SettingWithCopyWarning: \n",
      "A value is trying to be set on a copy of a slice from a DataFrame\n",
      "\n",
      "See the caveats in the documentation: http://pandas.pydata.org/pandas-docs/stable/user_guide/indexing.html#returning-a-view-versus-a-copy\n",
      "C:\\dev\\Anaconda3\\lib\\site-packages\\ipykernel_launcher.py:7: SettingWithCopyWarning: \n",
      "A value is trying to be set on a copy of a slice from a DataFrame\n",
      "\n",
      "See the caveats in the documentation: http://pandas.pydata.org/pandas-docs/stable/user_guide/indexing.html#returning-a-view-versus-a-copy\n",
      "  import sys\n",
      "C:\\dev\\Anaconda3\\lib\\site-packages\\ipykernel_launcher.py:22: SettingWithCopyWarning: \n",
      "A value is trying to be set on a copy of a slice from a DataFrame.\n",
      "Try using .loc[row_indexer,col_indexer] = value instead\n",
      "\n",
      "See the caveats in the documentation: http://pandas.pydata.org/pandas-docs/stable/user_guide/indexing.html#returning-a-view-versus-a-copy\n"
     ]
    }
   ],
   "source": [
    "# 실제 연산하는 자리\n",
    "dataList = ['bit','gol','dj']\n",
    "\n",
    "for cols in dataList :\n",
    "    mkFeat(upData,cols)\n",
    "    mkDif(upData,cols)\n",
    "    mkTarget(upData,cols)\n",
    "\n",
    "\n",
    "# 컬럼 순서 엉킨거 조정 및 필요없는거 제거\n",
    "upData = upData[['bit_close','bit_MA_5','bit_MA_60','bit_dif','bit_dif_before_1d',\n",
    "                 'gol_close','gol_MA_5','gol_MA_60','gol_dif','gol_dif_before_1d',\n",
    "                 'dj_close','dj_MA_5','dj_MA_60','dj_dif','dj_dif_before_1d',\n",
    "                 'bit_change','gol_change','dj_change'\n",
    "                ]]"
   ]
  },
  {
   "cell_type": "code",
   "execution_count": 104,
   "metadata": {},
   "outputs": [
    {
     "data": {
      "text/plain": [
       "date\n",
       "2013-01-02      13.40\n",
       "2013-01-03      13.50\n",
       "2013-01-04      13.44\n",
       "2013-01-05      13.45\n",
       "2013-01-06      13.59\n",
       "               ...   \n",
       "2020-01-26    8912.00\n",
       "2020-01-27    9393.70\n",
       "2020-01-28    9304.20\n",
       "2020-01-29    9322.50\n",
       "2020-01-30        NaN\n",
       "Name: bit_close, Length: 2578, dtype: float64"
      ]
     },
     "execution_count": 104,
     "metadata": {},
     "output_type": "execute_result"
    }
   ],
   "source": [
    "check = upData['bit_close'].shift(-1)\n",
    "check"
   ]
  },
  {
   "cell_type": "code",
   "execution_count": null,
   "metadata": {},
   "outputs": [],
   "source": []
  },
  {
   "cell_type": "code",
   "execution_count": 34,
   "metadata": {},
   "outputs": [
    {
     "data": {
      "text/html": [
       "<div>\n",
       "<style scoped>\n",
       "    .dataframe tbody tr th:only-of-type {\n",
       "        vertical-align: middle;\n",
       "    }\n",
       "\n",
       "    .dataframe tbody tr th {\n",
       "        vertical-align: top;\n",
       "    }\n",
       "\n",
       "    .dataframe thead th {\n",
       "        text-align: right;\n",
       "    }\n",
       "</style>\n",
       "<table border=\"1\" class=\"dataframe\">\n",
       "  <thead>\n",
       "    <tr style=\"text-align: right;\">\n",
       "      <th></th>\n",
       "      <th>bit_close</th>\n",
       "      <th>bit_MA_5</th>\n",
       "      <th>bit_MA_60</th>\n",
       "      <th>bit_dif</th>\n",
       "      <th>bit_dif_before_1d</th>\n",
       "      <th>gol_close</th>\n",
       "      <th>gol_MA_5</th>\n",
       "      <th>gol_MA_60</th>\n",
       "      <th>gol_dif</th>\n",
       "      <th>gol_dif_before_1d</th>\n",
       "      <th>dj_close</th>\n",
       "      <th>dj_MA_5</th>\n",
       "      <th>dj_MA_60</th>\n",
       "      <th>dj_dif</th>\n",
       "      <th>dj_dif_before_1d</th>\n",
       "      <th>bit_change</th>\n",
       "      <th>gol_change</th>\n",
       "      <th>dj_change</th>\n",
       "    </tr>\n",
       "    <tr>\n",
       "      <th>date</th>\n",
       "      <th></th>\n",
       "      <th></th>\n",
       "      <th></th>\n",
       "      <th></th>\n",
       "      <th></th>\n",
       "      <th></th>\n",
       "      <th></th>\n",
       "      <th></th>\n",
       "      <th></th>\n",
       "      <th></th>\n",
       "      <th></th>\n",
       "      <th></th>\n",
       "      <th></th>\n",
       "      <th></th>\n",
       "      <th></th>\n",
       "      <th></th>\n",
       "      <th></th>\n",
       "      <th></th>\n",
       "    </tr>\n",
       "  </thead>\n",
       "  <tbody>\n",
       "    <tr>\n",
       "      <td>2013-01-02</td>\n",
       "      <td>13.28</td>\n",
       "      <td>NaN</td>\n",
       "      <td>NaN</td>\n",
       "      <td>NaN</td>\n",
       "      <td>NaN</td>\n",
       "      <td>1687.90</td>\n",
       "      <td>NaN</td>\n",
       "      <td>NaN</td>\n",
       "      <td>NaN</td>\n",
       "      <td>NaN</td>\n",
       "      <td>13412.55</td>\n",
       "      <td>NaN</td>\n",
       "      <td>NaN</td>\n",
       "      <td>NaN</td>\n",
       "      <td>NaN</td>\n",
       "      <td>1</td>\n",
       "      <td>1</td>\n",
       "      <td>1</td>\n",
       "    </tr>\n",
       "    <tr>\n",
       "      <td>2013-01-03</td>\n",
       "      <td>13.40</td>\n",
       "      <td>NaN</td>\n",
       "      <td>NaN</td>\n",
       "      <td>NaN</td>\n",
       "      <td>NaN</td>\n",
       "      <td>1673.70</td>\n",
       "      <td>NaN</td>\n",
       "      <td>NaN</td>\n",
       "      <td>NaN</td>\n",
       "      <td>NaN</td>\n",
       "      <td>13391.36</td>\n",
       "      <td>NaN</td>\n",
       "      <td>NaN</td>\n",
       "      <td>NaN</td>\n",
       "      <td>NaN</td>\n",
       "      <td>1</td>\n",
       "      <td>-1</td>\n",
       "      <td>-1</td>\n",
       "    </tr>\n",
       "    <tr>\n",
       "      <td>2013-01-04</td>\n",
       "      <td>13.50</td>\n",
       "      <td>NaN</td>\n",
       "      <td>NaN</td>\n",
       "      <td>NaN</td>\n",
       "      <td>NaN</td>\n",
       "      <td>1648.10</td>\n",
       "      <td>NaN</td>\n",
       "      <td>NaN</td>\n",
       "      <td>NaN</td>\n",
       "      <td>NaN</td>\n",
       "      <td>13435.21</td>\n",
       "      <td>NaN</td>\n",
       "      <td>NaN</td>\n",
       "      <td>NaN</td>\n",
       "      <td>NaN</td>\n",
       "      <td>1</td>\n",
       "      <td>-1</td>\n",
       "      <td>1</td>\n",
       "    </tr>\n",
       "    <tr>\n",
       "      <td>2013-01-05</td>\n",
       "      <td>13.44</td>\n",
       "      <td>NaN</td>\n",
       "      <td>NaN</td>\n",
       "      <td>NaN</td>\n",
       "      <td>NaN</td>\n",
       "      <td>1648.10</td>\n",
       "      <td>NaN</td>\n",
       "      <td>NaN</td>\n",
       "      <td>NaN</td>\n",
       "      <td>NaN</td>\n",
       "      <td>13435.21</td>\n",
       "      <td>NaN</td>\n",
       "      <td>NaN</td>\n",
       "      <td>NaN</td>\n",
       "      <td>NaN</td>\n",
       "      <td>-1</td>\n",
       "      <td>0</td>\n",
       "      <td>0</td>\n",
       "    </tr>\n",
       "    <tr>\n",
       "      <td>2013-01-06</td>\n",
       "      <td>13.45</td>\n",
       "      <td>13.414</td>\n",
       "      <td>NaN</td>\n",
       "      <td>NaN</td>\n",
       "      <td>NaN</td>\n",
       "      <td>1648.10</td>\n",
       "      <td>1661.18</td>\n",
       "      <td>NaN</td>\n",
       "      <td>NaN</td>\n",
       "      <td>NaN</td>\n",
       "      <td>13435.21</td>\n",
       "      <td>13421.908</td>\n",
       "      <td>NaN</td>\n",
       "      <td>NaN</td>\n",
       "      <td>NaN</td>\n",
       "      <td>1</td>\n",
       "      <td>0</td>\n",
       "      <td>0</td>\n",
       "    </tr>\n",
       "    <tr>\n",
       "      <td>...</td>\n",
       "      <td>...</td>\n",
       "      <td>...</td>\n",
       "      <td>...</td>\n",
       "      <td>...</td>\n",
       "      <td>...</td>\n",
       "      <td>...</td>\n",
       "      <td>...</td>\n",
       "      <td>...</td>\n",
       "      <td>...</td>\n",
       "      <td>...</td>\n",
       "      <td>...</td>\n",
       "      <td>...</td>\n",
       "      <td>...</td>\n",
       "      <td>...</td>\n",
       "      <td>...</td>\n",
       "      <td>...</td>\n",
       "      <td>...</td>\n",
       "      <td>...</td>\n",
       "    </tr>\n",
       "    <tr>\n",
       "      <td>2020-01-30</td>\n",
       "      <td>9322.50</td>\n",
       "      <td>9110.800</td>\n",
       "      <td>7807.611667</td>\n",
       "      <td>1303.188333</td>\n",
       "      <td>1140.635000</td>\n",
       "      <td>1575.95</td>\n",
       "      <td>1579.00</td>\n",
       "      <td>1523.515000</td>\n",
       "      <td>55.485000</td>\n",
       "      <td>56.395833</td>\n",
       "      <td>28858.66</td>\n",
       "      <td>28767.854</td>\n",
       "      <td>28570.408333</td>\n",
       "      <td>197.445667</td>\n",
       "      <td>237.113833</td>\n",
       "      <td>1</td>\n",
       "      <td>-1</td>\n",
       "      <td>1</td>\n",
       "    </tr>\n",
       "    <tr>\n",
       "      <td>2020-01-31</td>\n",
       "      <td>9367.40</td>\n",
       "      <td>9259.960</td>\n",
       "      <td>7841.230667</td>\n",
       "      <td>1418.729333</td>\n",
       "      <td>1303.188333</td>\n",
       "      <td>1582.90</td>\n",
       "      <td>1579.19</td>\n",
       "      <td>1525.410000</td>\n",
       "      <td>53.780000</td>\n",
       "      <td>55.485000</td>\n",
       "      <td>28251.47</td>\n",
       "      <td>28620.202</td>\n",
       "      <td>28578.215500</td>\n",
       "      <td>41.986500</td>\n",
       "      <td>197.445667</td>\n",
       "      <td>1</td>\n",
       "      <td>1</td>\n",
       "      <td>-1</td>\n",
       "    </tr>\n",
       "    <tr>\n",
       "      <td>2020-02-01</td>\n",
       "      <td>9410.60</td>\n",
       "      <td>9359.680</td>\n",
       "      <td>7875.807000</td>\n",
       "      <td>1483.873000</td>\n",
       "      <td>1418.729333</td>\n",
       "      <td>1582.90</td>\n",
       "      <td>1579.72</td>\n",
       "      <td>1527.051667</td>\n",
       "      <td>52.668333</td>\n",
       "      <td>53.780000</td>\n",
       "      <td>28251.47</td>\n",
       "      <td>28563.866</td>\n",
       "      <td>28590.693167</td>\n",
       "      <td>-26.827167</td>\n",
       "      <td>41.986500</td>\n",
       "      <td>1</td>\n",
       "      <td>0</td>\n",
       "      <td>0</td>\n",
       "    </tr>\n",
       "    <tr>\n",
       "      <td>2020-02-02</td>\n",
       "      <td>9353.10</td>\n",
       "      <td>9351.560</td>\n",
       "      <td>7911.055167</td>\n",
       "      <td>1440.504833</td>\n",
       "      <td>1483.873000</td>\n",
       "      <td>1593.85</td>\n",
       "      <td>1582.46</td>\n",
       "      <td>1528.945833</td>\n",
       "      <td>53.514167</td>\n",
       "      <td>52.668333</td>\n",
       "      <td>28251.47</td>\n",
       "      <td>28469.754</td>\n",
       "      <td>28600.721333</td>\n",
       "      <td>-130.967333</td>\n",
       "      <td>-26.827167</td>\n",
       "      <td>-1</td>\n",
       "      <td>1</td>\n",
       "      <td>0</td>\n",
       "    </tr>\n",
       "    <tr>\n",
       "      <td>2020-02-03</td>\n",
       "      <td>9327.60</td>\n",
       "      <td>9356.240</td>\n",
       "      <td>7942.515167</td>\n",
       "      <td>1413.724833</td>\n",
       "      <td>1440.504833</td>\n",
       "      <td>1593.55</td>\n",
       "      <td>1585.83</td>\n",
       "      <td>1530.786667</td>\n",
       "      <td>55.043333</td>\n",
       "      <td>53.514167</td>\n",
       "      <td>28251.47</td>\n",
       "      <td>28372.908</td>\n",
       "      <td>28610.282667</td>\n",
       "      <td>-237.374667</td>\n",
       "      <td>-130.967333</td>\n",
       "      <td>-1</td>\n",
       "      <td>-1</td>\n",
       "      <td>0</td>\n",
       "    </tr>\n",
       "  </tbody>\n",
       "</table>\n",
       "<p>2582 rows × 18 columns</p>\n",
       "</div>"
      ],
      "text/plain": [
       "            bit_close  bit_MA_5    bit_MA_60      bit_dif  bit_dif_before_1d  \\\n",
       "date                                                                           \n",
       "2013-01-02      13.28       NaN          NaN          NaN                NaN   \n",
       "2013-01-03      13.40       NaN          NaN          NaN                NaN   \n",
       "2013-01-04      13.50       NaN          NaN          NaN                NaN   \n",
       "2013-01-05      13.44       NaN          NaN          NaN                NaN   \n",
       "2013-01-06      13.45    13.414          NaN          NaN                NaN   \n",
       "...               ...       ...          ...          ...                ...   \n",
       "2020-01-30    9322.50  9110.800  7807.611667  1303.188333        1140.635000   \n",
       "2020-01-31    9367.40  9259.960  7841.230667  1418.729333        1303.188333   \n",
       "2020-02-01    9410.60  9359.680  7875.807000  1483.873000        1418.729333   \n",
       "2020-02-02    9353.10  9351.560  7911.055167  1440.504833        1483.873000   \n",
       "2020-02-03    9327.60  9356.240  7942.515167  1413.724833        1440.504833   \n",
       "\n",
       "            gol_close  gol_MA_5    gol_MA_60    gol_dif  gol_dif_before_1d  \\\n",
       "date                                                                         \n",
       "2013-01-02    1687.90       NaN          NaN        NaN                NaN   \n",
       "2013-01-03    1673.70       NaN          NaN        NaN                NaN   \n",
       "2013-01-04    1648.10       NaN          NaN        NaN                NaN   \n",
       "2013-01-05    1648.10       NaN          NaN        NaN                NaN   \n",
       "2013-01-06    1648.10   1661.18          NaN        NaN                NaN   \n",
       "...               ...       ...          ...        ...                ...   \n",
       "2020-01-30    1575.95   1579.00  1523.515000  55.485000          56.395833   \n",
       "2020-01-31    1582.90   1579.19  1525.410000  53.780000          55.485000   \n",
       "2020-02-01    1582.90   1579.72  1527.051667  52.668333          53.780000   \n",
       "2020-02-02    1593.85   1582.46  1528.945833  53.514167          52.668333   \n",
       "2020-02-03    1593.55   1585.83  1530.786667  55.043333          53.514167   \n",
       "\n",
       "            dj_close    dj_MA_5      dj_MA_60      dj_dif  dj_dif_before_1d  \\\n",
       "date                                                                          \n",
       "2013-01-02  13412.55        NaN           NaN         NaN               NaN   \n",
       "2013-01-03  13391.36        NaN           NaN         NaN               NaN   \n",
       "2013-01-04  13435.21        NaN           NaN         NaN               NaN   \n",
       "2013-01-05  13435.21        NaN           NaN         NaN               NaN   \n",
       "2013-01-06  13435.21  13421.908           NaN         NaN               NaN   \n",
       "...              ...        ...           ...         ...               ...   \n",
       "2020-01-30  28858.66  28767.854  28570.408333  197.445667        237.113833   \n",
       "2020-01-31  28251.47  28620.202  28578.215500   41.986500        197.445667   \n",
       "2020-02-01  28251.47  28563.866  28590.693167  -26.827167         41.986500   \n",
       "2020-02-02  28251.47  28469.754  28600.721333 -130.967333        -26.827167   \n",
       "2020-02-03  28251.47  28372.908  28610.282667 -237.374667       -130.967333   \n",
       "\n",
       "            bit_change  gol_change  dj_change  \n",
       "date                                           \n",
       "2013-01-02           1           1          1  \n",
       "2013-01-03           1          -1         -1  \n",
       "2013-01-04           1          -1          1  \n",
       "2013-01-05          -1           0          0  \n",
       "2013-01-06           1           0          0  \n",
       "...                ...         ...        ...  \n",
       "2020-01-30           1          -1          1  \n",
       "2020-01-31           1           1         -1  \n",
       "2020-02-01           1           0          0  \n",
       "2020-02-02          -1           1          0  \n",
       "2020-02-03          -1          -1          0  \n",
       "\n",
       "[2582 rows x 18 columns]"
      ]
     },
     "execution_count": 34,
     "metadata": {},
     "output_type": "execute_result"
    }
   ],
   "source": [
    "upData"
   ]
  },
  {
   "cell_type": "code",
   "execution_count": 32,
   "metadata": {},
   "outputs": [
    {
     "data": {
      "text/plain": [
       "<matplotlib.axes._subplots.AxesSubplot at 0x1fc166f6c48>"
      ]
     },
     "execution_count": 32,
     "metadata": {},
     "output_type": "execute_result"
    },
    {
     "data": {
      "image/png": "[encoded data removed]",
      "text/plain": [
       "<Figure size 432x288 with 1 Axes>"
      ]
     },
     "metadata": {
      "needs_background": "light"
     },
     "output_type": "display_data"
    }
   ],
   "source": [
    "upData.loc['2019-01-01':,'bit_close':'bit_MA_60'].plot()"
   ]
  },
  {
   "cell_type": "code",
   "execution_count": 33,
   "metadata": {},
   "outputs": [
    {
     "data": {
      "text/plain": [
       "<matplotlib.axes._subplots.AxesSubplot at 0x1fc167f7a88>"
      ]
     },
     "execution_count": 33,
     "metadata": {},
     "output_type": "execute_result"
    },
    {
     "data": {
      "image/png": "[encoded data removed]",
      "text/plain": [
       "<Figure size 432x288 with 1 Axes>"
      ]
     },
     "metadata": {
      "needs_background": "light"
     },
     "output_type": "display_data"
    }
   ],
   "source": [
    "upData.loc['2019-01-01':,'gol_close':'gol_MA_60'].plot()"
   ]
  },
  {
   "cell_type": "code",
   "execution_count": 105,
   "metadata": {
    "scrolled": false
   },
   "outputs": [
    {
     "data": {
      "text/plain": [
       "<matplotlib.axes._subplots.AxesSubplot at 0x1fc16bc09c8>"
      ]
     },
     "execution_count": 105,
     "metadata": {},
     "output_type": "execute_result"
    },
    {
     "data": {
      "image/png": "[encoded data removed]",
      "text/plain": [
       "<Figure size 432x288 with 1 Axes>"
      ]
     },
     "metadata": {
      "needs_background": "light"
     },
     "output_type": "display_data"
    }
   ],
   "source": [
    "upData.loc['2019-12-01':,'dj_close':'dj_MA_60'].plot()"
   ]
  },
  {
   "cell_type": "code",
   "execution_count": null,
   "metadata": {},
   "outputs": [],
   "source": []
  },
  {
   "cell_type": "code",
   "execution_count": null,
   "metadata": {},
   "outputs": [],
   "source": [
    "# arima predict custom function"
   ]
  },
  {
   "cell_type": "code",
   "execution_count": 19,
   "metadata": {},
   "outputs": [],
   "source": [
    "def arima_predict(df, typeData) :\n",
    "    \n",
    "    if typeData == 'gol' :\n",
    "        orders =(0,2,1)\n",
    "    else :\n",
    "        orders = (1,2,2)\n",
    "        \n",
    "    predictDay = 1\n",
    "    \n",
    "    beforeYear= dt.datetime.now().date().replace(year=dt.datetime.now().year-3)\n",
    "    testDate = dt.datetime.now().date().replace(day=dt.datetime.now().day-predictDay)\n",
    "    \n",
    "    featureTrain = result_sub.loc[beforeYear:testDate,typeData+'_close']\n",
    "    featureTest = result_sub.loc[testDate:,typeData+'_close']\n",
    "    \n",
    "    arima_model = ARIMA(featureTrain, order=orders)\n",
    "    arima_fit = arima_model.fit(trend='nc', full_output=True, disp=1)\n",
    "    \n",
    "    arima_predict = arima_fit.forecast(steps=predictDay)\n",
    "#     featureTest\n",
    "    \n",
    "    return (arima_predict[0],featureTest)"
   ]
  },
  {
   "cell_type": "code",
   "execution_count": null,
   "metadata": {},
   "outputs": [],
   "source": []
  },
  {
   "cell_type": "code",
   "execution_count": 35,
   "metadata": {},
   "outputs": [
    {
     "name": "stderr",
     "output_type": "stream",
     "text": [
      "C:\\dev\\Anaconda3\\lib\\site-packages\\statsmodels\\tsa\\base\\tsa_model.py:165: ValueWarning: No frequency information was provided, so inferred frequency D will be used.\n",
      "  % freq, ValueWarning)\n",
      "C:\\dev\\Anaconda3\\lib\\site-packages\\statsmodels\\tsa\\base\\tsa_model.py:165: ValueWarning: No frequency information was provided, so inferred frequency D will be used.\n",
      "  % freq, ValueWarning)\n",
      "C:\\dev\\Anaconda3\\lib\\site-packages\\statsmodels\\tsa\\base\\tsa_model.py:165: ValueWarning: No frequency information was provided, so inferred frequency D will be used.\n",
      "  % freq, ValueWarning)\n",
      "C:\\dev\\Anaconda3\\lib\\site-packages\\statsmodels\\tsa\\base\\tsa_model.py:165: ValueWarning: No frequency information was provided, so inferred frequency D will be used.\n",
      "  % freq, ValueWarning)\n",
      "C:\\dev\\Anaconda3\\lib\\site-packages\\statsmodels\\tsa\\base\\tsa_model.py:165: ValueWarning: No frequency information was provided, so inferred frequency D will be used.\n",
      "  % freq, ValueWarning)\n",
      "C:\\dev\\Anaconda3\\lib\\site-packages\\statsmodels\\tsa\\base\\tsa_model.py:165: ValueWarning: No frequency information was provided, so inferred frequency D will be used.\n",
      "  % freq, ValueWarning)\n"
     ]
    }
   ],
   "source": [
    "dataList = ['bit','gol','dj']\n",
    "\n",
    "for cols in dataList :\n",
    "    vars()[cols+'_pred'], vars()[cols+'_test'] = arima_predict(upData,cols)"
   ]
  },
  {
   "cell_type": "code",
   "execution_count": 40,
   "metadata": {
    "scrolled": true
   },
   "outputs": [
    {
     "name": "stdout",
     "output_type": "stream",
     "text": [
      "[9344.83646496] 9327.6\n",
      "[1594.12721999] 1593.55\n",
      "[28223.74210009] 28251.47\n"
     ]
    }
   ],
   "source": [
    "for cols in dataList :\n",
    "    print(vars()[cols+'_pred'],vars()[cols+'_test'][1])"
   ]
  },
  {
   "cell_type": "code",
   "execution_count": null,
   "metadata": {},
   "outputs": [],
   "source": [
    "# 예측 값 비교"
   ]
  },
  {
   "cell_type": "code",
   "execution_count": null,
   "metadata": {},
   "outputs": [],
   "source": []
  },
  {
   "cell_type": "code",
   "execution_count": 29,
   "metadata": {},
   "outputs": [],
   "source": [
    "# splitXY\n",
    "def splitXY(df, dataType) :\n",
    "    temp_x = df.loc[:,[dataType+'_close', dataType+'_MA_5',dataType+'_MA_60', dataType+'_dif',dataType+'_dif_before_1d']]\n",
    "    temp_y = df.loc[:,dataType+'_change']\n",
    "    return(temp_x, temp_y)"
   ]
  },
  {
   "cell_type": "code",
   "execution_count": 30,
   "metadata": {},
   "outputs": [],
   "source": [
    "dataList = ['bit','gol','dj']\n",
    "\n",
    "for cols in dataList :\n",
    "    vars()[cols+'_x'], vars()[cols+'_y'] = splitXY(upData, cols)"
   ]
  },
  {
   "cell_type": "code",
   "execution_count": 47,
   "metadata": {},
   "outputs": [],
   "source": [
    "# classification 확인하기 위해 validation\n",
    "\n",
    "for cols in dataList :\n",
    "    vars()[cols+'_x_train'] = vars()[cols+'_x'].iloc[:-1,:]\n",
    "    vars()[cols+'_y_train'] = vars()[cols+'_y'].iloc[:-1]\n",
    "    \n",
    "    vars()[cols+'_x_test'] = vars()[cols+'_x'].iloc[-1,:]\n",
    "    vars()[cols+'_y_test'] = vars()[cols+'_y'].iloc[-1]\n"
   ]
  },
  {
   "cell_type": "code",
   "execution_count": 105,
   "metadata": {},
   "outputs": [
    {
     "data": {
      "text/plain": [
       "bit_close            9353.100000\n",
       "bit_MA_5             9351.560000\n",
       "bit_MA_60            7911.055167\n",
       "bit_dif              1440.504833\n",
       "bit_dif_before_1d    1483.873000\n",
       "Name: 2020-02-02 00:00:00, dtype: float64"
      ]
     },
     "execution_count": 105,
     "metadata": {},
     "output_type": "execute_result"
    }
   ],
   "source": [
    "bit_x_train.iloc[-1,:]"
   ]
  },
  {
   "cell_type": "code",
   "execution_count": 122,
   "metadata": {},
   "outputs": [
    {
     "data": {
      "text/plain": [
       "bit_close            9327.600000\n",
       "bit_MA_5             9356.240000\n",
       "bit_MA_60            7942.515167\n",
       "bit_dif              1413.724833\n",
       "bit_dif_before_1d    1440.504833\n",
       "Name: 2020-02-03 00:00:00, dtype: float64"
      ]
     },
     "execution_count": 122,
     "metadata": {},
     "output_type": "execute_result"
    }
   ],
   "source": [
    "bit_x_test"
   ]
  },
  {
   "cell_type": "code",
   "execution_count": 111,
   "metadata": {},
   "outputs": [
    {
     "data": {
      "text/html": [
       "<div>\n",
       "<style scoped>\n",
       "    .dataframe tbody tr th:only-of-type {\n",
       "        vertical-align: middle;\n",
       "    }\n",
       "\n",
       "    .dataframe tbody tr th {\n",
       "        vertical-align: top;\n",
       "    }\n",
       "\n",
       "    .dataframe thead th {\n",
       "        text-align: right;\n",
       "    }\n",
       "</style>\n",
       "<table border=\"1\" class=\"dataframe\">\n",
       "  <thead>\n",
       "    <tr style=\"text-align: right;\">\n",
       "      <th></th>\n",
       "      <th>bit_close</th>\n",
       "      <th>bit_MA_5</th>\n",
       "      <th>bit_MA_60</th>\n",
       "      <th>bit_dif</th>\n",
       "      <th>bit_dif_before_1d</th>\n",
       "    </tr>\n",
       "  </thead>\n",
       "  <tbody>\n",
       "    <tr>\n",
       "      <td>2020-02-03</td>\n",
       "      <td>9327.6</td>\n",
       "      <td>9356.24</td>\n",
       "      <td>7942.515167</td>\n",
       "      <td>1413.724833</td>\n",
       "      <td>1440.504833</td>\n",
       "    </tr>\n",
       "  </tbody>\n",
       "</table>\n",
       "</div>"
      ],
      "text/plain": [
       "            bit_close  bit_MA_5    bit_MA_60      bit_dif  bit_dif_before_1d\n",
       "2020-02-03     9327.6   9356.24  7942.515167  1413.724833        1440.504833"
      ]
     },
     "execution_count": 111,
     "metadata": {},
     "output_type": "execute_result"
    }
   ],
   "source": [
    "new_x_test.T"
   ]
  },
  {
   "cell_type": "code",
   "execution_count": 107,
   "metadata": {},
   "outputs": [
    {
     "data": {
      "text/plain": [
       "DatetimeIndex(['2013-01-02', '2013-01-03', '2013-01-04', '2013-01-05',\n",
       "               '2013-01-06', '2013-01-07', '2013-01-08', '2013-01-09',\n",
       "               '2013-01-10', '2013-01-11',\n",
       "               ...\n",
       "               '2020-01-24', '2020-01-25', '2020-01-26', '2020-01-27',\n",
       "               '2020-01-28', '2020-01-29', '2020-01-30', '2020-01-31',\n",
       "               '2020-02-01', '2020-02-02'],\n",
       "              dtype='datetime64[ns]', name='date', length=2581, freq=None)"
      ]
     },
     "execution_count": 107,
     "metadata": {},
     "output_type": "execute_result"
    }
   ],
   "source": [
    "bit_x_train.index"
   ]
  },
  {
   "cell_type": "code",
   "execution_count": null,
   "metadata": {},
   "outputs": [],
   "source": [
    "# classifier\n",
    "# knn, svm, rfc, xgb, lgb 의 예측값을 확인해서 ensemble 처리\n",
    "\n",
    "# svm은 ㅈㄴ 느려서 안됨"
   ]
  },
  {
   "cell_type": "code",
   "execution_count": 101,
   "metadata": {},
   "outputs": [
    {
     "data": {
      "text/plain": [
       "((2581, 5),\n",
       " (2581,),\n",
       " Index(['bit_close', 'bit_MA_5', 'bit_MA_60', 'bit_dif', 'bit_dif_before_1d'], dtype='object'))"
      ]
     },
     "execution_count": 101,
     "metadata": {},
     "output_type": "execute_result"
    }
   ],
   "source": [
    "bit_x_train.shape, bit_y_train.shape, bit_x_test.index"
   ]
  },
  {
   "cell_type": "code",
   "execution_count": 118,
   "metadata": {},
   "outputs": [],
   "source": [
    "# get knn_best\n",
    "def getKnc(x_train,y_train,x_test) :\n",
    "    x_test_trans = pd.DataFrame(x_test)\n",
    "    \n",
    "    knc = KNeighborsClassifier(n_jobs = -1)\n",
    "    \n",
    "    parameters = {\n",
    "        'n_neighbors':np.arange(1,11,2),\n",
    "        'weights':['uniform','distance']\n",
    "    }\n",
    "    n_iter_search=10\n",
    "    knc_rgs = RandomizedSearchCV(knc, param_distributions=parameters, cv=7,\n",
    "                                scoring='accuracy', n_jobs=-1,\n",
    "                                verbose=1,random_state=1234,\n",
    "                                n_iter=n_iter_search)\n",
    "    knc_rgs.fit(x_train, y_train)\n",
    "    \n",
    "    # Random Grid Search 기준으로 Grid Search의 파라미터 값 처리\n",
    "    rgs_best_nei = knc_rgs.best_params_.get('n_neighbors')\n",
    "    rgs_best_weights = knc_rgs.best_params_.get('weights')\n",
    "    \n",
    "    grid_params = {\n",
    "        'n_neighbors':np.arange(rgs_best_nei-2 if rgs_best_nei>2 else 1, rgs_best_nei+4,2),\n",
    "        'weights':rgs_best_weights\n",
    "    }\n",
    "    \n",
    "    n_iter_search=10\n",
    "    knc_gs = GridSearchCV(knc, param_grid=parameters, cv=7,scoring='accuracy', n_jobs=-1)\n",
    "\n",
    "    knc_gs.fit(x_train, y_train)\n",
    "    knc_best = knc_gs.best_estimator_\n",
    "    prediction = knc_best.predict(x_test_trans.T)\n",
    "    \n",
    "    # 반환 : 예측값, 배스트 모델값\n",
    "    return (prediction[0],knc_best)"
   ]
  },
  {
   "cell_type": "code",
   "execution_count": 134,
   "metadata": {},
   "outputs": [],
   "source": [
    "# 너무 느려서 안되네\n",
    "def getSvm(x_train,y_train,x_test) :\n",
    "    x_test_trans = pd.DataFrame(x_test)\n",
    "    \n",
    "    svc = SVC()\n",
    "    \n",
    "    parameters = {\n",
    "        'C':np.arange(1,10),\n",
    "        'kernel':['rbf','poly','linear'],\n",
    "        'degree':np.arange(2,5),\n",
    "        'gamma': [0.01,0.1,1,10]\n",
    "    }\n",
    "    n_iter_search=10\n",
    "    svc_rgs = RandomizedSearchCV(svc, param_distributions=parameters, cv=7,\n",
    "                                scoring='accuracy', n_jobs=-1,\n",
    "                                verbose=1,random_state=1234,\n",
    "                                n_iter=n_iter_search)\n",
    "    svc_rgs.fit(x_train, y_train)\n",
    "    \n",
    "    # Random Grid Search 기준으로 Grid Search의 파라미터 값 처리\n",
    "    svc_c = svc_rgs.best_params_.get('C')\n",
    "    svc_k = svc_rgs.best_params_.get('kernel')\n",
    "    svc_d = svc_rgs.best_params_.get('degree')\n",
    "    svc_g = svc_rgs.best_params_.get('gamma')\n",
    "    \n",
    "    parameters = {\n",
    "        'C':np.arange(svc_c-1 if svc_c > 1 else 1,svc_c+2),\n",
    "        'kernel':svc_k,\n",
    "        'degree':np.arange(svc_d-1 if svc_d > 1 else 1,svc_d+2),\n",
    "        'gamma': np.arange(svc_g/2,svc*3/2,svc_g/10)\n",
    "    }\n",
    "    \n",
    "    svc_gs = GridSearchCV(svc, param_grid=parameters, cv=7,scoring='accuracy', n_jobs=-1)\n",
    "\n",
    "    svc_gs.fit(x_train, y_train)\n",
    "    svc_best = svc_gs.best_estimator_\n",
    "    prediction = svc_best.predict(x_test_trans.T)\n",
    "    \n",
    "    # 반환 : 예측값, 배스트 모델값\n",
    "    return (prediction[0],svc_best)"
   ]
  },
  {
   "cell_type": "code",
   "execution_count": 119,
   "metadata": {},
   "outputs": [
    {
     "name": "stdout",
     "output_type": "stream",
     "text": [
      "Fitting 7 folds for each of 10 candidates, totalling 70 fits\n"
     ]
    },
    {
     "name": "stderr",
     "output_type": "stream",
     "text": [
      "C:\\dev\\Anaconda3\\lib\\site-packages\\sklearn\\model_selection\\_split.py:657: Warning: The least populated class in y has only 1 members, which is too few. The minimum number of members in any class cannot be less than n_splits=7.\n",
      "  % (min_groups, self.n_splits)), Warning)\n",
      "[Parallel(n_jobs=-1)]: Using backend LokyBackend with 8 concurrent workers.\n",
      "[Parallel(n_jobs=-1)]: Done  70 out of  70 | elapsed:    1.0s finished\n",
      "C:\\dev\\Anaconda3\\lib\\site-packages\\sklearn\\model_selection\\_split.py:657: Warning: The least populated class in y has only 1 members, which is too few. The minimum number of members in any class cannot be less than n_splits=7.\n",
      "  % (min_groups, self.n_splits)), Warning)\n"
     ]
    }
   ],
   "source": [
    "# getKnc Test\n",
    "bit_pred_knc, bit_knc_best = getKnc(bit_x_train.loc['2017-01-01':,:], \n",
    "                                    bit_y_train.loc['2017-01-01':],bit_x_test)"
   ]
  },
  {
   "cell_type": "code",
   "execution_count": null,
   "metadata": {},
   "outputs": [
    {
     "name": "stdout",
     "output_type": "stream",
     "text": [
      "Fitting 7 folds for each of 10 candidates, totalling 70 fits\n"
     ]
    },
    {
     "name": "stderr",
     "output_type": "stream",
     "text": [
      "C:\\dev\\Anaconda3\\lib\\site-packages\\sklearn\\model_selection\\_split.py:657: Warning: The least populated class in y has only 1 members, which is too few. The minimum number of members in any class cannot be less than n_splits=7.\n",
      "  % (min_groups, self.n_splits)), Warning)\n",
      "[Parallel(n_jobs=-1)]: Using backend LokyBackend with 8 concurrent workers.\n"
     ]
    }
   ],
   "source": [
    "# getSvm Test\n",
    "bit_pred_svc, bit_svc_best = getSvm(bit_x_train.loc['2017-01-01':,:], \n",
    "                                    bit_y_train.loc['2017-01-01':],bit_x_test)"
   ]
  },
  {
   "cell_type": "code",
   "execution_count": 125,
   "metadata": {},
   "outputs": [
    {
     "data": {
      "text/plain": [
       "(1,\n",
       " -1,\n",
       " KNeighborsClassifier(algorithm='auto', leaf_size=30, metric='minkowski',\n",
       "                      metric_params=None, n_jobs=-1, n_neighbors=3, p=2,\n",
       "                      weights='uniform'))"
      ]
     },
     "execution_count": 125,
     "metadata": {},
     "output_type": "execute_result"
    }
   ],
   "source": [
    "bit_pred_knc,bit_y_test, bit_knc_best"
   ]
  },
  {
   "cell_type": "code",
   "execution_count": null,
   "metadata": {},
   "outputs": [],
   "source": [
    "bit_knc_best.best_score_"
   ]
  },
  {
   "cell_type": "code",
   "execution_count": 130,
   "metadata": {},
   "outputs": [
    {
     "data": {
      "text/plain": [
       "array([0.005, 0.006, 0.007, 0.008, 0.009, 0.01 , 0.011, 0.012, 0.013,\n",
       "       0.014])"
      ]
     },
     "execution_count": 130,
     "metadata": {},
     "output_type": "execute_result"
    }
   ],
   "source": [
    "svc_g = 0.01\n",
    "\n",
    "np.arange(svc_g/2,svc_g*3/2,svc_g/10)"
   ]
  },
  {
   "cell_type": "code",
   "execution_count": null,
   "metadata": {},
   "outputs": [],
   "source": []
  },
  {
   "cell_type": "code",
   "execution_count": null,
   "metadata": {},
   "outputs": [],
   "source": []
  }
 ],
 "metadata": {
  "kernelspec": {
   "display_name": "Python 3",
   "language": "python",
   "name": "python3"
  },
  "language_info": {
   "codemirror_mode": {
    "name": "ipython",
    "version": 3
   },
   "file_extension": ".py",
   "mimetype": "text/x-python",
   "name": "python",
   "nbconvert_exporter": "python",
   "pygments_lexer": "ipython3",
   "version": "3.7.4"
  }
 },
 "nbformat": 4,
 "nbformat_minor": 2
}
