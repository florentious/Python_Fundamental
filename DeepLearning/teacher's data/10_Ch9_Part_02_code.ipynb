{
 "cells": [
  {
   "cell_type": "markdown",
   "metadata": {},
   "source": [
    "# Ch9-Part01"
   ]
  },
  {
   "cell_type": "code",
   "execution_count": 1,
   "metadata": {},
   "outputs": [],
   "source": [
    "from IPython.display import Image"
   ]
  },
  {
   "cell_type": "code",
   "execution_count": null,
   "metadata": {},
   "outputs": [],
   "source": [
    "# 텐서플로 2 버전 선택\n",
    "try:\n",
    "    # %tensorflow_version only exists in Colab.\n",
    "    %tensorflow_version 2.x\n",
    "except Exception:\n",
    "    pass\n",
    "import tensorflow as tf\n",
    "import numpy as np"
   ]
  },
  {
   "cell_type": "markdown",
   "metadata": {},
   "source": [
    "* MNIST Dataset"
   ]
  },
  {
   "cell_type": "code",
   "execution_count": null,
   "metadata": {},
   "outputs": [],
   "source": [
    "(train_X, train_Y), (test_X, test_Y) = tf.keras.datasets.mnist.load_data()\n",
    "print(train_X.shape, train_Y.shape)\n",
    "\n",
    "train_X = train_X / 255.0\n",
    "test_X = test_X / 255.0"
   ]
  },
  {
   "cell_type": "code",
   "execution_count": null,
   "metadata": {},
   "outputs": [],
   "source": [
    "# 9.2 MNIST 데이터세트 확인\n",
    "import matplotlib.pyplot as plt\n",
    "plt.imshow(train_X[0].reshape(28, 28), cmap='gray')\n",
    "plt.colorbar()\n",
    "plt.show()\n",
    "\n",
    "print(train_Y[0])"
   ]
  },
  {
   "cell_type": "code",
   "execution_count": null,
   "metadata": {},
   "outputs": [],
   "source": [
    "# 9.3 Dense 오토인코더 모델 정의\n",
    "train_X = train_X.reshape(-1, 28 * 28)\n",
    "test_X = test_X.reshape(-1, 28 * 28)\n",
    "print(train_X.shape, train_Y.shape)\n",
    "\n",
    "model = tf.keras.Sequential([\n",
    "    tf.keras.layers.Dense(784, activation='relu', input_shape=(784,)),\n",
    "    tf.keras.layers.Dense(64, activation='relu'),\n",
    "    tf.keras.layers.Dense(784, activation='sigmoid')\n",
    "])\n",
    "\n",
    "model.compile(optimizer=tf.optimizers.Adam(), loss='mse')\n",
    "model.summary()"
   ]
  },
  {
   "cell_type": "code",
   "execution_count": null,
   "metadata": {},
   "outputs": [],
   "source": [
    "# 9.4 Dense 오토인코더 모델 학습\n",
    "model.fit(train_X, train_X, epochs=10, batch_size=256)"
   ]
  },
  {
   "cell_type": "code",
   "execution_count": null,
   "metadata": {},
   "outputs": [],
   "source": [
    "# 9.5 test 데이터로 Dense 오토인코더의 이미지 재생성\n",
    "import random\n",
    "\n",
    "plt.figure(figsize=(4,8))\n",
    "for c in range(4):\n",
    "    plt.subplot(4, 2, c*2+1)\n",
    "    rand_index = random.randint(0, test_X.shape[0])\n",
    "    plt.imshow(test_X[rand_index].reshape(28, 28), cmap='gray')\n",
    "    plt.axis('off')\n",
    "    \n",
    "    plt.subplot(4, 2, c*2+2)\n",
    "    img = model.predict(np.expand_dims(test_X[rand_index], axis=0))\n",
    "    plt.imshow(img.reshape(28, 28), cmap='gray')\n",
    "    plt.axis('off')\n",
    "    \n",
    "plt.show()\n",
    "\n",
    "model.evaluate(test_X, test_X)"
   ]
  },
  {
   "cell_type": "code",
   "execution_count": null,
   "metadata": {},
   "outputs": [],
   "source": [
    "# 9.6 컨볼루션 오토인코더 모델 정의\n",
    "train_X = train_X.reshape(-1, 28, 28, 1)\n",
    "test_X = test_X.reshape(-1, 28, 28, 1)\n",
    "\n",
    "model = tf.keras.Sequential([\n",
    "    tf.keras.layers.Conv2D(filters=32, kernel_size=2, strides=(2,2), activation='relu', input_shape=(28, 28, 1)),\n",
    "    tf.keras.layers.Conv2D(filters=64, kernel_size=2, strides=(2,2), activation='relu'),\n",
    "    tf.keras.layers.Flatten(),\n",
    "    tf.keras.layers.Dense(64, activation='relu'),\n",
    "    tf.keras.layers.Dense(7*7*64, activation='relu'),\n",
    "    tf.keras.layers.Reshape(target_shape=(7,7,64)),\n",
    "    tf.keras.layers.Conv2DTranspose(filters=32, kernel_size=2, strides=(2,2), padding='same', activation='relu'),\n",
    "    tf.keras.layers.Conv2DTranspose(filters=1, kernel_size=2, strides=(2,2), padding='same', activation='sigmoid')\n",
    "])\n",
    "\n",
    "model.compile(optimizer=tf.optimizers.Adam(), loss='mse')\n",
    "model.summary()"
   ]
  },
  {
   "cell_type": "code",
   "execution_count": null,
   "metadata": {},
   "outputs": [],
   "source": [
    "# 9.7 컨볼루션 오토인코더 모델 학습\n",
    "model.fit(train_X, train_X, epochs=20, batch_size=256)"
   ]
  },
  {
   "cell_type": "code",
   "execution_count": null,
   "metadata": {},
   "outputs": [],
   "source": [
    "# 9.8 test 데이터로 컨볼루션 오토인코더의 이미지 재생성\n",
    "import random\n",
    "\n",
    "plt.figure(figsize=(4,8))\n",
    "for c in range(4):\n",
    "    plt.subplot(4, 2, c*2+1)\n",
    "    rand_index = random.randint(0, test_X.shape[0])\n",
    "    plt.imshow(test_X[rand_index].reshape(28, 28), cmap='gray')\n",
    "    plt.axis('off')\n",
    "    \n",
    "    plt.subplot(4, 2, c*2+2)\n",
    "    img = model.predict(np.expand_dims(test_X[rand_index], axis=0))\n",
    "    plt.imshow(img.reshape(28, 28), cmap='gray')\n",
    "    plt.axis('off')\n",
    "    \n",
    "plt.show()\n",
    "\n",
    "model.evaluate(test_X, test_X)"
   ]
  },
  {
   "cell_type": "markdown",
   "metadata": {},
   "source": [
    "* 참고)"
   ]
  },
  {
   "cell_type": "code",
   "execution_count": null,
   "metadata": {},
   "outputs": [],
   "source": [
    "# 그림 9.7 출력 코드\n",
    "import math\n",
    "\n",
    "x = np.arange(-5, 5, 0.01)\n",
    "relu = [0 if z < 0 else z for z in x]\n",
    "elu = [1.0 * (np.exp(z) - 1) if z < 0 else z for z in x]\n",
    "\n",
    "# plt.axhline(0, color='gray')\n",
    "plt.axvline(0, color='gray')\n",
    "plt.plot(x, relu, 'r--', label='relu')\n",
    "plt.plot(x, elu, 'g-', label='elu')\n",
    "plt.legend()\n",
    "plt.show()"
   ]
  },
  {
   "cell_type": "code",
   "execution_count": null,
   "metadata": {},
   "outputs": [],
   "source": [
    "# 9.9 활성화함수를 elu로 바꾼 컨볼루션 오토인코더 모델 정의 및 학습\n",
    "train_X = train_X.reshape(-1, 28, 28, 1)\n",
    "test_X = test_X.reshape(-1, 28, 28, 1)\n",
    "\n",
    "model = tf.keras.Sequential([\n",
    "    tf.keras.layers.Conv2D(filters=32, kernel_size=2, strides=(2,2), activation='elu', input_shape=(28, 28, 1)),\n",
    "    tf.keras.layers.Conv2D(filters=64, kernel_size=2, strides=(2,2), activation='elu'),\n",
    "    tf.keras.layers.Flatten(),\n",
    "    tf.keras.layers.Dense(64, activation='elu'),\n",
    "    tf.keras.layers.Dense(7*7*64, activation='elu'),\n",
    "    tf.keras.layers.Reshape(target_shape=(7,7,64)),\n",
    "    tf.keras.layers.Conv2DTranspose(filters=32, kernel_size=2, strides=(2,2), padding='same', activation='elu'),\n",
    "    tf.keras.layers.Conv2DTranspose(filters=1, kernel_size=2, strides=(2,2), padding='same', activation='sigmoid')\n",
    "])\n",
    "\n",
    "model.compile(optimizer=tf.optimizers.Adam(), loss='mse')\n",
    "\n",
    "model.fit(train_X, train_X, epochs=20, batch_size=256)"
   ]
  },
  {
   "cell_type": "code",
   "execution_count": null,
   "metadata": {},
   "outputs": [],
   "source": [
    "# 9.10 test 데이터로 컨볼루션 오토인코더의 이미지 재생성\n",
    "import random\n",
    "\n",
    "plt.figure(figsize=(4,8))\n",
    "for c in range(4):\n",
    "    plt.subplot(4, 2, c*2+1)\n",
    "    rand_index = random.randint(0, test_X.shape[0])\n",
    "    plt.imshow(test_X[rand_index].reshape(28, 28), cmap='gray')\n",
    "    plt.axis('off')\n",
    "    \n",
    "    plt.subplot(4, 2, c*2+2)\n",
    "    img = model.predict(np.expand_dims(test_X[rand_index], axis=0))\n",
    "    plt.imshow(img.reshape(28, 28), cmap='gray')\n",
    "    plt.axis('off')\n",
    "    \n",
    "plt.show()\n",
    "\n",
    "model.evaluate(test_X, test_X)"
   ]
  },
  {
   "cell_type": "code",
   "execution_count": null,
   "metadata": {},
   "outputs": [],
   "source": []
  },
  {
   "cell_type": "markdown",
   "metadata": {},
   "source": [
    "# 초해상도(Super Resolution) 이미지 얻기"
   ]
  },
  {
   "cell_type": "markdown",
   "metadata": {},
   "source": [
    "* 목표 : 이미지 확대 등을 통해도 깨지지 않을 고해상도의 이미지를 잘 얻을 수 있도록 하는 것이 목표임!!"
   ]
  },
  {
   "cell_type": "markdown",
   "metadata": {},
   "source": [
    "![title](img/img_42.png) "
   ]
  },
  {
   "cell_type": "markdown",
   "metadata": {},
   "source": [
    "![title](img/img_43.png) "
   ]
  },
  {
   "cell_type": "markdown",
   "metadata": {},
   "source": [
    "* REDNet의 특징 : 숫자의 반이 앞단의 인코더의 컨볼류션 레이어, 남은 숫자의 반이 뒤의 디코더의 컨볼루션 레이어임!!!   --> 그래서 이 수가 늘어나면 더 많은 레이어를 사용하게 된다. --> 수가 늘어나면 앞쪽의 정보들이 사라지게 되기에 중간에 뛰어서 다시 연결을 하는 Residual 을 사용을 함!!!!--> TF에서는 ADD를 사용하면 되고, 이를 반영하는 네트워크 구조를 다시 손을 봐서 사용을 해야한다!!!!\n",
    "    "
   ]
  },
  {
   "cell_type": "code",
   "execution_count": null,
   "metadata": {},
   "outputs": [],
   "source": [
    "tf.keras.utils.get_file('/content/bsd_images.zip', 'http://bit.ly/35pHZlC', extract=True)\n",
    "\n",
    "!unzip /content/bsd_images.zip"
   ]
  },
  {
   "cell_type": "code",
   "execution_count": null,
   "metadata": {},
   "outputs": [],
   "source": [
    "# 9.19 이미지 경로 저장 및 확인\n",
    "import pathlib\n",
    "image_root = pathlib.Path('/content/images')\n",
    "\n",
    "all_image_paths = list(image_root.glob('*/*'))\n",
    "print(all_image_paths[:10])"
   ]
  },
  {
   "cell_type": "markdown",
   "metadata": {},
   "source": [
    "* 아래 이미지를 확인을 하면, 이 데이터 셋은 이미지 경계선을 추출하기 위한 것들을 위한 목적이기 때문에 내용에 대한 통일성은 조금 부족함.   "
   ]
  },
  {
   "cell_type": "code",
   "execution_count": null,
   "metadata": {},
   "outputs": [],
   "source": [
    "# 9.20 이미지 확인\n",
    "import PIL.Image as Image\n",
    "import matplotlib.pyplot as plt\n",
    "\n",
    "plt.figure(figsize=(12,12))\n",
    "for c in range(9):\n",
    "    plt.subplot(3,3,c+1)\n",
    "    plt.imshow(plt.imread(all_image_paths[c]))\n",
    "    plt.title(all_image_paths[c])\n",
    "    plt.axis('off')\n",
    "plt.show()"
   ]
  },
  {
   "cell_type": "markdown",
   "metadata": {},
   "source": [
    "* BSD 500은 200장의 훈련 데이터, 100장의 검증 데이터, 200장의 테스트 데이터로 구성이 되어 있음!!! --> 이를 위해서 이미지 경로를 분리하여 지정을 함!!!"
   ]
  },
  {
   "cell_type": "code",
   "execution_count": null,
   "metadata": {},
   "outputs": [],
   "source": [
    "# 9.21 이미지 경로 분리 저장\n",
    "train_path, valid_path, test_path = [], [], []\n",
    "\n",
    "for image_path in all_image_paths:\n",
    "    if str(image_path).split('.')[-1] != 'jpg':\n",
    "        continue\n",
    "    \n",
    "    if str(image_path).split('/')[-2] == 'train':\n",
    "        train_path.append(str(image_path))\n",
    "    elif str(image_path).split('/')[-2] == 'val':\n",
    "        valid_path.append(str(image_path))\n",
    "    else:\n",
    "        test_path.append(str(image_path))"
   ]
  },
  {
   "cell_type": "markdown",
   "metadata": {},
   "source": [
    "![title](img/img_44.png) "
   ]
  },
  {
   "cell_type": "markdown",
   "metadata": {},
   "source": [
    "* 입력 : 저해상도 이미지 , 출력 : 고해상동 이미지 ---> 완전히 동일하지는 않지만 거의 유사하기에 여러 네트워크 모델 중에서 \"오토인코더 모델\"을 사용하게 됨!!!!"
   ]
  },
  {
   "cell_type": "markdown",
   "metadata": {},
   "source": [
    "* 아래 코드 : 고해상도에서 50-50으로 자른 이후에 이를  25-25로 만들고, 단순히 다시 50-50으로 복구를 하면서 블러드된 저해상도의 입력 영상을 만들는 부분임!!! --> 고행상도/저해상도 만드는 것"
   ]
  },
  {
   "cell_type": "markdown",
   "metadata": {},
   "source": [
    "*  JPEG이미지 : tf.io.read_file 로 불러오기 --> decode_jpeg를 통해서 프로그램이 이해할(R/G/B등 3채널) 수 있는 데이터 형태로 만들기 위해서 다시 convert_image_dtype를 수행\n",
    "* 고해상도는 이미 불러온 것에서 아무 곳에서 50by50을 자르면 되니 쉽게 얻을 수 있음!! 저해상도는 줄였다 다시 늘리는 방식으로 생성--> 원하는 입력/출력 데이터를 만드는 부분임!!!"
   ]
  },
  {
   "cell_type": "code",
   "execution_count": null,
   "metadata": {},
   "outputs": [],
   "source": [
    "# 9.22 원본 이미지에서 조각을 추출하고 입력, 출력 데이터를 반환하는 함수 정의\n",
    "def get_hr_and_lr(image_path):\n",
    "    img = tf.io.read_file(image_path)\n",
    "    img = tf.image.decode_jpeg(img, channels=3)\n",
    "    img = tf.image.convert_image_dtype(img, tf.float32)\n",
    "\n",
    "    hr = tf.image.random_crop(img, [50, 50, 3])\n",
    "    lr = tf.image.resize(hr, [25, 25])\n",
    "    lr = tf.image.resize(lr, [50, 50])\n",
    "    return lr, hr"
   ]
  },
  {
   "cell_type": "markdown",
   "metadata": {},
   "source": [
    "* Train/ Vaild 셋을 만드는 과정임---> valid는 batch가 1로 테스트 용도이니...1로 다르게 되어 있음에 유의!!"
   ]
  },
  {
   "cell_type": "code",
   "execution_count": null,
   "metadata": {},
   "outputs": [],
   "source": [
    "# 9.23 train, valid Dataset 정의\n",
    "train_dataset = tf.data.Dataset.list_files(train_path)\n",
    "train_dataset = train_dataset.map(get_hr_and_lr)\n",
    "train_dataset = train_dataset.repeat()\n",
    "train_dataset = train_dataset.batch(16)\n",
    "\n",
    "valid_dataset = tf.data.Dataset.list_files(valid_path)\n",
    "valid_dataset = valid_dataset.map(get_hr_and_lr)\n",
    "valid_dataset = valid_dataset.repeat()\n",
    "valid_dataset = valid_dataset.batch(1)"
   ]
  },
  {
   "cell_type": "markdown",
   "metadata": {},
   "source": [
    "* REDNet30은 앞단 컨볼루션 15, 뒷에 컨볼루션 15개의 구조임. --> 2칸씩 건너 뛰면서 relu를 거친 것들을 함께 하는 방식임"
   ]
  },
  {
   "cell_type": "markdown",
   "metadata": {},
   "source": [
    "![title](img/img_45.png) "
   ]
  },
  {
   "cell_type": "markdown",
   "metadata": {},
   "source": [
    "![title](img/img_46.png) \n",
    "![title](img/img_47.png) "
   ]
  },
  {
   "cell_type": "markdown",
   "metadata": {},
   "source": [
    "* 주의1!!)모델이 직선형이 아니기에 API를 활용해서 네트워크 구조를 정의를 해야한다!!!!!"
   ]
  },
  {
   "cell_type": "code",
   "execution_count": null,
   "metadata": {},
   "outputs": [],
   "source": [
    "# 9.24 tf.keras의 함수형 API를 사용한 REDNet 네트워크 정의\n",
    "# 참고) 아래와 같이 하나 변수를 계속 재활용하는 것은 케라스/torch에서 주로 사용하는 양식임....\n",
    "def REDNet(num_layers):\n",
    "    ##### 모델 레이어에 대한 부분  ####\n",
    "    # Part 01 ) 각기 레이어에 대한 초기화 및 설정 준비\n",
    "    conv_layers = []\n",
    "    deconv_layers = []\n",
    "    residual_layers = []\n",
    "\n",
    "    # PArt 02) 입력 단에서는 던지는 입력 크기로 받기 위해서 shape이 None, None, 3\n",
    "    # 처음 conv에서는 채널3이기에 이를 받기 위해서 처음 Conv만 커널의 크기를 3으로 함!!!\n",
    "    inputs = tf.keras.layers.Input(shape=(None, None, 3))\n",
    "    conv_layers.append(tf.keras.layers.Conv2D(3, kernel_size=3, padding='same', activation='relu'))\n",
    "\n",
    "    \n",
    "    # Part 03) 처음 conv이 후에 반복될 것들에 대한 설계\n",
    "    # 양 쪽이 동일하게 (인코더/디코더) 를 생성을 하니 for에서 생성을...\n",
    "    # 여기서는 필터 수를 64개로....\n",
    "    for i in range(num_layers-1):\n",
    "        conv_layers.append(tf.keras.layers.Conv2D(64, kernel_size=3, padding='same', activation='relu'))\n",
    "        deconv_layers.append(tf.keras.layers.Conv2DTranspose(64, kernel_size=3, padding='same', activation='relu'))\n",
    "\n",
    "    # Part 04) 입력층 처럼 맨 마지막 디코더 부분에 있어서도 따로 설계...\n",
    "    deconv_layers.append(tf.keras.layers.Conv2DTranspose(3, kernel_size=3, padding='same'))\n",
    "\n",
    "    ############################################\n",
    "    \n",
    "    ##### 수행 과정에 대한 부분  ####\n",
    "    # Part 01) \n",
    "    # 인코더 시작 --> 입력 받고 처음 레이어에 수행....\n",
    "    x = conv_layers[0](inputs)\n",
    "\n",
    "    # Part 02) 짝수 레이어에서 residual에 추가를 한다.....\n",
    "    for i in range(num_layers-1):\n",
    "        x = conv_layers[i+1](x)\n",
    "        if i % 2 == 0:\n",
    "            residual_layers.append(x)\n",
    "\n",
    "    # Part 03) part 2에서 넘긴 resudual을 받아서 처리할 것들...\n",
    "    # 디코더 시작 --> 앞 인코더에서 넘어온 것들을 relu를 써서 합성이 필요함!!!!!!!\n",
    "    # 디코더는 홀수쪽에서 받게 되니.... 홀수일 때\n",
    "    for i in range(num_layers-1):\n",
    "        if i % 2 == 1:\n",
    "            x = tf.keras.layers.Add()([x, residual_layers.pop()])\n",
    "            x = tf.keras.layers.Activation('relu')(x)\n",
    "        x = deconv_layers[i](x) \n",
    "\n",
    "    #  Part 04) 최종 아웃풋 직전 레이어....\n",
    "    x = deconv_layers[-1](x)\n",
    "    \n",
    "    \n",
    "    #####################\n",
    "    # Part 01) keras의 모델을 만들기 위해서 입력/출력을 지정을 함....\n",
    "    model = tf.keras.Model(inputs=inputs, outputs=x)\n",
    "    return model"
   ]
  },
  {
   "cell_type": "markdown",
   "metadata": {},
   "source": [
    "* 평가지표 : 정의 되어 있지 않으면, 직접 만들어서도 사용해야 할 수 있음!!!!!\n",
    "![평가지표](img/img_48.png) "
   ]
  },
  {
   "cell_type": "code",
   "execution_count": null,
   "metadata": {},
   "outputs": [],
   "source": [
    "# 9.25 PSNR 정의\n",
    "def psnr_metric(y_true, y_pred):\n",
    "    return tf.image.psnr(y_true, y_pred, max_val=1.0)"
   ]
  },
  {
   "cell_type": "code",
   "execution_count": null,
   "metadata": {},
   "outputs": [],
   "source": [
    "# 9.26 REDNet-30 네트워크 초기화 및 컴파일\n",
    "model = REDNet(15)\n",
    "model.compile(optimizer=tf.optimizers.Adam(0.0001), loss='mse', metrics=[psnr_metric])\n",
    "\n",
    "\n",
    "# 네트워크 시각화 --> 시각화된 이미지 제공..\n",
    "tf.keras.utils.plot_model(model)"
   ]
  },
  {
   "cell_type": "code",
   "execution_count": null,
   "metadata": {},
   "outputs": [],
   "source": [
    "# 9.27 REDNet-30 네트워크 학습\n",
    "history = model.fit_generator(train_dataset, \n",
    "                              epochs=1000, \n",
    "                              steps_per_epoch=len(train_path)//16, \n",
    "                              validation_data=valid_dataset, \n",
    "                              validation_steps=len(valid_path), \n",
    "                              verbose=2)"
   ]
  },
  {
   "cell_type": "code",
   "execution_count": null,
   "metadata": {},
   "outputs": [],
   "source": [
    "# 9.28 REDNet-30 네트워크 학습 결과 확인\n",
    "import matplotlib.pyplot as plt\n",
    "plt.plot(history.history['psnr_metric'], 'b-', label='psnr')\n",
    "plt.plot(history.history['val_psnr_metric'], 'r--', label='val_psnr')\n",
    "plt.xlabel('Epoch')\n",
    "plt.legend()\n",
    "plt.show()"
   ]
  },
  {
   "cell_type": "code",
   "execution_count": null,
   "metadata": {},
   "outputs": [],
   "source": [
    "# 9.29 test 이미지 super resolution\n",
    "img = tf.io.read_file(test_path[0])\n",
    "img = tf.image.decode_jpeg(img, channels=3)\n",
    "hr = tf.image.convert_image_dtype(img, tf.float32)\n",
    "\n",
    "lr = tf.image.resize(hr, [hr.shape[0]//2, hr.shape[1]//2])\n",
    "lr = tf.image.resize(lr, [hr.shape[0], hr.shape[1]])\n",
    "predict_hr = model.predict(np.expand_dims(lr, axis=0))\n",
    "\n",
    "print(tf.image.psnr(np.squeeze(predict_hr, axis=0), hr, max_val=1.0))\n",
    "print(tf.image.psnr(lr, hr, max_val=1.0))"
   ]
  },
  {
   "cell_type": "code",
   "execution_count": null,
   "metadata": {},
   "outputs": [],
   "source": [
    "# 9.30 test 이미지 super resolution 결과 확인\n",
    "plt.figure(figsize=(8,16))\n",
    "\n",
    "plt.subplot(3, 1, 1)\n",
    "plt.imshow(hr)\n",
    "plt.title('original - hr')\n",
    "\n",
    "plt.subplot(3, 1, 2)\n",
    "plt.imshow(lr)\n",
    "plt.title('lr')\n",
    "\n",
    "plt.subplot(3, 1, 3)\n",
    "plt.imshow(np.squeeze(predict_hr, axis=0))\n",
    "plt.title('sr')"
   ]
  },
  {
   "cell_type": "markdown",
   "metadata": {},
   "source": [
    "* 평가를 위한 벤치마크 중 유명한 것이 Set5를 기준으로..."
   ]
  },
  {
   "cell_type": "code",
   "execution_count": null,
   "metadata": {},
   "outputs": [],
   "source": [
    "# 9.31 Set5의 나비 이미지 테스트\n",
    "image_path = tf.keras.utils.get_file('butterfly.png', 'http://bit.ly/2oAOxgH')\n",
    "img = tf.io.read_file(image_path)\n",
    "img = tf.image.decode_jpeg(img, channels=3)\n",
    "hr = tf.image.convert_image_dtype(img, tf.float32)\n",
    "\n",
    "lr = tf.image.resize(hr, [hr.shape[0]//2, hr.shape[1]//2])\n",
    "lr = tf.image.resize(lr, [hr.shape[0], hr.shape[1]])\n",
    "predict_hr = model.predict(np.expand_dims(lr, axis=0))\n",
    "\n",
    "print(tf.image.psnr(np.squeeze(predict_hr, axis=0), hr, max_val=1.0))\n",
    "print(tf.image.psnr(lr, hr, max_val=1.0))\n",
    "\n",
    "\n",
    "plt.figure(figsize=(16,6))\n",
    "plt.subplot(1, 3, 1)\n",
    "plt.imshow(hr)\n",
    "plt.title('original - hr')\n",
    "\n",
    "plt.subplot(1, 3, 2)\n",
    "plt.imshow(lr)\n",
    "plt.title('lr')\n",
    "\n",
    "plt.subplot(1, 3, 3)\n",
    "plt.imshow(np.squeeze(predict_hr, axis=0))\n",
    "plt.title('sr')"
   ]
  },
  {
   "cell_type": "markdown",
   "metadata": {},
   "source": [
    "* 추가 미션!!! --> 확대 비율을 2배가 아니라 4배로 미션의 나이도 상승!!!!!   \n",
    "그래서 50by50 --> 12by12 --> 50by50으로 수정을 함!!!!   \n",
    "--> 그리고 random을 통해서 상하/ 좌우 반전을 25%정도를 하면서 데이터 셋을 만들고..."
   ]
  },
  {
   "cell_type": "code",
   "execution_count": null,
   "metadata": {},
   "outputs": [],
   "source": [
    "# 9.32 확대 비율을 2배에서 4배로 수정, 이미지 보강\n",
    "import random\n",
    "def get_hr_and_lr_flip_s4(image_path):\n",
    "    img = tf.io.read_file(image_path)\n",
    "    img = tf.image.decode_jpeg(img, channels=3)\n",
    "    img = tf.image.convert_image_dtype(img, tf.float32)\n",
    "\n",
    "    hr = tf.image.random_crop(img, [50, 50, 3])\n",
    "    lr = tf.image.resize(hr, [12, 12])\n",
    "    lr = tf.image.resize(lr, [50, 50])\n",
    "    \n",
    "    if random.random() < 0.25:\n",
    "        hr = tf.image.flip_left_right(hr)\n",
    "        lr = tf.image.flip_left_right(lr)\n",
    "    if random.random() < 0.25:\n",
    "        hr = tf.image.flip_up_down(hr)\n",
    "        lr = tf.image.flip_up_down(lr)\n",
    "    \n",
    "    return lr, hr"
   ]
  },
  {
   "cell_type": "code",
   "execution_count": null,
   "metadata": {},
   "outputs": [],
   "source": [
    "# 9.33 REDNet-30 네트워크 학습\n",
    "train_dataset = tf.data.Dataset.list_files(train_path)\n",
    "train_dataset = train_dataset.map(get_hr_and_lr_flip_s4)\n",
    "train_dataset = train_dataset.repeat()\n",
    "train_dataset = train_dataset.batch(16)\n",
    "\n",
    "valid_dataset = tf.data.Dataset.list_files(valid_path)\n",
    "valid_dataset = valid_dataset.map(get_hr_and_lr_flip_s4)\n",
    "valid_dataset = valid_dataset.repeat()\n",
    "valid_dataset = valid_dataset.batch(1)\n",
    "\n",
    "model = REDNet(15)\n",
    "model.compile(optimizer=tf.optimizers.Adam(0.0001), loss='mse', metrics=[psnr_metric])\n",
    "\n",
    "history = model.fit_generator(train_dataset, \n",
    "                              epochs=4000, \n",
    "                              steps_per_epoch=len(train_path)//16, \n",
    "                              validation_data=valid_dataset, \n",
    "                              validation_steps=len(valid_path), \n",
    "                              verbose=2)"
   ]
  },
  {
   "cell_type": "code",
   "execution_count": null,
   "metadata": {},
   "outputs": [],
   "source": [
    "# REDNet-30 네트워크 학습 결과 확인\n",
    "import matplotlib.pyplot as plt\n",
    "plt.plot(history.history['psnr_metric'], 'b-', label='psnr')\n",
    "plt.plot(history.history['val_psnr_metric'], 'r--', label='val_psnr')\n",
    "plt.xlabel('Epoch')\n",
    "plt.legend()\n",
    "plt.show()"
   ]
  },
  {
   "cell_type": "code",
   "execution_count": null,
   "metadata": {},
   "outputs": [],
   "source": [
    "# Set5의 나비 이미지 테스트\n",
    "image_path = tf.keras.utils.get_file('butterfly.png', 'http://bit.ly/2oAOxgH')\n",
    "img = tf.io.read_file(image_path)\n",
    "img = tf.image.decode_jpeg(img, channels=3)\n",
    "hr = tf.image.convert_image_dtype(img, tf.float32)\n",
    "\n",
    "lr = tf.image.resize(hr, [hr.shape[0]//4, hr.shape[1]//4])\n",
    "lr = tf.image.resize(lr, [hr.shape[0], hr.shape[1]])\n",
    "predict_hr = model.predict(np.expand_dims(lr, axis=0))\n",
    "\n",
    "print(tf.image.psnr(np.squeeze(predict_hr, axis=0), hr, max_val=1.0))\n",
    "print(tf.image.psnr(lr, hr, max_val=1.0))\n",
    "\n",
    "\n",
    "plt.figure(figsize=(16,6))\n",
    "plt.subplot(1, 3, 1)\n",
    "plt.imshow(hr)\n",
    "plt.title('original - hr')\n",
    "\n",
    "plt.subplot(1, 3, 2)\n",
    "plt.imshow(lr)\n",
    "plt.title('lr')\n",
    "\n",
    "plt.subplot(1, 3, 3)\n",
    "plt.imshow(np.squeeze(predict_hr, axis=0))\n",
    "plt.title('sr')"
   ]
  }
 ],
 "metadata": {
  "kernelspec": {
   "display_name": "Python 3",
   "language": "python",
   "name": "python3"
  },
  "language_info": {
   "codemirror_mode": {
    "name": "ipython",
    "version": 3
   },
   "file_extension": ".py",
   "mimetype": "text/x-python",
   "name": "python",
   "nbconvert_exporter": "python",
   "pygments_lexer": "ipython3",
   "version": "3.7.4"
  }
 },
 "nbformat": 4,
 "nbformat_minor": 4
}
