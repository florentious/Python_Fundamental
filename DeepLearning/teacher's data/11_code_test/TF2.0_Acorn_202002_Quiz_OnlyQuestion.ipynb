{
 "cells": [
  {
   "cell_type": "markdown",
   "metadata": {},
   "source": [
    "# TF-2.0을 기반으로 Deep Learning Model Test"
   ]
  },
  {
   "cell_type": "markdown",
   "metadata": {},
   "source": [
    "* 가이드 라인 : 아래와 같은 결과 들이 나올 수 있도록 해당하는 셀을 만들고, 좋은 성능이 나오는 모델을 찾아보세요!!!"
   ]
  },
  {
   "cell_type": "markdown",
   "metadata": {},
   "source": [
    "### 필요한 패키지 불러오기.."
   ]
  },
  {
   "cell_type": "code",
   "execution_count": 1,
   "metadata": {},
   "outputs": [],
   "source": [
    "# 3.4 텐서플로 2.0 버전 선택\n",
    "try:\n",
    "    # %tensorflow_version only exists in Colab.\n",
    "    %tensorflow_version 2.x\n",
    "except Exception:\n",
    "    pass\n",
    "import tensorflow as tf\n"
   ]
  },
  {
   "cell_type": "code",
   "execution_count": 2,
   "metadata": {},
   "outputs": [],
   "source": [
    "import numpy as np\n",
    "import random\n",
    "seed = 1234\n",
    "np.random.seed(seed)\n",
    "tf.random.set_seed(seed)\n",
    "random.seed(seed)"
   ]
  },
  {
   "cell_type": "code",
   "execution_count": 3,
   "metadata": {},
   "outputs": [
    {
     "name": "stdout",
     "output_type": "stream",
     "text": [
      "2.0.0\n"
     ]
    }
   ],
   "source": [
    "import tensorflow as tf\n",
    "print(tf.__version__)"
   ]
  },
  {
   "cell_type": "markdown",
   "metadata": {},
   "source": [
    "# 문제_1) winequality dataset을 기반으로 좋은 분류 모델을 작성하세요!!!"
   ]
  },
  {
   "cell_type": "markdown",
   "metadata": {},
   "source": [
    "* 와인 데이터 불러오기 : red/white"
   ]
  },
  {
   "cell_type": "code",
   "execution_count": 45,
   "metadata": {},
   "outputs": [
    {
     "name": "stdout",
     "output_type": "stream",
     "text": [
      "   fixed acidity  volatile acidity  citric acid  residual sugar  chlorides  \\\n",
      "0            7.4              0.70          0.0             1.9      0.076   \n",
      "1            7.8              0.88          0.0             2.6      0.098   \n",
      "\n",
      "   free sulfur dioxide  total sulfur dioxide  density    pH  sulphates  \\\n",
      "0                 11.0                  34.0   0.9978  3.51       0.56   \n",
      "1                 25.0                  67.0   0.9968  3.20       0.68   \n",
      "\n",
      "   alcohol  quality  \n",
      "0      9.4        5  \n",
      "1      9.8        5  \n",
      "   fixed acidity  volatile acidity  citric acid  residual sugar  chlorides  \\\n",
      "0            7.0              0.27         0.36            20.7      0.045   \n",
      "1            6.3              0.30         0.34             1.6      0.049   \n",
      "\n",
      "   free sulfur dioxide  total sulfur dioxide  density   pH  sulphates  \\\n",
      "0                 45.0                 170.0    1.001  3.0       0.45   \n",
      "1                 14.0                 132.0    0.994  3.3       0.49   \n",
      "\n",
      "   alcohol  quality  \n",
      "0      8.8        6  \n",
      "1      9.5        6  \n"
     ]
    }
   ],
   "source": [
    "import pandas as pd\n",
    "red = pd.read_csv('http://archive.ics.uci.edu/ml/machine-learning-databases/wine-quality/winequality-red.csv', sep=';')\n",
    "white = pd.read_csv('http://archive.ics.uci.edu/ml/machine-learning-databases/wine-quality/winequality-white.csv', sep=';')\n",
    "print(red.head(2))\n",
    "print(white.head(2))"
   ]
  },
  {
   "cell_type": "markdown",
   "metadata": {},
   "source": [
    "* 각기 red =0, white =1 로 변환하기 + type컬럼에 작성하기 --> red set + white set합쳐서 하나의 wine 이라는 데이터 셋 완성!!!"
   ]
  },
  {
   "cell_type": "code",
   "execution_count": 46,
   "metadata": {},
   "outputs": [
    {
     "name": "stdout",
     "output_type": "stream",
     "text": [
      "   fixed acidity  volatile acidity  citric acid  residual sugar  chlorides  \\\n",
      "0            7.4              0.70          0.0             1.9      0.076   \n",
      "1            7.8              0.88          0.0             2.6      0.098   \n",
      "\n",
      "   free sulfur dioxide  total sulfur dioxide  density    pH  sulphates  \\\n",
      "0                 11.0                  34.0   0.9978  3.51       0.56   \n",
      "1                 25.0                  67.0   0.9968  3.20       0.68   \n",
      "\n",
      "   alcohol  quality  type  \n",
      "0      9.4        5     0  \n",
      "1      9.8        5     0  \n",
      "   fixed acidity  volatile acidity  citric acid  residual sugar  chlorides  \\\n",
      "0            7.0              0.27         0.36            20.7      0.045   \n",
      "1            6.3              0.30         0.34             1.6      0.049   \n",
      "\n",
      "   free sulfur dioxide  total sulfur dioxide  density   pH  sulphates  \\\n",
      "0                 45.0                 170.0    1.001  3.0       0.45   \n",
      "1                 14.0                 132.0    0.994  3.3       0.49   \n",
      "\n",
      "   alcohol  quality  type  \n",
      "0      8.8        6     1  \n",
      "1      9.5        6     1  \n"
     ]
    }
   ],
   "source": [
    "red['type'] = 0\n",
    "white['type'] = 1\n",
    "print(red.head(2))\n",
    "print(white.head(2))\n",
    "\n",
    "wine = pd.concat([red, white])"
   ]
  },
  {
   "cell_type": "markdown",
   "metadata": {},
   "source": [
    "* 정규화 수행 + random하게 train/test로 할 것들에 대한 인덱스 처리"
   ]
  },
  {
   "cell_type": "code",
   "execution_count": 47,
   "metadata": {},
   "outputs": [],
   "source": [
    "wine_norm = (wine - wine.min()) / (wine.max() - wine.min())"
   ]
  },
  {
   "cell_type": "code",
   "execution_count": 48,
   "metadata": {},
   "outputs": [
    {
     "name": "stdout",
     "output_type": "stream",
     "text": [
      "      fixed acidity  volatile acidity  citric acid  residual sugar  chlorides  \\\n",
      "3543       0.181818          0.166667     0.120482        0.018405   0.036545   \n",
      "2252       0.280992          0.140000     0.120482        0.108896   0.061462   \n",
      "\n",
      "      free sulfur dioxide  total sulfur dioxide   density        pH  \\\n",
      "3543             0.166667              0.352535  0.092346  0.534884   \n",
      "2252             0.173611              0.387097  0.167920  0.341085   \n",
      "\n",
      "      sulphates   alcohol   quality  type  \n",
      "3543   0.174157  0.434783  0.500000   1.0  \n",
      "2252   0.168539  0.217391  0.333333   1.0  \n",
      "[[0.18181818 0.16666667 0.12048193 0.01840491 0.03654485 0.16666667\n",
      "  0.35253456 0.09234625 0.53488372 0.1741573  0.43478261 0.5\n",
      "  1.        ]\n",
      " [0.28099174 0.14       0.12048193 0.10889571 0.06146179 0.17361111\n",
      "  0.38709677 0.1679198  0.34108527 0.16853933 0.2173913  0.33333333\n",
      "  1.        ]]\n"
     ]
    }
   ],
   "source": [
    "import numpy as np\n",
    "wine_shuffle = wine_norm.sample(frac=1,random_state=1234)\n",
    "print(wine_shuffle.head(2))\n",
    "wine_np = wine_shuffle.to_numpy()\n",
    "print(wine_np[:2])"
   ]
  },
  {
   "cell_type": "markdown",
   "metadata": {},
   "source": [
    "* 그 값을 기준으로 80프로는 train으로 남은 20프로는 test로"
   ]
  },
  {
   "cell_type": "code",
   "execution_count": 49,
   "metadata": {},
   "outputs": [],
   "source": [
    "train_idx = int(len(wine_np) * 0.8)\n",
    "train_X, train_Y = wine_np[:train_idx, :-1], wine_np[:train_idx, -1]\n",
    "test_X, test_Y = wine_np[train_idx:, :-1], wine_np[train_idx:, -1]"
   ]
  },
  {
   "cell_type": "code",
   "execution_count": 15,
   "metadata": {},
   "outputs": [
    {
     "data": {
      "text/plain": [
       "(5197, 12)"
      ]
     },
     "execution_count": 15,
     "metadata": {},
     "output_type": "execute_result"
    }
   ],
   "source": [
    "train_X.shape"
   ]
  },
  {
   "cell_type": "code",
   "execution_count": 21,
   "metadata": {},
   "outputs": [
    {
     "data": {
      "text/plain": [
       "(5197, 2)"
      ]
     },
     "execution_count": 21,
     "metadata": {},
     "output_type": "execute_result"
    }
   ],
   "source": [
    "train_Y.shape"
   ]
  },
  {
   "cell_type": "code",
   "execution_count": 50,
   "metadata": {},
   "outputs": [],
   "source": [
    "#test_Y => one-hot encoding\n",
    "train_Y = tf.keras.utils.to_categorical(train_Y, num_classes=2)\n",
    "test_Y = tf.keras.utils.to_categorical(test_Y, num_classes=2)"
   ]
  },
  {
   "cell_type": "markdown",
   "metadata": {},
   "source": [
    "### 문제 1- 1) 위의 데이터를 바탕으로 아래 주어진 조건의 DNN의 모델을 만들고, 수행하세요!!! \n",
    " - 조건1 : 모델 구조 : 입력 레이어 + 히든1층(노드 24, activation = relu) + 히든 2층(노드 12, activation=relu) + 아웃풋 레이어\n",
    " - 조건2: loss = \"categorical_crossentropy\", metrics = [\"accuracy],optimizer=tf.keras.optimizers.Adam(lr=0.07)를 바탕으로 최적화를 수행하세요..\n",
    " - 조건3 :model.evaluate(test_X, test_Y,verbose=2) 을 수행해서 test_X 에 대한 결과를 나타내세요!!!\n",
    " - 주의 사항 : (단, train_X, test_X)는 그대로 유지를 해야, 다른 분들과 동일한 평가를 수행할 수 있습니다!!\n",
    " - 주의 사항 : DNN을 할 때의 y의 값이 어떻게 되어야 하는지 잘 고민을 해야할 것입니다!!!"
   ]
  },
  {
   "cell_type": "code",
   "execution_count": 24,
   "metadata": {
    "scrolled": true
   },
   "outputs": [
    {
     "name": "stdout",
     "output_type": "stream",
     "text": [
      "Model: \"sequential_1\"\n",
      "_________________________________________________________________\n",
      "Layer (type)                 Output Shape              Param #   \n",
      "=================================================================\n",
      "dense_5 (Dense)              (None, 24)                312       \n",
      "_________________________________________________________________\n",
      "dense_6 (Dense)              (None, 12)                300       \n",
      "_________________________________________________________________\n",
      "dense_7 (Dense)              (None, 2)                 26        \n",
      "=================================================================\n",
      "Total params: 638\n",
      "Trainable params: 638\n",
      "Non-trainable params: 0\n",
      "_________________________________________________________________\n"
     ]
    }
   ],
   "source": [
    "model = tf.keras.Sequential([\n",
    "    tf.keras.layers.Dense(units=24, activation='relu', input_shape=(12,)),\n",
    "    tf.keras.layers.Dense(units=12, activation='relu'),\n",
    "    \n",
    "    tf.keras.layers.Dense(units=2, activation='softmax')\n",
    "])\n",
    "\n",
    "model.compile(optimizer=tf.keras.optimizers.Adam(lr=0.07), loss='categorical_crossentropy', metrics=['accuracy'])\n",
    "\n",
    "model.summary()"
   ]
  },
  {
   "cell_type": "code",
   "execution_count": 38,
   "metadata": {
    "scrolled": true
   },
   "outputs": [
    {
     "name": "stdout",
     "output_type": "stream",
     "text": [
      "Train on 3897 samples, validate on 1300 samples\n",
      "Epoch 1/20\n",
      "3897/3897 [==============================] - 2s 515us/sample - loss: 0.1353 - accuracy: 0.9512 - val_loss: 0.0411 - val_accuracy: 0.9877\n",
      "Epoch 2/20\n",
      "3897/3897 [==============================] - 1s 158us/sample - loss: 0.0582 - accuracy: 0.9826 - val_loss: 0.0417 - val_accuracy: 0.9915\n",
      "Epoch 3/20\n",
      "3897/3897 [==============================] - 1s 162us/sample - loss: 0.0500 - accuracy: 0.9859 - val_loss: 0.0533 - val_accuracy: 0.9838\n",
      "Epoch 4/20\n",
      "3897/3897 [==============================] - 1s 164us/sample - loss: 0.0506 - accuracy: 0.9861 - val_loss: 0.0378 - val_accuracy: 0.9915\n",
      "Epoch 5/20\n",
      "3897/3897 [==============================] - 1s 163us/sample - loss: 0.0398 - accuracy: 0.9902 - val_loss: 0.0347 - val_accuracy: 0.9915\n",
      "Epoch 6/20\n",
      "3897/3897 [==============================] - 1s 164us/sample - loss: 0.0416 - accuracy: 0.9882 - val_loss: 0.0318 - val_accuracy: 0.9931\n",
      "Epoch 7/20\n",
      "3897/3897 [==============================] - 1s 164us/sample - loss: 0.0393 - accuracy: 0.9887 - val_loss: 0.0393 - val_accuracy: 0.9915\n",
      "Epoch 8/20\n",
      "3897/3897 [==============================] - 1s 160us/sample - loss: 0.0393 - accuracy: 0.9885 - val_loss: 0.0284 - val_accuracy: 0.9931\n",
      "Epoch 9/20\n",
      "3897/3897 [==============================] - 1s 163us/sample - loss: 0.0414 - accuracy: 0.9900 - val_loss: 0.0333 - val_accuracy: 0.9923\n",
      "Epoch 10/20\n",
      "3897/3897 [==============================] - 1s 162us/sample - loss: 0.0378 - accuracy: 0.9902 - val_loss: 0.0338 - val_accuracy: 0.9915\n",
      "Epoch 11/20\n",
      "3897/3897 [==============================] - 1s 192us/sample - loss: 0.0342 - accuracy: 0.9908 - val_loss: 0.0599 - val_accuracy: 0.9815\n",
      "Epoch 12/20\n",
      "3897/3897 [==============================] - 1s 193us/sample - loss: 0.0428 - accuracy: 0.9882 - val_loss: 0.0259 - val_accuracy: 0.9931\n",
      "Epoch 13/20\n",
      "3897/3897 [==============================] - 1s 173us/sample - loss: 0.0302 - accuracy: 0.9923 - val_loss: 0.0242 - val_accuracy: 0.9954\n",
      "Epoch 14/20\n",
      "3897/3897 [==============================] - 1s 166us/sample - loss: 0.0283 - accuracy: 0.9933 - val_loss: 0.0789 - val_accuracy: 0.9777\n",
      "Epoch 15/20\n",
      "3897/3897 [==============================] - 1s 195us/sample - loss: 0.0376 - accuracy: 0.9890 - val_loss: 0.0299 - val_accuracy: 0.9923\n",
      "Epoch 16/20\n",
      "3897/3897 [==============================] - 1s 165us/sample - loss: 0.0360 - accuracy: 0.9897 - val_loss: 0.0333 - val_accuracy: 0.9931\n",
      "Epoch 17/20\n",
      "3897/3897 [==============================] - 1s 163us/sample - loss: 0.0341 - accuracy: 0.9905 - val_loss: 0.0442 - val_accuracy: 0.9885\n",
      "Epoch 18/20\n",
      "3897/3897 [==============================] - 1s 164us/sample - loss: 0.0344 - accuracy: 0.9915 - val_loss: 0.0218 - val_accuracy: 0.9954\n",
      "Epoch 19/20\n",
      "3897/3897 [==============================] - 1s 161us/sample - loss: 0.0309 - accuracy: 0.9923 - val_loss: 0.0232 - val_accuracy: 0.9938\n",
      "Epoch 20/20\n",
      "3897/3897 [==============================] - 1s 165us/sample - loss: 0.0313 - accuracy: 0.9920 - val_loss: 0.0249 - val_accuracy: 0.9938\n"
     ]
    }
   ],
   "source": [
    "history = model.fit()"
   ]
  },
  {
   "cell_type": "code",
   "execution_count": 25,
   "metadata": {},
   "outputs": [
    {
     "name": "stdout",
     "output_type": "stream",
     "text": [
      "Train on 3897 samples, validate on 1300 samples\n",
      "Epoch 1/20\n",
      "3897/3897 [==============================] - 1s 176us/sample - loss: 0.1285 - accuracy: 0.9523 - val_loss: 0.0468 - val_accuracy: 0.9862\n",
      "Epoch 2/20\n",
      "3897/3897 [==============================] - 0s 41us/sample - loss: 0.0651 - accuracy: 0.9815 - val_loss: 0.0516 - val_accuracy: 0.9931\n",
      "Epoch 3/20\n",
      "3897/3897 [==============================] - 0s 43us/sample - loss: 0.0593 - accuracy: 0.9831 - val_loss: 0.0643 - val_accuracy: 0.9800\n",
      "Epoch 4/20\n",
      "3897/3897 [==============================] - 0s 47us/sample - loss: 0.0568 - accuracy: 0.9823 - val_loss: 0.0338 - val_accuracy: 0.9923\n",
      "Epoch 5/20\n",
      "3897/3897 [==============================] - 0s 47us/sample - loss: 0.0402 - accuracy: 0.9879 - val_loss: 0.0327 - val_accuracy: 0.9908\n",
      "Epoch 6/20\n",
      "3897/3897 [==============================] - 0s 47us/sample - loss: 0.0379 - accuracy: 0.9887 - val_loss: 0.0328 - val_accuracy: 0.9923\n",
      "Epoch 7/20\n",
      "3897/3897 [==============================] - 0s 49us/sample - loss: 0.0521 - accuracy: 0.9838 - val_loss: 0.0631 - val_accuracy: 0.9831\n",
      "Epoch 8/20\n",
      "3897/3897 [==============================] - 0s 47us/sample - loss: 0.0453 - accuracy: 0.9869 - val_loss: 0.0285 - val_accuracy: 0.9923\n",
      "Epoch 9/20\n",
      "3897/3897 [==============================] - 0s 46us/sample - loss: 0.0361 - accuracy: 0.9908 - val_loss: 0.0289 - val_accuracy: 0.9923\n",
      "Epoch 10/20\n",
      "3897/3897 [==============================] - 0s 47us/sample - loss: 0.0310 - accuracy: 0.9933 - val_loss: 0.0324 - val_accuracy: 0.9946\n",
      "Epoch 11/20\n",
      "3897/3897 [==============================] - 0s 47us/sample - loss: 0.0335 - accuracy: 0.9918 - val_loss: 0.0281 - val_accuracy: 0.9931\n",
      "Epoch 12/20\n",
      "3897/3897 [==============================] - 0s 47us/sample - loss: 0.0435 - accuracy: 0.9879 - val_loss: 0.0278 - val_accuracy: 0.9931\n",
      "Epoch 13/20\n",
      "3897/3897 [==============================] - 0s 47us/sample - loss: 0.0345 - accuracy: 0.9910 - val_loss: 0.0256 - val_accuracy: 0.9938\n",
      "Epoch 14/20\n",
      "3897/3897 [==============================] - 0s 45us/sample - loss: 0.0297 - accuracy: 0.9923 - val_loss: 0.0389 - val_accuracy: 0.9908\n",
      "Epoch 15/20\n",
      "3897/3897 [==============================] - 0s 47us/sample - loss: 0.0391 - accuracy: 0.9879 - val_loss: 0.0419 - val_accuracy: 0.9908\n",
      "Epoch 16/20\n",
      "3897/3897 [==============================] - 0s 47us/sample - loss: 0.0306 - accuracy: 0.9915 - val_loss: 0.0264 - val_accuracy: 0.9938\n",
      "Epoch 17/20\n",
      "3897/3897 [==============================] - 0s 48us/sample - loss: 0.0302 - accuracy: 0.9915 - val_loss: 0.0337 - val_accuracy: 0.9908\n",
      "Epoch 18/20\n",
      "3897/3897 [==============================] - 0s 48us/sample - loss: 0.0308 - accuracy: 0.9920 - val_loss: 0.0258 - val_accuracy: 0.9946\n",
      "Epoch 19/20\n",
      "3897/3897 [==============================] - 0s 47us/sample - loss: 0.0252 - accuracy: 0.9938 - val_loss: 0.0251 - val_accuracy: 0.9954\n",
      "Epoch 20/20\n",
      "3897/3897 [==============================] - 0s 47us/sample - loss: 0.0277 - accuracy: 0.9941 - val_loss: 0.0209 - val_accuracy: 0.9954\n"
     ]
    }
   ],
   "source": [
    "history = model.fit(train_X, train_Y, epochs=20, batch_size=32, validation_split=0.25)"
   ]
  },
  {
   "cell_type": "code",
   "execution_count": 39,
   "metadata": {},
   "outputs": [
    {
     "data": {
      "image/png": "[encoded data removed]",
      "text/plain": [
       "<Figure size 864x288 with 2 Axes>"
      ]
     },
     "metadata": {
      "needs_background": "light"
     },
     "output_type": "display_data"
    }
   ],
   "source": [
    "import matplotlib.pyplot as plt\n",
    "plt.figure(figsize=(12, 4))\n",
    "\n",
    "plt.subplot(1, 2, 1)\n",
    "plt.plot(history.history['loss'], 'b-', label='loss')\n",
    "plt.plot(history.history['val_loss'], 'r--', label='val_loss')\n",
    "plt.xlabel('Epoch')\n",
    "plt.legend()\n",
    "\n",
    "plt.subplot(1, 2, 2)\n",
    "plt.plot(history.history['accuracy'], 'g-', label='accuracy')\n",
    "plt.plot(history.history['val_accuracy'], 'k--', label='val_accuracy')\n",
    "plt.xlabel('Epoch')\n",
    "plt.ylim(0.7, 1)\n",
    "plt.legend()\n",
    "\n",
    "plt.show()"
   ]
  },
  {
   "cell_type": "code",
   "execution_count": 40,
   "metadata": {},
   "outputs": [
    {
     "name": "stdout",
     "output_type": "stream",
     "text": [
      "1300/1 - 0s - loss: 0.0153 - accuracy: 0.9892\n"
     ]
    },
    {
     "data": {
      "text/plain": [
       "[0.026162641578568863, 0.98923075]"
      ]
     },
     "execution_count": 40,
     "metadata": {},
     "output_type": "execute_result"
    }
   ],
   "source": [
    "model.evaluate(test_X, test_Y,verbose=2)"
   ]
  },
  {
   "cell_type": "code",
   "execution_count": 26,
   "metadata": {},
   "outputs": [
    {
     "name": "stdout",
     "output_type": "stream",
     "text": [
      "1300/1 - 0s - loss: 0.0121 - accuracy: 0.9946\n"
     ]
    },
    {
     "data": {
      "text/plain": [
       "[0.02275209672247561, 0.9946154]"
      ]
     },
     "execution_count": 26,
     "metadata": {},
     "output_type": "execute_result"
    }
   ],
   "source": [
    "# 추가 테스트한 결과\n",
    "model.evaluate(test_X, test_Y,verbose=2)"
   ]
  },
  {
   "cell_type": "markdown",
   "metadata": {},
   "source": [
    "### 문제 1- 2)  위에서 작성한 것보다 보다 좋은 개선된 모델을 만들어 보세요!!![ 목표 : 0.99 accuracy 이상]\n",
    " - 단, DNN 구조의 모델을 기본으로 하고, 다른  ML알고리즘이 아닌  DNN의 구조를 바탕으로 다양한 모델을 만들어서  좋은 모델을 찾아보세요.\n",
    " - model.evaluate(test_X, test_Y,verbose=2) 위와 동일하게 한 결과에 대해서 개선된 부분을 찾아보시길 바랍니다."
   ]
  },
  {
   "cell_type": "code",
   "execution_count": 41,
   "metadata": {
    "scrolled": false
   },
   "outputs": [
    {
     "name": "stdout",
     "output_type": "stream",
     "text": [
      "Train on 3897 samples, validate on 1300 samples\n",
      "Epoch 1/20\n",
      "3897/3897 [==============================] - 2s 602us/sample - loss: 0.1142 - accuracy: 0.9625 - val_loss: 0.0808 - val_accuracy: 0.9769\n",
      "Epoch 2/20\n",
      "3897/3897 [==============================] - 1s 218us/sample - loss: 0.0792 - accuracy: 0.9754 - val_loss: 0.0880 - val_accuracy: 0.9846\n",
      "Epoch 3/20\n",
      "3897/3897 [==============================] - 1s 221us/sample - loss: 0.0869 - accuracy: 0.9749 - val_loss: 0.1194 - val_accuracy: 0.9662\n",
      "Epoch 4/20\n",
      "3897/3897 [==============================] - 1s 225us/sample - loss: 0.0720 - accuracy: 0.9790 - val_loss: 0.0427 - val_accuracy: 0.9877\n",
      "Epoch 5/20\n",
      "3897/3897 [==============================] - 1s 224us/sample - loss: 0.0469 - accuracy: 0.9877 - val_loss: 0.0323 - val_accuracy: 0.9915\n",
      "Epoch 6/20\n",
      "3897/3897 [==============================] - 1s 247us/sample - loss: 0.0363 - accuracy: 0.9910 - val_loss: 0.0298 - val_accuracy: 0.9931\n",
      "Epoch 7/20\n",
      "3897/3897 [==============================] - 1s 233us/sample - loss: 0.0438 - accuracy: 0.9874 - val_loss: 0.1144 - val_accuracy: 0.9854\n",
      "Epoch 8/20\n",
      "3897/3897 [==============================] - 1s 224us/sample - loss: 0.0917 - accuracy: 0.9766 - val_loss: 0.0357 - val_accuracy: 0.9931\n",
      "Epoch 9/20\n",
      "3897/3897 [==============================] - 1s 224us/sample - loss: 0.0423 - accuracy: 0.9895 - val_loss: 0.0323 - val_accuracy: 0.9915\n",
      "Epoch 10/20\n",
      "3897/3897 [==============================] - 1s 233us/sample - loss: 0.0438 - accuracy: 0.9887 - val_loss: 0.0340 - val_accuracy: 0.9931\n",
      "Epoch 11/20\n",
      "3897/3897 [==============================] - 1s 245us/sample - loss: 0.0390 - accuracy: 0.9900 - val_loss: 0.0514 - val_accuracy: 0.9869\n",
      "Epoch 12/20\n",
      "3897/3897 [==============================] - 1s 230us/sample - loss: 0.0399 - accuracy: 0.9897 - val_loss: 0.0318 - val_accuracy: 0.9915\n",
      "Epoch 13/20\n",
      "3897/3897 [==============================] - 1s 236us/sample - loss: 0.0383 - accuracy: 0.9902 - val_loss: 0.0297 - val_accuracy: 0.9931\n",
      "Epoch 14/20\n",
      "3897/3897 [==============================] - 1s 229us/sample - loss: 0.0432 - accuracy: 0.9882 - val_loss: 0.0608 - val_accuracy: 0.9838\n",
      "Epoch 15/20\n",
      "3897/3897 [==============================] - 1s 240us/sample - loss: 0.0339 - accuracy: 0.9918 - val_loss: 0.0299 - val_accuracy: 0.9931\n",
      "Epoch 16/20\n",
      "3897/3897 [==============================] - 1s 234us/sample - loss: 0.0305 - accuracy: 0.9928 - val_loss: 0.0287 - val_accuracy: 0.9931\n",
      "Epoch 17/20\n",
      "3897/3897 [==============================] - 1s 237us/sample - loss: 0.0363 - accuracy: 0.9915 - val_loss: 0.0355 - val_accuracy: 0.9931\n",
      "Epoch 18/20\n",
      "3897/3897 [==============================] - 1s 227us/sample - loss: 0.0591 - accuracy: 0.9851 - val_loss: 0.0299 - val_accuracy: 0.9931\n",
      "Epoch 19/20\n",
      "3897/3897 [==============================] - 1s 247us/sample - loss: 0.0405 - accuracy: 0.9892 - val_loss: 0.0266 - val_accuracy: 0.9931\n",
      "Epoch 20/20\n",
      "3897/3897 [==============================] - 1s 236us/sample - loss: 0.0389 - accuracy: 0.9923 - val_loss: 0.0293 - val_accuracy: 0.9938\n",
      "1300/1 - 0s - loss: 0.0147 - accuracy: 0.9931\n"
     ]
    },
    {
     "data": {
      "text/plain": [
       "[0.02343915577691335, 0.9930769]"
      ]
     },
     "execution_count": 41,
     "metadata": {},
     "output_type": "execute_result"
    }
   ],
   "source": [
    "model = tf.keras.Sequential([\n",
    "    tf.keras.layers.Dense(units=24, activation='relu', input_shape=(12,)),\n",
    "    tf.keras.layers.Dense(units=12, activation='relu'),\n",
    "    tf.keras.layers.Dense(units=12, activation='relu')\n",
    "    \n",
    "    tf.keras.layers.Dense(units=2, activation='softmax')\n",
    "])\n",
    "\n",
    "model.compile(optimizer=tf.keras.optimizers.Adam(lr=0.07),  loss='categorical_crossentropy', metrics=['accuracy'])\n",
    "\n",
    "history = model.fit(train_X, train_Y, epochs=20, batch_size=32, validation_split=0.25)\n",
    "model.evaluate(test_X, test_Y,verbose=2)"
   ]
  },
  {
   "cell_type": "code",
   "execution_count": 34,
   "metadata": {
    "scrolled": true
   },
   "outputs": [
    {
     "name": "stdout",
     "output_type": "stream",
     "text": [
      "Train on 3897 samples, validate on 1300 samples\n",
      "Epoch 1/19\n",
      "3897/3897 [==============================] - 1s 168us/sample - loss: 0.1405 - accuracy: 0.9479 - val_loss: 0.1259 - val_accuracy: 0.9638\n",
      "Epoch 2/19\n",
      "3897/3897 [==============================] - 0s 45us/sample - loss: 0.0812 - accuracy: 0.9751 - val_loss: 0.0516 - val_accuracy: 0.9923\n",
      "Epoch 3/19\n",
      "3897/3897 [==============================] - 0s 47us/sample - loss: 0.0721 - accuracy: 0.9815 - val_loss: 0.0330 - val_accuracy: 0.9938\n",
      "Epoch 4/19\n",
      "3897/3897 [==============================] - 0s 48us/sample - loss: 0.0563 - accuracy: 0.9854 - val_loss: 0.0354 - val_accuracy: 0.9915\n",
      "Epoch 5/19\n",
      "3897/3897 [==============================] - 0s 47us/sample - loss: 0.0452 - accuracy: 0.9890 - val_loss: 0.0398 - val_accuracy: 0.9908\n",
      "Epoch 6/19\n",
      "3897/3897 [==============================] - 0s 48us/sample - loss: 0.0518 - accuracy: 0.9882 - val_loss: 0.0395 - val_accuracy: 0.9946\n",
      "Epoch 7/19\n",
      "3897/3897 [==============================] - 0s 49us/sample - loss: 0.0558 - accuracy: 0.9869 - val_loss: 0.0505 - val_accuracy: 0.9923\n",
      "Epoch 8/19\n",
      "3897/3897 [==============================] - 0s 47us/sample - loss: 0.0530 - accuracy: 0.9859 - val_loss: 0.0298 - val_accuracy: 0.9938\n",
      "Epoch 9/19\n",
      "3897/3897 [==============================] - 0s 47us/sample - loss: 0.0463 - accuracy: 0.9900 - val_loss: 0.0346 - val_accuracy: 0.9923\n",
      "Epoch 10/19\n",
      "3897/3897 [==============================] - 0s 47us/sample - loss: 0.0396 - accuracy: 0.9915 - val_loss: 0.0319 - val_accuracy: 0.9946\n",
      "Epoch 11/19\n",
      "3897/3897 [==============================] - 0s 47us/sample - loss: 0.0449 - accuracy: 0.9882 - val_loss: 0.0690 - val_accuracy: 0.9808\n",
      "Epoch 12/19\n",
      "3897/3897 [==============================] - 0s 49us/sample - loss: 0.0433 - accuracy: 0.9890 - val_loss: 0.0296 - val_accuracy: 0.9946\n",
      "Epoch 13/19\n",
      "3897/3897 [==============================] - 0s 48us/sample - loss: 0.0337 - accuracy: 0.9926 - val_loss: 0.0273 - val_accuracy: 0.9946\n",
      "Epoch 14/19\n",
      "3897/3897 [==============================] - 0s 50us/sample - loss: 0.0372 - accuracy: 0.9902 - val_loss: 0.2516 - val_accuracy: 0.9285\n",
      "Epoch 15/19\n",
      "3897/3897 [==============================] - 0s 50us/sample - loss: 0.0501 - accuracy: 0.9856 - val_loss: 0.0276 - val_accuracy: 0.9938\n",
      "Epoch 16/19\n",
      "3897/3897 [==============================] - 0s 50us/sample - loss: 0.0354 - accuracy: 0.9908 - val_loss: 0.0256 - val_accuracy: 0.9946\n",
      "Epoch 17/19\n",
      "3897/3897 [==============================] - 0s 47us/sample - loss: 0.0336 - accuracy: 0.9918 - val_loss: 0.0280 - val_accuracy: 0.9931\n",
      "Epoch 18/19\n",
      "3897/3897 [==============================] - 0s 48us/sample - loss: 0.0341 - accuracy: 0.9928 - val_loss: 0.0244 - val_accuracy: 0.9938\n",
      "Epoch 19/19\n",
      "3897/3897 [==============================] - 0s 48us/sample - loss: 0.0271 - accuracy: 0.9936 - val_loss: 0.0216 - val_accuracy: 0.9962\n",
      "1300/1 - 0s - loss: 0.0101 - accuracy: 0.9962\n"
     ]
    },
    {
     "data": {
      "text/plain": [
       "[0.018296551334743318, 0.99615383]"
      ]
     },
     "execution_count": 34,
     "metadata": {},
     "output_type": "execute_result"
    }
   ],
   "source": [
    "model = tf.keras.Sequential([\n",
    "    tf.keras.layers.Dense(units=24, activation='relu', input_shape=(12,)),\n",
    "    tf.keras.layers.Dense(units=12, activation='relu'),\n",
    "    tf.keras.layers.Dense(units=12, activation='relu'),\n",
    "    \n",
    "    tf.keras.layers.Dense(units=2, activation='softmax')\n",
    "])\n",
    "\n",
    "model.compile(optimizer=tf.keras.optimizers.Adam(lr=0.07),  loss='categorical_crossentropy', metrics=['accuracy'])\n",
    "\n",
    "history = model.fit(train_X, train_Y, epochs=19, batch_size=32, validation_split=0.25)\n",
    "model.evaluate(test_X, test_Y,verbose=2)"
   ]
  },
  {
   "cell_type": "markdown",
   "metadata": {},
   "source": [
    " "
   ]
  },
  {
   "cell_type": "markdown",
   "metadata": {},
   "source": [
    " "
   ]
  },
  {
   "cell_type": "markdown",
   "metadata": {},
   "source": [
    " "
   ]
  },
  {
   "cell_type": "markdown",
   "metadata": {},
   "source": [
    "# 문제_ 2) Fashion_MNIST 데이터를 활용한 CNN모델을 만들기"
   ]
  },
  {
   "cell_type": "markdown",
   "metadata": {},
   "source": [
    "* 데이터 불러오기"
   ]
  },
  {
   "cell_type": "code",
   "execution_count": 56,
   "metadata": {},
   "outputs": [],
   "source": [
    "import tensorflow as tf\n",
    "\n",
    "fashion_mnist = tf.keras.datasets.fashion_mnist\n",
    "(train_X, train_Y), (test_X, test_Y) = fashion_mnist.load_data()\n",
    "\n",
    "train_X = train_X / 255.0\n",
    "test_X = test_X / 255.0"
   ]
  },
  {
   "cell_type": "markdown",
   "metadata": {},
   "source": [
    "* train_X, test_X의 모양 변경 : 28 by 28 and 1 channel"
   ]
  },
  {
   "cell_type": "code",
   "execution_count": 58,
   "metadata": {},
   "outputs": [],
   "source": [
    "train_X = train_X.reshape(-1, 28, 28, 1)\n",
    "test_X = test_X.reshape(-1, 28, 28, 1)"
   ]
  },
  {
   "cell_type": "markdown",
   "metadata": {},
   "source": [
    "* target label 설명   \n",
    " - 0 : 티셔츠/상의\n",
    " - 1 : 바지\n",
    " - 2 :스웨터\n",
    " - 3 :드레스\n",
    " - 4 :코트\n",
    " - 5 : 샌들\n",
    " - 6 : 셔츠\n",
    " - 7 : 운동화\n",
    " - 8 : 가방\n",
    " - 9 : 부츠"
   ]
  },
  {
   "cell_type": "markdown",
   "metadata": {},
   "source": [
    "* 참고로 실제 데이터 확인"
   ]
  },
  {
   "cell_type": "code",
   "execution_count": 59,
   "metadata": {},
   "outputs": [
    {
     "data": {
      "image/png": "[encoded data removed]",
      "text/plain": [
       "<Figure size 720x720 with 16 Axes>"
      ]
     },
     "metadata": {
      "needs_background": "light"
     },
     "output_type": "display_data"
    },
    {
     "name": "stdout",
     "output_type": "stream",
     "text": [
      "[9 0 0 3 0 2 7 2 5 5 0 9 5 5 7 9]\n"
     ]
    }
   ],
   "source": [
    "import matplotlib.pyplot as plt\n",
    "%matplotlib inline\n",
    "# 전체 그래프의 사이즈를 width=10, height=10 으로 지정합니다.\n",
    "plt.figure(figsize=(10, 10))\n",
    "for c in range(16):\n",
    "    # 4행 4열로 지정한 grid 에서 c+1 번째의 칸에 그래프를 그립니다. 1~16 번째 칸을 채우게 됩니다.\n",
    "    plt.subplot(4,4,c+1)\n",
    "    plt.imshow(train_X[c].reshape(28,28), cmap='gray')\n",
    "    \n",
    "plt.show()\n",
    "\n",
    "# train 데이터의 첫번째 ~ 16번째 까지의 라벨을 프린트합니다.\n",
    "print(train_Y[:16])"
   ]
  },
  {
   "cell_type": "markdown",
   "metadata": {},
   "source": [
    "### 문제 2- 1)  CNN 모델을 활용하여 분류 모델을 완성하세요..\n",
    " - 조건 : \n",
    "     - 입력 레이어\n",
    "     - conv1 layer : 3by3의 커널로 Conv2D, 필터 수 16개\n",
    "     - conv2 layer : 3by3 의 커널로 Conv2D, 필터 수 : 32개\n",
    "     - Neural Network : node : 128개, activation : relu\n",
    "     - 출력 레이터\n",
    "     - 컴파일 조건 : loss = \"sparse_categorical_crossentropy\", metrics=[\"accuracy\"],optimizer=tf.keras.optimizers.Adam()를 기반으로 할 것..\n",
    " - 조건 : model.evaluate(test_X, test_Y, verbose=0)에 대한 출력 확인\n",
    " - 조건 : 학습은 train_X, train_Y 사용"
   ]
  },
  {
   "cell_type": "code",
   "execution_count": 21,
   "metadata": {},
   "outputs": [
    {
     "name": "stdout",
     "output_type": "stream",
     "text": [
      "Train on 45000 samples, validate on 15000 samples\n",
      "Epoch 1/3\n",
      "45000/45000 [==============================] - 149s 3ms/sample - loss: 0.4554 - accuracy: 0.8365 - val_loss: 0.3718 - val_accuracy: 0.8648\n",
      "Epoch 2/3\n",
      "45000/45000 [==============================] - 149s 3ms/sample - loss: 0.3213 - accuracy: 0.8827 - val_loss: 0.3402 - val_accuracy: 0.8771\n",
      "Epoch 3/3\n",
      "45000/45000 [==============================] - 138s 3ms/sample - loss: 0.2600 - accuracy: 0.9036 - val_loss: 0.3563 - val_accuracy: 0.8727\n"
     ]
    },
    {
     "data": {
      "text/plain": [
       "[0.3792726293206215, 0.8683]"
      ]
     },
     "execution_count": 21,
     "metadata": {},
     "output_type": "execute_result"
    }
   ],
   "source": [
    "model = tf.keras.Sequential([\n",
    "~~~\n",
    "])\n",
    "\n",
    "model.compile(optimizer=tf.keras.optimizers.Adam(),  loss='sparse_categorical_crossentropy', metrics=['accuracy'])\n",
    "\n",
    "history = model.fit(~~~)\n",
    "model.evaluate(test_X, test_Y, verbose=0)"
   ]
  },
  {
   "cell_type": "code",
   "execution_count": 61,
   "metadata": {},
   "outputs": [
    {
     "name": "stdout",
     "output_type": "stream",
     "text": [
      "Train on 45000 samples, validate on 15000 samples\n",
      "Epoch 1/10\n",
      "45000/45000 [==============================] - 20s 442us/sample - loss: 0.4512 - accuracy: 0.8398 - val_loss: 0.3814 - val_accuracy: 0.8620\n",
      "Epoch 2/10\n",
      "45000/45000 [==============================] - 20s 434us/sample - loss: 0.3172 - accuracy: 0.8842 - val_loss: 0.3453 - val_accuracy: 0.8765\n",
      "Epoch 3/10\n",
      "45000/45000 [==============================] - 20s 439us/sample - loss: 0.2578 - accuracy: 0.9047 - val_loss: 0.3734 - val_accuracy: 0.8689\n",
      "Epoch 4/10\n",
      "45000/45000 [==============================] - 21s 456us/sample - loss: 0.2094 - accuracy: 0.9226 - val_loss: 0.3791 - val_accuracy: 0.8759\n",
      "Epoch 5/10\n",
      "45000/45000 [==============================] - 20s 451us/sample - loss: 0.1747 - accuracy: 0.9357 - val_loss: 0.4333 - val_accuracy: 0.8732\n",
      "Epoch 6/10\n",
      "45000/45000 [==============================] - 20s 447us/sample - loss: 0.1463 - accuracy: 0.9467 - val_loss: 0.4912 - val_accuracy: 0.8663\n",
      "Epoch 7/10\n",
      "45000/45000 [==============================] - 20s 445us/sample - loss: 0.1254 - accuracy: 0.9541 - val_loss: 0.5051 - val_accuracy: 0.8705\n",
      "Epoch 8/10\n",
      "45000/45000 [==============================] - 20s 447us/sample - loss: 0.1102 - accuracy: 0.9599 - val_loss: 0.5598 - val_accuracy: 0.8707\n",
      "Epoch 9/10\n",
      "45000/45000 [==============================] - 20s 446us/sample - loss: 0.0924 - accuracy: 0.9669 - val_loss: 0.6717 - val_accuracy: 0.8703\n",
      "Epoch 10/10\n",
      "45000/45000 [==============================] - 20s 447us/sample - loss: 0.0913 - accuracy: 0.9670 - val_loss: 0.6761 - val_accuracy: 0.8672\n"
     ]
    },
    {
     "data": {
      "text/plain": [
       "[0.7003964703723788, 0.8653]"
      ]
     },
     "execution_count": 61,
     "metadata": {},
     "output_type": "execute_result"
    }
   ],
   "source": [
    "model = tf.keras.Sequential([\n",
    "    tf.keras.layers.Conv2D(input_shape=(28,28,1), kernel_size=(3,3), filters=16),\n",
    "    tf.keras.layers.Conv2D(kernel_size=(3,3), filters=32),\n",
    "    # 평탄화\n",
    "    tf.keras.layers.Flatten(),\n",
    "    tf.keras.layers.Dense(units=128, activation='relu'),\n",
    "    tf.keras.layers.Dense(units=10, activation='softmax')\n",
    "    \n",
    "    \n",
    "])\n",
    "\n",
    "model.compile(optimizer=tf.keras.optimizers.Adam(),  loss='sparse_categorical_crossentropy', metrics=['accuracy'])\n",
    "\n",
    "history = model.fit(train_X,train_Y, epochs=10, validation_split=0.25)\n",
    "model.evaluate(test_X, test_Y, verbose=0)"
   ]
  },
  {
   "cell_type": "markdown",
   "metadata": {},
   "source": [
    "* 위에서 학습한 것을 확인하는 용도 코드"
   ]
  },
  {
   "cell_type": "code",
   "execution_count": 22,
   "metadata": {},
   "outputs": [
    {
     "data": {
      "image/png": "[encoded data removed]",
      "text/plain": [
       "<Figure size 864x288 with 2 Axes>"
      ]
     },
     "metadata": {
      "needs_background": "light"
     },
     "output_type": "display_data"
    },
    {
     "data": {
      "text/plain": [
       "[0.3792726293206215, 0.8683]"
      ]
     },
     "execution_count": 22,
     "metadata": {},
     "output_type": "execute_result"
    }
   ],
   "source": [
    "import matplotlib.pyplot as plt\n",
    "plt.figure(figsize=(12, 4))\n",
    "\n",
    "plt.subplot(1, 2, 1)\n",
    "plt.plot(history.history['loss'], 'b-', label='loss')\n",
    "plt.plot(history.history['val_loss'], 'r--', label='val_loss')\n",
    "plt.xlabel('Epoch')\n",
    "plt.legend()\n",
    "\n",
    "plt.subplot(1, 2, 2)\n",
    "plt.plot(history.history['accuracy'], 'g-', label='accuracy')\n",
    "plt.plot(history.history['val_accuracy'], 'k--', label='val_accuracy')\n",
    "plt.xlabel('Epoch')\n",
    "plt.ylim(0.7, 1)\n",
    "plt.legend()\n",
    "\n",
    "plt.show()\n",
    "\n",
    "model.evaluate(test_X, test_Y, verbose=0)"
   ]
  },
  {
   "cell_type": "markdown",
   "metadata": {},
   "source": [
    "### 문제 2- 2)  위에서 작성한 것보다 보다 좋은 개선된 모델을 만들어 보세요!!! [목표 : accuracy 0.91이상]\n",
    " - 단, CNN 구조의 모델을 기본으로 하고, 위의 것 보다 좋은 모델을 만들어 보세요!!!\n",
    " - 다양한 방식을 활용해서 레이어 구조 변경, 다른 모델 차용 등....\n",
    " - model.evaluate(test_X, test_Y,verbose=0) 위와 동일하게 한 결과에 대해서 개선된 부분을 찾아보시길 바랍니다."
   ]
  },
  {
   "cell_type": "code",
   "execution_count": 23,
   "metadata": {},
   "outputs": [
    {
     "name": "stdout",
     "output_type": "stream",
     "text": [
      "Train on 45000 samples, validate on 15000 samples\n",
      "Epoch 1/10\n",
      "45000/45000 [==============================] - 1063s 24ms/sample - loss: 0.5920 - accuracy: 0.7839 - val_loss: 0.3281 - val_accuracy: 0.8767\n",
      "Epoch 2/10\n",
      "45000/45000 [==============================] - 1058s 24ms/sample - loss: 0.3684 - accuracy: 0.8663 - val_loss: 0.2764 - val_accuracy: 0.8945\n",
      "Epoch 3/10\n",
      "45000/45000 [==============================] - 1073s 24ms/sample - loss: 0.3258 - accuracy: 0.8840 - val_loss: 0.2542 - val_accuracy: 0.9078\n",
      "Epoch 4/10\n",
      "45000/45000 [==============================] - 1055s 23ms/sample - loss: 0.3048 - accuracy: 0.8921 - val_loss: 0.2439 - val_accuracy: 0.9110\n",
      "Epoch 5/10\n",
      "45000/45000 [==============================] - 1059s 24ms/sample - loss: 0.2891 - accuracy: 0.8964 - val_loss: 0.2272 - val_accuracy: 0.9148\n",
      "Epoch 6/10\n",
      "45000/45000 [==============================] - 1067s 24ms/sample - loss: 0.2771 - accuracy: 0.9018 - val_loss: 0.2410 - val_accuracy: 0.9109\n",
      "Epoch 7/10\n",
      "45000/45000 [==============================] - 1059s 24ms/sample - loss: 0.2670 - accuracy: 0.9045 - val_loss: 0.2238 - val_accuracy: 0.9191\n",
      "Epoch 8/10\n",
      "45000/45000 [==============================] - 1056s 23ms/sample - loss: 0.2595 - accuracy: 0.9063 - val_loss: 0.2217 - val_accuracy: 0.9170\n",
      "Epoch 9/10\n",
      "45000/45000 [==============================] - 1057s 23ms/sample - loss: 0.2595 - accuracy: 0.9068 - val_loss: 0.2221 - val_accuracy: 0.9195\n",
      "Epoch 10/10\n",
      "45000/45000 [==============================] - 1056s 23ms/sample - loss: 0.2497 - accuracy: 0.9088 - val_loss: 0.2188 - val_accuracy: 0.9223\n"
     ]
    },
    {
     "data": {
      "text/plain": [
       "[0.2362356955766678, 0.9152]"
      ]
     },
     "execution_count": 23,
     "metadata": {},
     "output_type": "execute_result"
    }
   ],
   "source": [
    "# 하나의 예시....\n",
    "model = tf.keras.Sequential([\n",
    "   ~~~~~~~\n",
    "])\n",
    "\n",
    "model.compile(optimizer=tf.keras.optimizers.Adam(), loss='sparse_categorical_crossentropy', metrics=['accuracy'])\n",
    "\n",
    "model.fit(~~~~)\n",
    "model.evaluate(test_X, test_Y, verbose=0)"
   ]
  },
  {
   "cell_type": "code",
   "execution_count": 71,
   "metadata": {},
   "outputs": [
    {
     "name": "stdout",
     "output_type": "stream",
     "text": [
      "Train on 45000 samples, validate on 15000 samples\n",
      "Epoch 1/10\n",
      "45000/45000 [==============================] - 16s 351us/sample - loss: 0.4905 - accuracy: 0.8217 - val_loss: 0.3574 - val_accuracy: 0.8687\n",
      "Epoch 2/10\n",
      "45000/45000 [==============================] - 18s 401us/sample - loss: 0.3334 - accuracy: 0.8802 - val_loss: 0.3165 - val_accuracy: 0.8873\n",
      "Epoch 3/10\n",
      "45000/45000 [==============================] - 17s 386us/sample - loss: 0.2910 - accuracy: 0.8933 - val_loss: 0.2973 - val_accuracy: 0.8896\n",
      "Epoch 4/10\n",
      "45000/45000 [==============================] - 18s 407us/sample - loss: 0.2600 - accuracy: 0.9050 - val_loss: 0.2900 - val_accuracy: 0.8949\n",
      "Epoch 5/10\n",
      "45000/45000 [==============================] - 18s 409us/sample - loss: 0.2364 - accuracy: 0.9121 - val_loss: 0.2954 - val_accuracy: 0.8965\n",
      "Epoch 6/10\n",
      "45000/45000 [==============================] - 18s 391us/sample - loss: 0.2161 - accuracy: 0.9218 - val_loss: 0.2935 - val_accuracy: 0.9023\n",
      "Epoch 7/10\n",
      "45000/45000 [==============================] - 17s 387us/sample - loss: 0.2008 - accuracy: 0.9255 - val_loss: 0.2925 - val_accuracy: 0.9015\n",
      "Epoch 8/10\n",
      "45000/45000 [==============================] - 19s 417us/sample - loss: 0.1847 - accuracy: 0.9310 - val_loss: 0.3105 - val_accuracy: 0.8969\n",
      "Epoch 9/10\n",
      "45000/45000 [==============================] - 17s 389us/sample - loss: 0.1727 - accuracy: 0.9356 - val_loss: 0.3350 - val_accuracy: 0.8963\n",
      "Epoch 10/10\n",
      "45000/45000 [==============================] - 18s 403us/sample - loss: 0.1566 - accuracy: 0.9409 - val_loss: 0.3177 - val_accuracy: 0.9013\n"
     ]
    },
    {
     "data": {
      "text/plain": [
       "[0.34302712769508364, 0.8966]"
      ]
     },
     "execution_count": 71,
     "metadata": {},
     "output_type": "execute_result"
    }
   ],
   "source": [
    "model = tf.keras.Sequential([\n",
    "    tf.keras.layers.Conv2D(input_shape=(28,28,1), kernel_size=(3,3), filters=32),\n",
    "    tf.keras.layers.MaxPool2D(strides=(2,2)),\n",
    "    tf.keras.layers.Conv2D(kernel_size=(3,3), filters=64),\n",
    "    tf.keras.layers.MaxPool2D(strides=(2,2)),\n",
    "    tf.keras.layers.Conv2D(kernel_size=(3,3), filters=128),\n",
    "    \n",
    "    tf.keras.layers.Flatten(),\n",
    "    tf.keras.layers.Dense(units=128, activation='relu'),\n",
    "    tf.keras.layers.Dropout(rate=0.1),\n",
    "    tf.keras.layers.Dense(units=10, activation='softmax')\n",
    "    \n",
    "])\n",
    "\n",
    "model.compile(optimizer=tf.keras.optimizers.Adam(),  loss='sparse_categorical_crossentropy', metrics=['accuracy'])\n",
    "\n",
    "history = model.fit(train_X,train_Y, epochs=10, validation_split=0.25)\n",
    "model.evaluate(test_X, test_Y, verbose=0)"
   ]
  },
  {
   "cell_type": "code",
   "execution_count": 72,
   "metadata": {},
   "outputs": [
    {
     "name": "stdout",
     "output_type": "stream",
     "text": [
      "Train on 45000 samples, validate on 15000 samples\n",
      "Epoch 1/10\n",
      "45000/45000 [==============================] - 202s 4ms/sample - loss: 0.5997 - accuracy: 0.7834 - val_loss: 0.3336 - val_accuracy: 0.8738\n",
      "Epoch 2/10\n",
      "45000/45000 [==============================] - 203s 5ms/sample - loss: 0.3766 - accuracy: 0.8644 - val_loss: 0.2720 - val_accuracy: 0.8953\n",
      "Epoch 3/10\n",
      "45000/45000 [==============================] - 203s 5ms/sample - loss: 0.3265 - accuracy: 0.8820 - val_loss: 0.2609 - val_accuracy: 0.9044\n",
      "Epoch 4/10\n",
      "45000/45000 [==============================] - 202s 4ms/sample - loss: 0.3058 - accuracy: 0.8905 - val_loss: 0.2599 - val_accuracy: 0.9018\n",
      "Epoch 5/10\n",
      "45000/45000 [==============================] - 203s 5ms/sample - loss: 0.2894 - accuracy: 0.8969 - val_loss: 0.2273 - val_accuracy: 0.9185\n",
      "Epoch 6/10\n",
      "45000/45000 [==============================] - 202s 4ms/sample - loss: 0.2783 - accuracy: 0.8998 - val_loss: 0.2245 - val_accuracy: 0.9150\n",
      "Epoch 7/10\n",
      "45000/45000 [==============================] - 206s 5ms/sample - loss: 0.2728 - accuracy: 0.9025 - val_loss: 0.2525 - val_accuracy: 0.9079\n",
      "Epoch 8/10\n",
      "45000/45000 [==============================] - 208s 5ms/sample - loss: 0.2600 - accuracy: 0.9082 - val_loss: 0.2180 - val_accuracy: 0.9203\n",
      "Epoch 9/10\n",
      "45000/45000 [==============================] - 208s 5ms/sample - loss: 0.2592 - accuracy: 0.9063 - val_loss: 0.2215 - val_accuracy: 0.9209\n",
      "Epoch 10/10\n",
      "45000/45000 [==============================] - 210s 5ms/sample - loss: 0.2536 - accuracy: 0.9110 - val_loss: 0.2193 - val_accuracy: 0.9195\n"
     ]
    },
    {
     "data": {
      "text/plain": [
       "[0.23159233043193816, 0.9156]"
      ]
     },
     "execution_count": 72,
     "metadata": {},
     "output_type": "execute_result"
    }
   ],
   "source": [
    "model = tf.keras.Sequential([\n",
    "    tf.keras.layers.Conv2D(input_shape=(28,28,1), kernel_size=(3,3), filters=32, padding='same', activation='relu'),\n",
    "    tf.keras.layers.Conv2D(kernel_size=(3,3), filters=64, padding='same', activation='relu'),\n",
    "    tf.keras.layers.MaxPool2D(pool_size=(2,2)),\n",
    "    tf.keras.layers.Dropout(rate=0.5),\n",
    "    tf.keras.layers.Conv2D(kernel_size=(3,3), filters=128, padding='same', activation='relu'),\n",
    "    tf.keras.layers.Conv2D(kernel_size=(3,3), filters=256, padding='valid', activation='relu'),\n",
    "    tf.keras.layers.MaxPool2D(pool_size=(2,2)),\n",
    "    tf.keras.layers.Dropout(rate=0.5),\n",
    "    tf.keras.layers.Flatten(),\n",
    "    tf.keras.layers.Dense(units=512, activation='relu'),\n",
    "    tf.keras.layers.Dropout(rate=0.5),\n",
    "    tf.keras.layers.Dense(units=256, activation='relu'),\n",
    "    tf.keras.layers.Dropout(rate=0.5),\n",
    "    tf.keras.layers.Dense(units=10, activation='softmax')\n",
    "])\n",
    "\n",
    "model.compile(optimizer=tf.keras.optimizers.Adam(),loss='sparse_categorical_crossentropy', metrics=['accuracy'])\n",
    "\n",
    "history = model.fit(train_X,train_Y, epochs=10, validation_split=0.25)\n",
    "model.evaluate(test_X, test_Y, verbose=0)"
   ]
  },
  {
   "cell_type": "code",
   "execution_count": null,
   "metadata": {},
   "outputs": [],
   "source": []
  },
  {
   "cell_type": "markdown",
   "metadata": {},
   "source": [
    "# 문제3) 수업 중에 다루었던 Titanic data 을 활용하여 생존 여부를 예측하는 모델을 작성하세요!!!"
   ]
  },
  {
   "cell_type": "markdown",
   "metadata": {},
   "source": [
    "* 필요 패키지들"
   ]
  },
  {
   "cell_type": "code",
   "execution_count": 46,
   "metadata": {},
   "outputs": [],
   "source": [
    "import numpy as np\n",
    "import pandas as pd\n",
    "from matplotlib import pyplot as plt"
   ]
  },
  {
   "cell_type": "markdown",
   "metadata": {},
   "source": [
    "### 문제 3-1) 아래의 titanic_train.csv를 불러오고, .head(3)을 통해서 데이터를 확인하세요!!"
   ]
  },
  {
   "cell_type": "code",
   "execution_count": 53,
   "metadata": {},
   "outputs": [
    {
     "data": {
      "text/html": [
       "<div>\n",
       "<style scoped>\n",
       "    .dataframe tbody tr th:only-of-type {\n",
       "        vertical-align: middle;\n",
       "    }\n",
       "\n",
       "    .dataframe tbody tr th {\n",
       "        vertical-align: top;\n",
       "    }\n",
       "\n",
       "    .dataframe thead th {\n",
       "        text-align: right;\n",
       "    }\n",
       "</style>\n",
       "<table border=\"1\" class=\"dataframe\">\n",
       "  <thead>\n",
       "    <tr style=\"text-align: right;\">\n",
       "      <th></th>\n",
       "      <th>PassengerId</th>\n",
       "      <th>Survived</th>\n",
       "      <th>Pclass</th>\n",
       "      <th>Name</th>\n",
       "      <th>Sex</th>\n",
       "      <th>Age</th>\n",
       "      <th>SibSp</th>\n",
       "      <th>Parch</th>\n",
       "      <th>Ticket</th>\n",
       "      <th>Fare</th>\n",
       "      <th>Cabin</th>\n",
       "      <th>Embarked</th>\n",
       "    </tr>\n",
       "  </thead>\n",
       "  <tbody>\n",
       "    <tr>\n",
       "      <th>0</th>\n",
       "      <td>1</td>\n",
       "      <td>0</td>\n",
       "      <td>3</td>\n",
       "      <td>Braund, Mr. Owen Harris</td>\n",
       "      <td>male</td>\n",
       "      <td>22.0</td>\n",
       "      <td>1</td>\n",
       "      <td>0</td>\n",
       "      <td>A/5 21171</td>\n",
       "      <td>7.2500</td>\n",
       "      <td>NaN</td>\n",
       "      <td>S</td>\n",
       "    </tr>\n",
       "    <tr>\n",
       "      <th>1</th>\n",
       "      <td>2</td>\n",
       "      <td>1</td>\n",
       "      <td>1</td>\n",
       "      <td>Cumings, Mrs. John Bradley (Florence Briggs Th...</td>\n",
       "      <td>female</td>\n",
       "      <td>38.0</td>\n",
       "      <td>1</td>\n",
       "      <td>0</td>\n",
       "      <td>PC 17599</td>\n",
       "      <td>71.2833</td>\n",
       "      <td>C85</td>\n",
       "      <td>C</td>\n",
       "    </tr>\n",
       "    <tr>\n",
       "      <th>2</th>\n",
       "      <td>3</td>\n",
       "      <td>1</td>\n",
       "      <td>3</td>\n",
       "      <td>Heikkinen, Miss. Laina</td>\n",
       "      <td>female</td>\n",
       "      <td>26.0</td>\n",
       "      <td>0</td>\n",
       "      <td>0</td>\n",
       "      <td>STON/O2. 3101282</td>\n",
       "      <td>7.9250</td>\n",
       "      <td>NaN</td>\n",
       "      <td>S</td>\n",
       "    </tr>\n",
       "  </tbody>\n",
       "</table>\n",
       "</div>"
      ],
      "text/plain": [
       "   PassengerId  Survived  Pclass  \\\n",
       "0            1         0       3   \n",
       "1            2         1       1   \n",
       "2            3         1       3   \n",
       "\n",
       "                                                Name     Sex   Age  SibSp  \\\n",
       "0                            Braund, Mr. Owen Harris    male  22.0      1   \n",
       "1  Cumings, Mrs. John Bradley (Florence Briggs Th...  female  38.0      1   \n",
       "2                             Heikkinen, Miss. Laina  female  26.0      0   \n",
       "\n",
       "   Parch            Ticket     Fare Cabin Embarked  \n",
       "0      0         A/5 21171   7.2500   NaN        S  \n",
       "1      0          PC 17599  71.2833   C85        C  \n",
       "2      0  STON/O2. 3101282   7.9250   NaN        S  "
      ]
     },
     "execution_count": 53,
     "metadata": {},
     "output_type": "execute_result"
    }
   ],
   "source": [
    "df = pd.read_csv('titanic_train.csv')\n",
    "df.head(3)"
   ]
  },
  {
   "cell_type": "markdown",
   "metadata": {},
   "source": [
    "### 참고 : 데이터 항목 설명\n",
    " - surveved : 생존여부(0/1),   \n",
    " - Pclass : 티켓의 클래스(1은 1st, 2는 2nd ..),    \n",
    " - n ame : 승객이름,    \n",
    " - sex : 승객성별,      \n",
    " - Age : 승객나이,    \n",
    " - SibSp : 함께 탑승한 형재와 배우자의 수,      \n",
    " - parch : 함께 탑승한 부모, 아이의 수,       \n",
    " - ticket: 티켓번호,      \n",
    " - Fare: 탑승료,      \n",
    " - cabin : 객실번호,       \n",
    " - embarked :탑승항구(C:Cherboug, Q :Queenstown, S:south ampton)"
   ]
  },
  {
   "cell_type": "markdown",
   "metadata": {},
   "source": [
    "#### outlier 제거를 위한 부분 --> 2칼럼 초과하여 3칼럼 모두 이상치인 데이터는 제거를 하기 위한 부분"
   ]
  },
  {
   "cell_type": "code",
   "execution_count": 54,
   "metadata": {},
   "outputs": [],
   "source": [
    "from collections import Counter\n",
    "# by ) Tukey method (Tukey JW., 1977) 을 사용을 하고, 수치 데이터 아웃라이어가 2개 이상 발생 시 해당 데이터를 제거하기 위한 작업 중\n",
    "def detect_outliers(df, n, features):\n",
    "    outlier_indices = []\n",
    "    for col in features:\n",
    "        # 1st quartile (25%)\n",
    "        Q1 = np.percentile(df[col], 25)\n",
    "        # 3rd quartile (75%)\n",
    "        Q3 = np.percentile(df[col],75)\n",
    "        # Interquartile range (IQR)\n",
    "        IQR = Q3 - Q1\n",
    "        # outlier step\n",
    "        outlier_step = 1.5 * IQR\n",
    "        outlier_list_col = df[(df[col] < Q1 - outlier_step) | (df[col] > Q3 + outlier_step )].index\n",
    "        \n",
    "        outlier_indices.extend(outlier_list_col)\n",
    "    # select observations containing more than 2 outliers\n",
    "    outlier_indices = Counter(outlier_indices)  \n",
    "    multiple_outliers = list( k for k, v in outlier_indices.items() if v > n )\n",
    "    \n",
    "    return multiple_outliers   "
   ]
  },
  {
   "cell_type": "code",
   "execution_count": 55,
   "metadata": {},
   "outputs": [],
   "source": [
    "# detect outliers from Age, SibSp , Parch and Fare\n",
    "Outliers_to_drop = detect_outliers(df,2,[\"Age\",\"SibSp\",\"Parch\",\"Fare\"])"
   ]
  },
  {
   "cell_type": "code",
   "execution_count": 56,
   "metadata": {},
   "outputs": [
    {
     "name": "stdout",
     "output_type": "stream",
     "text": [
      "<class 'pandas.core.frame.DataFrame'>\n",
      "RangeIndex: 881 entries, 0 to 880\n",
      "Data columns (total 12 columns):\n",
      " #   Column       Non-Null Count  Dtype  \n",
      "---  ------       --------------  -----  \n",
      " 0   PassengerId  881 non-null    int64  \n",
      " 1   Survived     881 non-null    int64  \n",
      " 2   Pclass       881 non-null    int64  \n",
      " 3   Name         881 non-null    object \n",
      " 4   Sex          881 non-null    object \n",
      " 5   Age          711 non-null    float64\n",
      " 6   SibSp        881 non-null    int64  \n",
      " 7   Parch        881 non-null    int64  \n",
      " 8   Ticket       881 non-null    object \n",
      " 9   Fare         881 non-null    float64\n",
      " 10  Cabin        201 non-null    object \n",
      " 11  Embarked     879 non-null    object \n",
      "dtypes: float64(2), int64(5), object(5)\n",
      "memory usage: 82.7+ KB\n"
     ]
    }
   ],
   "source": [
    "df = df.drop(Outliers_to_drop, axis = 0).reset_index(drop=True)\n",
    "df.info()"
   ]
  },
  {
   "cell_type": "markdown",
   "metadata": {},
   "source": [
    "* 아래와 같이 빵구난 데이터를 확인하세요!"
   ]
  },
  {
   "cell_type": "code",
   "execution_count": 57,
   "metadata": {},
   "outputs": [
    {
     "data": {
      "text/plain": [
       "PassengerId      0\n",
       "Survived         0\n",
       "Pclass           0\n",
       "Name             0\n",
       "Sex              0\n",
       "Age            170\n",
       "SibSp            0\n",
       "Parch            0\n",
       "Ticket           0\n",
       "Fare             0\n",
       "Cabin          680\n",
       "Embarked         2\n",
       "dtype: int64"
      ]
     },
     "execution_count": 57,
     "metadata": {},
     "output_type": "execute_result"
    }
   ],
   "source": [
    "df.isnull().sum()"
   ]
  },
  {
   "cell_type": "markdown",
   "metadata": {},
   "source": [
    "### 문제 3_2) Embarked의 빠진 2개의 데이터를 \"S\"의 문자열 값으로 채우세요!! --> 그리고 제대로 채워졌는지 확인하세요!!!"
   ]
  },
  {
   "cell_type": "code",
   "execution_count": 64,
   "metadata": {},
   "outputs": [],
   "source": [
    "########## 수정한 코드\n",
    "\n",
    "df[\"Embarked\"] = df.Embarked.apply(lambda x : x if x is not None else 'S')"
   ]
  },
  {
   "cell_type": "code",
   "execution_count": 65,
   "metadata": {},
   "outputs": [
    {
     "data": {
      "text/plain": [
       "S    636\n",
       "C    168\n",
       "Q     77\n",
       "Name: Embarked, dtype: int64"
      ]
     },
     "execution_count": 65,
     "metadata": {},
     "output_type": "execute_result"
    }
   ],
   "source": [
    "df[\"Embarked\"] .value_counts(dropna=False)"
   ]
  },
  {
   "cell_type": "markdown",
   "metadata": {},
   "source": [
    "* 나이에 대한 빠진 값을 --> SibSp / Parch / Pclass의 값이 같으면 그 데이터들을 모아서 중간값으로 예측, 아니면 나이 데이터 중에서 단순 중간값으로 채우기!!"
   ]
  },
  {
   "cell_type": "code",
   "execution_count": 67,
   "metadata": {},
   "outputs": [],
   "source": [
    "index_NaN_age = list(df[\"Age\"][df[\"Age\"].isnull()].index)\n",
    "\n",
    "age_idx = df.columns.get_loc(\"Age\")\n",
    "SibSp_idx = df.columns.get_loc(\"SibSp\")\n",
    "Parch_idx = df.columns.get_loc(\"Parch\")\n",
    "Pclass_idx = df.columns.get_loc(\"Pclass\")\n",
    "\n",
    "for i in index_NaN_age :\n",
    "    age_med = df[\"Age\"].median()\n",
    "    age_pred = df[\"Age\"][((df['SibSp'] == df.iloc[i][\"SibSp\"]) \n",
    "                             & (df['Parch'] == df.iloc[i][\"Parch\"]) & \n",
    "                             (df['Pclass'] == df.iloc[i][\"Pclass\"]))].median()\n",
    "    if not np.isnan(age_pred) :\n",
    "        df.iat[i, age_idx] = age_pred\n",
    "    else :\n",
    "        df.iat[i, age_idx]  = age_med"
   ]
  },
  {
   "cell_type": "markdown",
   "metadata": {},
   "source": [
    "### 문제3_3) 아래와 같이 Cabin의 컬럼에 대해서 빠진 680데이터에는  \"X\"라는 문자열의 값으로 채우고, 맨 앞의 1글자만으로 객실을 단순화 하세요!!! (아래 결과표 참고)"
   ]
  },
  {
   "cell_type": "code",
   "execution_count": 68,
   "metadata": {},
   "outputs": [
    {
     "data": {
      "text/plain": [
       "NaN        680\n",
       "B96 B98      4\n",
       "G6           4\n",
       "F2           3\n",
       "C22 C26      3\n",
       "          ... \n",
       "A14          1\n",
       "C54          1\n",
       "D10 D12      1\n",
       "C86          1\n",
       "D50          1\n",
       "Name: Cabin, Length: 148, dtype: int64"
      ]
     },
     "execution_count": 68,
     "metadata": {},
     "output_type": "execute_result"
    }
   ],
   "source": [
    "df[\"Cabin\"] .value_counts(dropna=False)"
   ]
  },
  {
   "cell_type": "code",
   "execution_count": 69,
   "metadata": {},
   "outputs": [
    {
     "data": {
      "text/plain": [
       "X    680\n",
       "C     56\n",
       "B     47\n",
       "D     33\n",
       "E     32\n",
       "A     15\n",
       "F     13\n",
       "G      4\n",
       "T      1\n",
       "Name: Cabin, dtype: int64"
      ]
     },
     "execution_count": 69,
     "metadata": {},
     "output_type": "execute_result"
    }
   ],
   "source": [
    "####### 수정한 코드\n",
    "\n",
    "df.Cabin = df.Cabin.apply(lambda x : str(x)[0] if x is not None else 'X')\n",
    "\n",
    "df[\"Cabin\"].value_counts(dropna=False)"
   ]
  },
  {
   "cell_type": "markdown",
   "metadata": {},
   "source": [
    "* 전체적으로 우선은 빠진 데이터가 없는지 확인!!"
   ]
  },
  {
   "cell_type": "code",
   "execution_count": 72,
   "metadata": {},
   "outputs": [
    {
     "data": {
      "text/plain": [
       "PassengerId    0\n",
       "Survived       0\n",
       "Pclass         0\n",
       "Name           0\n",
       "Sex            0\n",
       "Age            0\n",
       "SibSp          0\n",
       "Parch          0\n",
       "Ticket         0\n",
       "Fare           0\n",
       "Cabin          0\n",
       "Embarked       0\n",
       "dtype: int64"
      ]
     },
     "execution_count": 72,
     "metadata": {},
     "output_type": "execute_result"
    }
   ],
   "source": [
    "df.isnull().sum()"
   ]
  },
  {
   "cell_type": "markdown",
   "metadata": {},
   "source": [
    "* 기본적인 일괄적인 전처리 예정   \n",
    " - 수행 1 : \"PassengerId\", \"Name\", \"Ticket\" 컬럼 삭제   \n",
    " - 수행 2: \"Cabin\", \"Sex\", \"Embarked\" 컬럼 인코더 수행"
   ]
  },
  {
   "cell_type": "code",
   "execution_count": 66,
   "metadata": {},
   "outputs": [],
   "source": [
    "from sklearn import preprocessing\n",
    "from sklearn.preprocessing import LabelEncoder\n",
    "from sklearn.preprocessing import OneHotEncoder"
   ]
  },
  {
   "cell_type": "code",
   "execution_count": 70,
   "metadata": {},
   "outputs": [],
   "source": [
    "#\n",
    "def drop_feature(df):\n",
    "    df.drop([\"PassengerId\", \"Name\", \"Ticket\"], axis=1, inplace=True)\n",
    "    return df"
   ]
  },
  {
   "cell_type": "code",
   "execution_count": 71,
   "metadata": {},
   "outputs": [],
   "source": [
    "def format_features(df):\n",
    "    # 변경할 컬럼 리스트    \n",
    "    features = [\"Cabin\", \"Sex\", \"Embarked\"]\n",
    "    for feature in features:\n",
    "        # 각기 컬럼별로 수행할 인코더 설정 -> 컬럼 별로 다르게 되니 매 for 마다 새로운 것이 불러올 것!!\n",
    "        le = preprocessing.LabelEncoder()\n",
    "        # 인코딩할 컬럼 설절 및 그에 맞는 학습 수행 -> fit\n",
    "        le = le.fit(df.loc[:,feature])\n",
    "        # 실제 학습한 내용을 적용!!!! -> transform\n",
    "        df.loc[:, feature] = le.transform(df.loc[:, feature])\n",
    "    \n",
    "    \n",
    "    # Scalar  사용할 수 있음!!!!\n",
    "\n",
    "    return df  "
   ]
  },
  {
   "cell_type": "code",
   "execution_count": 73,
   "metadata": {},
   "outputs": [],
   "source": [
    "def titanic_transform(df):\n",
    "    df = drop_feature(df)\n",
    "    df = format_features(df)\n",
    "    return df"
   ]
  },
  {
   "cell_type": "code",
   "execution_count": 74,
   "metadata": {},
   "outputs": [
    {
     "data": {
      "text/html": [
       "<div>\n",
       "<style scoped>\n",
       "    .dataframe tbody tr th:only-of-type {\n",
       "        vertical-align: middle;\n",
       "    }\n",
       "\n",
       "    .dataframe tbody tr th {\n",
       "        vertical-align: top;\n",
       "    }\n",
       "\n",
       "    .dataframe thead th {\n",
       "        text-align: right;\n",
       "    }\n",
       "</style>\n",
       "<table border=\"1\" class=\"dataframe\">\n",
       "  <thead>\n",
       "    <tr style=\"text-align: right;\">\n",
       "      <th></th>\n",
       "      <th>Survived</th>\n",
       "      <th>Pclass</th>\n",
       "      <th>Sex</th>\n",
       "      <th>Age</th>\n",
       "      <th>SibSp</th>\n",
       "      <th>Parch</th>\n",
       "      <th>Fare</th>\n",
       "      <th>Cabin</th>\n",
       "      <th>Embarked</th>\n",
       "    </tr>\n",
       "  </thead>\n",
       "  <tbody>\n",
       "    <tr>\n",
       "      <th>0</th>\n",
       "      <td>0</td>\n",
       "      <td>3</td>\n",
       "      <td>1</td>\n",
       "      <td>22.0</td>\n",
       "      <td>1</td>\n",
       "      <td>0</td>\n",
       "      <td>7.2500</td>\n",
       "      <td>8</td>\n",
       "      <td>2</td>\n",
       "    </tr>\n",
       "    <tr>\n",
       "      <th>1</th>\n",
       "      <td>1</td>\n",
       "      <td>1</td>\n",
       "      <td>0</td>\n",
       "      <td>38.0</td>\n",
       "      <td>1</td>\n",
       "      <td>0</td>\n",
       "      <td>71.2833</td>\n",
       "      <td>2</td>\n",
       "      <td>0</td>\n",
       "    </tr>\n",
       "    <tr>\n",
       "      <th>2</th>\n",
       "      <td>1</td>\n",
       "      <td>3</td>\n",
       "      <td>0</td>\n",
       "      <td>26.0</td>\n",
       "      <td>0</td>\n",
       "      <td>0</td>\n",
       "      <td>7.9250</td>\n",
       "      <td>8</td>\n",
       "      <td>2</td>\n",
       "    </tr>\n",
       "  </tbody>\n",
       "</table>\n",
       "</div>"
      ],
      "text/plain": [
       "   Survived  Pclass  Sex   Age  SibSp  Parch     Fare  Cabin  Embarked\n",
       "0         0       3    1  22.0      1      0   7.2500      8         2\n",
       "1         1       1    0  38.0      1      0  71.2833      2         0\n",
       "2         1       3    0  26.0      0      0   7.9250      8         2"
      ]
     },
     "execution_count": 74,
     "metadata": {},
     "output_type": "execute_result"
    }
   ],
   "source": [
    "X_titanic_train = titanic_transform(df)\n",
    "X_titanic_train.head(3)"
   ]
  },
  {
   "cell_type": "code",
   "execution_count": 75,
   "metadata": {},
   "outputs": [],
   "source": [
    "y_titanic_train = X_titanic_train.iloc[:,0]\n",
    "X_titanic_train =X_titanic_train.iloc[:,1:]"
   ]
  },
  {
   "cell_type": "markdown",
   "metadata": {},
   "source": [
    "* 데이터 분리"
   ]
  },
  {
   "cell_type": "code",
   "execution_count": 77,
   "metadata": {},
   "outputs": [],
   "source": [
    "from sklearn.model_selection import train_test_split"
   ]
  },
  {
   "cell_type": "code",
   "execution_count": 78,
   "metadata": {},
   "outputs": [],
   "source": [
    "X_train, X_test, y_train, y_test = train_test_split(X_titanic_train, \n",
    "                                                    y_titanic_train, \n",
    "                                                    stratify = y_titanic_train,\n",
    "                                                    test_size=0.3, \n",
    "                                                    random_state=1234)"
   ]
  },
  {
   "cell_type": "markdown",
   "metadata": {},
   "source": [
    "* 참고) 우리의 비교 모델!!! Random Forest의 정확도 0.81"
   ]
  },
  {
   "cell_type": "code",
   "execution_count": 101,
   "metadata": {},
   "outputs": [],
   "source": [
    "from sklearn.ensemble import RandomForestClassifier\n",
    "from sklearn.metrics import accuracy_score"
   ]
  },
  {
   "cell_type": "code",
   "execution_count": 102,
   "metadata": {},
   "outputs": [
    {
     "name": "stdout",
     "output_type": "stream",
     "text": [
      "Random Forest 의 Test Accuracy Result  :  0.8151\n"
     ]
    }
   ],
   "source": [
    "rf_clf = RandomForestClassifier(n_jobs=-1, random_state=1234)\n",
    "rf_clf.fit(X_train,y_train)\n",
    "\n",
    "rfc_predictions = rf_clf.predict(X_test)\n",
    "accuracy = accuracy_score(y_test, rfc_predictions)\n",
    "print(\"Random Forest 의 Test Accuracy Result  : {0: .4f}\".format(accuracy))"
   ]
  },
  {
   "cell_type": "markdown",
   "metadata": {},
   "source": [
    "### 문제3_4) 비교 모델 Random Forest의 정확도 0.815보다 높은 DNN 모델을 만들어서 타이타닉의 생존을 예측하는 분류 모델을 만드세요!!(DNN모델 이외의 제약 조건은 없음!!!!)"
   ]
  },
  {
   "cell_type": "code",
   "execution_count": 121,
   "metadata": {},
   "outputs": [
    {
     "name": "stdout",
     "output_type": "stream",
     "text": [
      "265/1 - 0s - loss: 0.5296 - accuracy: 0.8302\n"
     ]
    },
    {
     "data": {
      "text/plain": [
       "[0.39467792960832704, 0.8301887]"
      ]
     },
     "execution_count": 121,
     "metadata": {},
     "output_type": "execute_result"
    }
   ],
   "source": []
  },
  {
   "cell_type": "code",
   "execution_count": 117,
   "metadata": {},
   "outputs": [
    {
     "name": "stdout",
     "output_type": "stream",
     "text": [
      "265/1 - 0s - loss: 0.5289 - accuracy: 0.8264\n"
     ]
    },
    {
     "data": {
      "text/plain": [
       "[0.41572618574466347, 0.8264151]"
      ]
     },
     "execution_count": 117,
     "metadata": {},
     "output_type": "execute_result"
    }
   ],
   "source": []
  },
  {
   "cell_type": "code",
   "execution_count": 118,
   "metadata": {},
   "outputs": [
    {
     "name": "stdout",
     "output_type": "stream",
     "text": [
      "265/1 - 1s - loss: 0.5478 - accuracy: 0.8377\n"
     ]
    },
    {
     "data": {
      "text/plain": [
       "[0.41806211651496167, 0.83773583]"
      ]
     },
     "execution_count": 118,
     "metadata": {},
     "output_type": "execute_result"
    }
   ],
   "source": []
  },
  {
   "cell_type": "code",
   "execution_count": 73,
   "metadata": {},
   "outputs": [
    {
     "ename": "SyntaxError",
     "evalue": "invalid syntax (<ipython-input-73-364c473a8b74>, line 2)",
     "output_type": "error",
     "traceback": [
      "\u001b[1;36m  File \u001b[1;32m\"<ipython-input-73-364c473a8b74>\"\u001b[1;36m, line \u001b[1;32m2\u001b[0m\n\u001b[1;33m    tf.keras.layers.Dense(units=24, activation='relu', input_shape=(???,)),\u001b[0m\n\u001b[1;37m                                                                    ^\u001b[0m\n\u001b[1;31mSyntaxError\u001b[0m\u001b[1;31m:\u001b[0m invalid syntax\n"
     ]
    }
   ],
   "source": [
    "model = tf.keras.Sequential([\n",
    "    tf.keras.layers.Dense(units=24, activation='relu', input_shape=(???,)),\n",
    "    tf.keras.layers.Dense(units=12, activation='relu'),\n",
    "    tf.keras.layers.Dense(units=12, activation='relu'),\n",
    "    tf.keras.layers.Dense(units=12, activation='relu'),\n",
    "    \n",
    "    tf.keras.layers.Dense(units=2, activation='softmax')\n",
    "])\n",
    "\n",
    "model.compile(optimizer=tf.keras.optimizers.Adam(lr=0.07), loss='categorical_crossentropy', metrics=['accuracy'])\n",
    "\n",
    "model.summary()"
   ]
  },
  {
   "cell_type": "code",
   "execution_count": null,
   "metadata": {},
   "outputs": [],
   "source": []
  }
 ],
 "metadata": {
  "kernelspec": {
   "display_name": "Python 3",
   "language": "python",
   "name": "python3"
  },
  "language_info": {
   "codemirror_mode": {
    "name": "ipython",
    "version": 3
   },
   "file_extension": ".py",
   "mimetype": "text/x-python",
   "name": "python",
   "nbconvert_exporter": "python",
   "pygments_lexer": "ipython3",
   "version": "3.7.4"
  }
 },
 "nbformat": 4,
 "nbformat_minor": 4
}
