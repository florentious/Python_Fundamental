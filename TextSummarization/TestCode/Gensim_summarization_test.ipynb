{
 "cells": [
  {
   "cell_type": "code",
   "execution_count": 1,
   "metadata": {},
   "outputs": [],
   "source": [
    "from gensim.summarization import summarize\n",
    "from gensim.summarization import keywords"
   ]
  },
  {
   "cell_type": "code",
   "execution_count": 2,
   "metadata": {},
   "outputs": [],
   "source": [
    "from pprint import pprint as print"
   ]
  },
  {
   "cell_type": "code",
   "execution_count": 3,
   "metadata": {},
   "outputs": [
    {
     "name": "stdout",
     "output_type": "stream",
     "text": [
      "('Thomas A. Anderson is a man living two lives. By day he is an average '\n",
      " 'computer programmer and by night a hacker known as Neo. Neo has always '\n",
      " 'questioned his reality, but the truth is far beyond his imagination. Neo '\n",
      " 'finds himself targeted by the police when he is contacted by Morpheus, a '\n",
      " 'legendary computer hacker branded a terrorist by the government. Morpheus '\n",
      " 'awakens Neo to the real world, a ravaged wasteland where most of humanity '\n",
      " \"have been captured by a race of machines that live off of the humans' body \"\n",
      " 'heat and electrochemical energy and who imprison their minds within an '\n",
      " 'artificial reality known as the Matrix. As a rebel against the machines, Neo '\n",
      " 'must return to the Matrix and confront the agents: super-powerful computer '\n",
      " 'programs devoted to snuffing out Neo and the entire human rebellion. ')\n"
     ]
    }
   ],
   "source": [
    "text = (\n",
    "    \"Thomas A. Anderson is a man living two lives. By day he is an \"\n",
    "    \"average computer programmer and by night a hacker known as \"\n",
    "    \"Neo. Neo has always questioned his reality, but the truth is \"\n",
    "    \"far beyond his imagination. Neo finds himself targeted by the \"\n",
    "    \"police when he is contacted by Morpheus, a legendary computer \"\n",
    "    \"hacker branded a terrorist by the government. Morpheus awakens \"\n",
    "    \"Neo to the real world, a ravaged wasteland where most of \"\n",
    "    \"humanity have been captured by a race of machines that live \"\n",
    "    \"off of the humans' body heat and electrochemical energy and \"\n",
    "    \"who imprison their minds within an artificial reality known as \"\n",
    "    \"the Matrix. As a rebel against the machines, Neo must return to \"\n",
    "    \"the Matrix and confront the agents: super-powerful computer \"\n",
    "    \"programs devoted to snuffing out Neo and the entire human \"\n",
    "    \"rebellion. \"\n",
    ")\n",
    "print(text)"
   ]
  },
  {
   "cell_type": "code",
   "execution_count": 4,
   "metadata": {},
   "outputs": [
    {
     "name": "stdout",
     "output_type": "stream",
     "text": [
      "('Morpheus awakens Neo to the real world, a ravaged wasteland where most of '\n",
      " 'humanity have been captured by a race of machines that live off of the '\n",
      " \"humans' body heat and electrochemical energy and who imprison their minds \"\n",
      " 'within an artificial reality known as the Matrix.')\n"
     ]
    }
   ],
   "source": [
    "print(summarize(text))"
   ]
  },
  {
   "cell_type": "code",
   "execution_count": 9,
   "metadata": {},
   "outputs": [
    {
     "name": "stdout",
     "output_type": "stream",
     "text": [
      "('By day he is an average computer programmer and by night a hacker known as '\n",
      " 'Neo. Neo has always questioned his reality, but the truth is far beyond his '\n",
      " 'imagination.\\n'\n",
      " 'Morpheus awakens Neo to the real world, a ravaged wasteland where most of '\n",
      " 'humanity have been captured by a race of machines that live off of the '\n",
      " \"humans' body heat and electrochemical energy and who imprison their minds \"\n",
      " 'within an artificial reality known as the Matrix.\\n'\n",
      " 'As a rebel against the machines, Neo must return to the Matrix and confront '\n",
      " 'the agents: super-powerful computer programs devoted to snuffing out Neo and '\n",
      " 'the entire human rebellion.')\n"
     ]
    }
   ],
   "source": [
    "print(summarize(text, word_count=100))"
   ]
  },
  {
   "cell_type": "code",
   "execution_count": 10,
   "metadata": {},
   "outputs": [
    {
     "name": "stdout",
     "output_type": "stream",
     "text": [
      "'neo\\nhumanity\\nhuman\\nhumans body\\nsuper\\nhacker\\nreality'\n"
     ]
    }
   ],
   "source": [
    "print(keywords(text))"
   ]
  }
 ],
 "metadata": {
  "kernelspec": {
   "display_name": "Python 3",
   "language": "python",
   "name": "python3"
  },
  "language_info": {
   "codemirror_mode": {
    "name": "ipython",
    "version": 3
   },
   "file_extension": ".py",
   "mimetype": "text/x-python",
   "name": "python",
   "nbconvert_exporter": "python",
   "pygments_lexer": "ipython3",
   "version": "3.7.4"
  }
 },
 "nbformat": 4,
 "nbformat_minor": 2
}
