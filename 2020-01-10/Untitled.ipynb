{
 "cells": [
  {
   "cell_type": "code",
   "execution_count": 16,
   "metadata": {},
   "outputs": [],
   "source": [
    "import numpy as np\n",
    "import time"
   ]
  },
  {
   "cell_type": "code",
   "execution_count": 6,
   "metadata": {},
   "outputs": [
    {
     "data": {
      "text/plain": [
       "[16, 17, 18, 19, 20]"
      ]
     },
     "execution_count": 6,
     "metadata": {},
     "output_type": "execute_result"
    }
   ],
   "source": [
    "a = [1,2,3,4,5]\n",
    "b = []\n",
    "for i in a :\n",
    "    b.append(i+15)\n",
    "b"
   ]
  },
  {
   "cell_type": "code",
   "execution_count": 11,
   "metadata": {},
   "outputs": [
    {
     "data": {
      "text/plain": [
       "array([16, 17, 18, 19, 20])"
      ]
     },
     "execution_count": 11,
     "metadata": {},
     "output_type": "execute_result"
    }
   ],
   "source": [
    "a = np.array(a)\n",
    "# a+15 하면 a 에 기록이 안남아 있다리\n",
    "# a찍으면 결과값이 없다리\n",
    "c = a+15 \n",
    "c"
   ]
  },
  {
   "cell_type": "code",
   "execution_count": 13,
   "metadata": {},
   "outputs": [
    {
     "data": {
      "text/plain": [
       "[12, 14, 16, 18, 20, 22, 24, 26, 28, 30]"
      ]
     },
     "execution_count": 13,
     "metadata": {},
     "output_type": "execute_result"
    }
   ],
   "source": [
    "a = []\n",
    "b = []\n",
    "c = []\n",
    "for i in range(10) :\n",
    "    a.append(i+1)\n",
    "    b.append(i+11)\n",
    "\n",
    "for i in range(len(a)) :\n",
    "    c.append(a[i]+b[i])\n",
    "    \n",
    "c"
   ]
  },
  {
   "cell_type": "code",
   "execution_count": 14,
   "metadata": {},
   "outputs": [
    {
     "data": {
      "text/plain": [
       "[12, 14, 16, 18, 20, 22, 24, 26, 28, 30]"
      ]
     },
     "execution_count": 14,
     "metadata": {},
     "output_type": "execute_result"
    }
   ],
   "source": [
    "a = []\n",
    "b = []\n",
    "c = []\n",
    "for i in range(10) :\n",
    "    a.append(i+1)\n",
    "    b.append(i+11)\n",
    "    \n",
    "for i in a :\n",
    "    c.append(i + b[a.index(i)])\n",
    "c"
   ]
  },
  {
   "cell_type": "code",
   "execution_count": null,
   "metadata": {},
   "outputs": [],
   "source": [
    "# numpy array : vector 연산을 실시함"
   ]
  },
  {
   "cell_type": "code",
   "execution_count": null,
   "metadata": {},
   "outputs": [],
   "source": [
    "# array 빈값등 정확히 안맞으면 오브젝트 타입으로 변환되서 넘어간다\n",
    "# 딱 맞으면 int64로 넘어감"
   ]
  },
  {
   "cell_type": "code",
   "execution_count": 22,
   "metadata": {},
   "outputs": [
    {
     "name": "stdout",
     "output_type": "stream",
     "text": [
      "size_vector : 100000000\n",
      "python list load time : 0.0\n",
      "python list for loop : 40.9553427696228\n",
      "python list total : 40.9553427696228\n",
      "numpy array1 load time : 0.22901296615600586\n",
      "numpy array1 for loop : 0.15100884437561035\n",
      "numpy array1 total : 0.3800218105316162\n",
      "numpy array2 load time : 0.22901320457458496\n",
      "numpy array2 for loop : 38.1581826210022\n",
      "numpy array2 total : 38.388195753097534\n",
      "---------------------------\n"
     ]
    }
   ],
   "source": [
    "size_vector = 100000000\n",
    "\n",
    "def pythonlist(size) :\n",
    "    t1 = time.time()\n",
    "    x = range(size)\n",
    "    y = range(size)\n",
    "    t2 = time.time()\n",
    "    print(\"python list load time : \"+str(t2-t1))\n",
    "    z = []\n",
    "    \n",
    "    t3 = time.time()\n",
    "    for i in range(len(x)) :\n",
    "        z.append(x[i]+y[i])\n",
    "    t4 = time.time()\n",
    "    print(\"python list for loop : \"+str(t4-t3))\n",
    "    print(\"python list total : \"+str(t4-t1))\n",
    "    \n",
    "def numpyarray1(size) :\n",
    "    t1 = time.time()\n",
    "    x = np.arange(size)\n",
    "    y = np.arange(size)\n",
    "    t2 = time.time()\n",
    "    print(\"numpy array1 load time : \"+str(t2-t1))\n",
    "    # z = []\n",
    "    \n",
    "    t3 = time.time()\n",
    "    z = x + y\n",
    "    t4 = time.time()\n",
    "    print(\"numpy array1 for loop : \"+str(t4-t3))\n",
    "    print(\"numpy array1 total : \"+str(t4-t1))\n",
    "    \n",
    "def numpyarray2(size) :\n",
    "    t1 = time.time()\n",
    "    x = np.arange(size)\n",
    "    y = np.arange(size)\n",
    "    t2 = time.time()\n",
    "    print(\"numpy array2 load time : \"+str(t2-t1))\n",
    "    \n",
    "    z = np.ndarray(size)\n",
    "    t3 = time.time()\n",
    "    for i in range(len(x)) :\n",
    "        z[i] = x[i] + y[i]\n",
    "    t4 = time.time()\n",
    "    print(\"numpy array2 for loop : \"+str(t4-t3))\n",
    "    print(\"numpy array2 total : \"+str(t4-t1))\n",
    "    \n",
    "print( \"size_vector : \" +str(size_vector))\n",
    "pythonlist(size_vector)\n",
    "numpyarray1(size_vector)\n",
    "numpyarray2(size_vector)\n",
    "print(\"---------------------------\")"
   ]
  },
  {
   "cell_type": "code",
   "execution_count": 32,
   "metadata": {},
   "outputs": [],
   "source": [
    "def square_list0(N) :\n",
    "    squares = []\n",
    "    for n in range(N) :\n",
    "        squares = squares + [n**2]\n",
    "    return squares\n",
    "\n",
    "def square_list1(N) :\n",
    "    squares = []\n",
    "    for n in range(N) :\n",
    "        squares += [n**2]\n",
    "    return squares\n",
    "\n",
    "def square_list2(N) :\n",
    "    squares = []\n",
    "    for n in range(N) :\n",
    "        squares.append(n**2)\n",
    "    return squares\n",
    "\n",
    "def square_list3(N) :\n",
    "    return [n**2 for n in range(N)]\n",
    "\n",
    "def square_array(N) :\n",
    "    #from numpy import arange\n",
    "    return np.arange(N)**2\n",
    "\n",
    "def getTime(func, n) :\n",
    "    t1 = time.time()\n",
    "    func(n)\n",
    "    t2 = time.time()\n",
    "    print(func,'-Try : ', t2-t1)\n",
    "\n"
   ]
  },
  {
   "cell_type": "code",
   "execution_count": 37,
   "metadata": {},
   "outputs": [
    {
     "name": "stdout",
     "output_type": "stream",
     "text": [
      "<function square_list0 at 0x000000000575EF78> -Try :  22.74130082130432\n",
      "<function square_list1 at 0x000000000575EB88> -Try :  0.054003238677978516\n",
      "<function square_list2 at 0x0000000005736AF8> -Try :  0.052002906799316406\n",
      "<function square_list3 at 0x0000000005736D38> -Try :  0.04800271987915039\n",
      "<function square_array at 0x000000000575E798> -Try :  0.0009999275207519531\n"
     ]
    }
   ],
   "source": [
    "n = 100000\n",
    "getTime(square_list0,n)\n",
    "getTime(square_list1,n)\n",
    "getTime(square_list2,n)\n",
    "getTime(square_list3,n)\n",
    "getTime(square_array,n)\n",
    "\n"
   ]
  },
  {
   "cell_type": "code",
   "execution_count": 41,
   "metadata": {},
   "outputs": [
    {
     "name": "stdout",
     "output_type": "stream",
     "text": [
      "[1, 2, 3, 4, 5, 6]\n",
      "[1 2 3 4 5 6]\n",
      "1\n",
      "1\n",
      "\n",
      "[2, 3]\n",
      "[2 3]\n"
     ]
    }
   ],
   "source": [
    "list1 = [1,2,3,4,5,6]\n",
    "arr1 = np.array(list1)\n",
    "print(list1)\n",
    "print(arr1)\n",
    "\n",
    "print(list1[0])\n",
    "print(arr1[0])\n",
    "print('')\n",
    "print(list1[1:3])\n",
    "print(arr1[1:3])"
   ]
  },
  {
   "cell_type": "code",
   "execution_count": 67,
   "metadata": {},
   "outputs": [
    {
     "name": "stdout",
     "output_type": "stream",
     "text": [
      "[[0, 1, 2, 3, 4], [10, 11, 12, 13, 14], [20, 21, 22, 23, 24], [30, 31, 32, 33, 34], [40, 41, 42, 43, 44]]\n",
      "[[ 0]\n",
      " [10]\n",
      " [20]\n",
      " [30]\n",
      " [40]\n",
      " [50]]\n"
     ]
    }
   ],
   "source": [
    "n = 5\n",
    "a = []\n",
    "for i in range(n) :\n",
    "    a_row = []\n",
    "    for j in range(n) :\n",
    "        a_row.append(j+i*10)\n",
    "    a.append(a_row)\n",
    "print(a)\n",
    "\n",
    "np.arange(0,6,1)\n",
    "np.arange(0,51,10)\n",
    "print(np.arange(0,51,10)[:,np.newaxis]) #축을 바꿔서\n",
    "\n",
    "b = np.arange(0,51,10)[:,np.newaxis] + np.arange(0,6,1)\n",
    "\n"
   ]
  },
  {
   "cell_type": "code",
   "execution_count": 70,
   "metadata": {},
   "outputs": [
    {
     "name": "stdout",
     "output_type": "stream",
     "text": [
      "[ 2 12 22 32 42 52]\n",
      "[3 4]\n",
      "[[20 22 24]\n",
      " [40 42 44]]\n",
      "[[44 45]\n",
      " [54 55]]\n"
     ]
    }
   ],
   "source": [
    "\n",
    "red = b[:,2]\n",
    "orange = b[0,3:5]\n",
    "green = b[2::2,::2]\n",
    "bluegreen = b[4:,4:]\n",
    "print(red)\n",
    "print(orange)\n",
    "print(green)\n",
    "print(bluegreen)\n"
   ]
  },
  {
   "cell_type": "code",
   "execution_count": 74,
   "metadata": {},
   "outputs": [
    {
     "name": "stdout",
     "output_type": "stream",
     "text": [
      "[0 1 2 3 4 5 6 7 8 9]\n",
      "[ True  True  True  True  True False False False False False]\n",
      "[0 1 2 3 4]\n"
     ]
    }
   ],
   "source": [
    "#boolean indexing : 조건부를 줘서 True인 애들만 가져오는 것\n",
    "\n",
    "arr1 = np.arange(10)\n",
    "print(arr1)\n",
    "print(arr1<5)\n",
    "print(arr1[arr1<5])"
   ]
  },
  {
   "cell_type": "code",
   "execution_count": 93,
   "metadata": {},
   "outputs": [
    {
     "name": "stdout",
     "output_type": "stream",
     "text": [
      "['Bob' 'Joe' 'Will' 'Bob' 'Will' 'Joe' 'Joe']\n",
      "[[72 33 87 73]\n",
      " [93 51 40 35]\n",
      " [44 85 81 81]\n",
      " [99 99 62 98]\n",
      " [74 89 31 62]\n",
      " [32 73 78 67]\n",
      " [77 37 59 45]]\n"
     ]
    }
   ],
   "source": [
    "names = np.array(['Bob','Joe','Will','Bob','Will','Joe','Joe'])\n",
    "data = np.random.randint(low=30,high=100,size=(7,4))\n",
    "\n",
    "print(names)\n",
    "print(data)"
   ]
  },
  {
   "cell_type": "code",
   "execution_count": 83,
   "metadata": {},
   "outputs": [
    {
     "name": "stdout",
     "output_type": "stream",
     "text": [
      "[[42 32 56 30]\n",
      " [38 97 31 90]]\n",
      "[[56 30]\n",
      " [31 90]]\n",
      "[42 32 56 30]\n",
      "[[42 32 56 30]\n",
      " [99 47 31 79]\n",
      " [38 97 31 90]\n",
      " [33 93 77 90]]\n"
     ]
    }
   ],
   "source": [
    "print(data[names=='Bob'])\n",
    "print(data[names=='Bob',2:])\n",
    "print(data[names=='Bob'][0])\n",
    "\n",
    "print(data[(names=='Bob') | (names=='Will')])"
   ]
  },
  {
   "cell_type": "code",
   "execution_count": 94,
   "metadata": {},
   "outputs": [
    {
     "data": {
      "text/plain": [
       "array([[1, 0, 1, 1],\n",
       "       [1, 0, 0, 0],\n",
       "       [0, 1, 1, 1],\n",
       "       [1, 1, 0, 1],\n",
       "       [1, 1, 0, 0],\n",
       "       [0, 1, 1, 0],\n",
       "       [1, 0, 0, 0]])"
      ]
     },
     "execution_count": 94,
     "metadata": {},
     "output_type": "execute_result"
    }
   ],
   "source": [
    "# 성적 기준으로 70기준 pass/fail\n",
    "\n",
    "data[data<=70] =0\n",
    "data[data>70] = 1\n",
    "\n",
    "data"
   ]
  },
  {
   "cell_type": "code",
   "execution_count": 95,
   "metadata": {},
   "outputs": [
    {
     "data": {
      "text/plain": [
       "(array([0, 0, 0, 1, 2, 2, 2, 3, 3, 3, 4, 4, 5, 5, 6], dtype=int64),\n",
       " array([0, 2, 3, 0, 1, 2, 3, 0, 1, 3, 0, 1, 1, 2, 0], dtype=int64))"
      ]
     },
     "execution_count": 95,
     "metadata": {},
     "output_type": "execute_result"
    }
   ],
   "source": [
    "np.where(data>0)"
   ]
  },
  {
   "cell_type": "code",
   "execution_count": 96,
   "metadata": {},
   "outputs": [
    {
     "name": "stdout",
     "output_type": "stream",
     "text": [
      "['Bob' 'Joe' 'Will' 'Bob' 'Will' 'Joe' 'Joe']\n"
     ]
    }
   ],
   "source": [
    "print(names[np.unique(np.where(data>0)[0])])"
   ]
  }
 ],
 "metadata": {
  "kernelspec": {
   "display_name": "Python 3",
   "language": "python",
   "name": "python3"
  },
  "language_info": {
   "codemirror_mode": {
    "name": "ipython",
    "version": 3
   },
   "file_extension": ".py",
   "mimetype": "text/x-python",
   "name": "python",
   "nbconvert_exporter": "python",
   "pygments_lexer": "ipython3",
   "version": "3.7.4"
  }
 },
 "nbformat": 4,
 "nbformat_minor": 2
}
