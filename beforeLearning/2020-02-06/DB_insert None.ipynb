{
 "cells": [
  {
   "cell_type": "code",
   "execution_count": 1,
   "metadata": {},
   "outputs": [],
   "source": [
    "import numpy as np\n",
    "import pandas as pd\n",
    "import pymysql"
   ]
  },
  {
   "cell_type": "code",
   "execution_count": 2,
   "metadata": {},
   "outputs": [],
   "source": [
    "# db 커넥션 연결\n",
    "conn = pymysql.connect(host='localhost', port=3306,\n",
    "                       user='acorn12', passwd='acorn12', db='acorn', charset='utf8')\n",
    "\n",
    "# conn = pymysql.connect(host='localhost', port=3306,\n",
    "#                        user='flo', passwd='flo', db='db', charset='utf8')\n",
    "\n",
    "try:\n",
    "    with conn.cursor() as cursor:\n",
    "    \n",
    "        sql = 'INSERT INTO practice(num,title,content,someDate) '\n",
    "        sql += 'VALUES(%s,%s,%s,CURDATE()) '\n",
    "\n",
    "        cursor.execute(sql,(9,None,None))\n",
    "        conn.commit()\n",
    "\n",
    "finally:\n",
    "    conn.close()"
   ]
  }
 ],
 "metadata": {
  "kernelspec": {
   "display_name": "Python 3",
   "language": "python",
   "name": "python3"
  },
  "language_info": {
   "codemirror_mode": {
    "name": "ipython",
    "version": 3
   },
   "file_extension": ".py",
   "mimetype": "text/x-python",
   "name": "python",
   "nbconvert_exporter": "python",
   "pygments_lexer": "ipython3",
   "version": "3.7.4"
  }
 },
 "nbformat": 4,
 "nbformat_minor": 2
}
