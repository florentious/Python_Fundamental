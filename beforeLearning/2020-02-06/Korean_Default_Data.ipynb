{
 "cells": [
  {
   "cell_type": "code",
   "execution_count": 1,
   "metadata": {},
   "outputs": [],
   "source": [
    "import numpy as np\n",
    "import pandas as pd"
   ]
  },
  {
   "cell_type": "code",
   "execution_count": 5,
   "metadata": {},
   "outputs": [
    {
     "data": {
      "text/html": [
       "<div>\n",
       "<style scoped>\n",
       "    .dataframe tbody tr th:only-of-type {\n",
       "        vertical-align: middle;\n",
       "    }\n",
       "\n",
       "    .dataframe tbody tr th {\n",
       "        vertical-align: top;\n",
       "    }\n",
       "\n",
       "    .dataframe thead th {\n",
       "        text-align: right;\n",
       "    }\n",
       "</style>\n",
       "<table border=\"1\" class=\"dataframe\">\n",
       "  <thead>\n",
       "    <tr style=\"text-align: right;\">\n",
       "      <th></th>\n",
       "      <th>CUST_ID</th>\n",
       "      <th>TARGET</th>\n",
       "      <th>BNK_LNIF_CNT</th>\n",
       "      <th>CPT_LNIF_CNT</th>\n",
       "      <th>SPART_LNIF_CNT</th>\n",
       "      <th>ECT_LNIF_CNT</th>\n",
       "      <th>TOT_LNIF_AMT</th>\n",
       "      <th>TOT_CLIF_AMT</th>\n",
       "      <th>BNK_LNIF_AMT</th>\n",
       "      <th>CPT_LNIF_AMT</th>\n",
       "      <th>...</th>\n",
       "      <th>CBPT_MBSP_YN</th>\n",
       "      <th>MOBL_FATY_PRC</th>\n",
       "      <th>TEL_CNTT_QTR</th>\n",
       "      <th>NUM_DAY_SUSP</th>\n",
       "      <th>CRMM_OVDU_AMT</th>\n",
       "      <th>TLFE_UNPD_CNT</th>\n",
       "      <th>LT1Y_MXOD_AMT</th>\n",
       "      <th>PAYM_METD</th>\n",
       "      <th>LINE_STUS</th>\n",
       "      <th>MOBL_PRIN</th>\n",
       "    </tr>\n",
       "  </thead>\n",
       "  <tbody>\n",
       "    <tr>\n",
       "      <td>0</td>\n",
       "      <td>1</td>\n",
       "      <td>0</td>\n",
       "      <td>1</td>\n",
       "      <td>0</td>\n",
       "      <td>0</td>\n",
       "      <td>0</td>\n",
       "      <td>9001</td>\n",
       "      <td>9001</td>\n",
       "      <td>9001</td>\n",
       "      <td>0</td>\n",
       "      <td>...</td>\n",
       "      <td>N</td>\n",
       "      <td>800000</td>\n",
       "      <td>20111</td>\n",
       "      <td>0</td>\n",
       "      <td>0</td>\n",
       "      <td>0</td>\n",
       "      <td>0</td>\n",
       "      <td>O</td>\n",
       "      <td>U</td>\n",
       "      <td>580000</td>\n",
       "    </tr>\n",
       "    <tr>\n",
       "      <td>1</td>\n",
       "      <td>2</td>\n",
       "      <td>0</td>\n",
       "      <td>1</td>\n",
       "      <td>0</td>\n",
       "      <td>0</td>\n",
       "      <td>0</td>\n",
       "      <td>24001</td>\n",
       "      <td>0</td>\n",
       "      <td>24001</td>\n",
       "      <td>0</td>\n",
       "      <td>...</td>\n",
       "      <td>N</td>\n",
       "      <td>500000</td>\n",
       "      <td>20143</td>\n",
       "      <td>0</td>\n",
       "      <td>0</td>\n",
       "      <td>0</td>\n",
       "      <td>0</td>\n",
       "      <td>O</td>\n",
       "      <td>U</td>\n",
       "      <td>90000</td>\n",
       "    </tr>\n",
       "    <tr>\n",
       "      <td>2</td>\n",
       "      <td>3</td>\n",
       "      <td>0</td>\n",
       "      <td>0</td>\n",
       "      <td>1</td>\n",
       "      <td>3</td>\n",
       "      <td>2</td>\n",
       "      <td>15001</td>\n",
       "      <td>9001</td>\n",
       "      <td>0</td>\n",
       "      <td>3001</td>\n",
       "      <td>...</td>\n",
       "      <td>Y</td>\n",
       "      <td>500000</td>\n",
       "      <td>20103</td>\n",
       "      <td>0</td>\n",
       "      <td>0</td>\n",
       "      <td>0</td>\n",
       "      <td>0</td>\n",
       "      <td>O</td>\n",
       "      <td>U</td>\n",
       "      <td>120000</td>\n",
       "    </tr>\n",
       "    <tr>\n",
       "      <td>3</td>\n",
       "      <td>4</td>\n",
       "      <td>1</td>\n",
       "      <td>0</td>\n",
       "      <td>2</td>\n",
       "      <td>4</td>\n",
       "      <td>2</td>\n",
       "      <td>6001</td>\n",
       "      <td>3001</td>\n",
       "      <td>0</td>\n",
       "      <td>3001</td>\n",
       "      <td>...</td>\n",
       "      <td>N</td>\n",
       "      <td>900000</td>\n",
       "      <td>20144</td>\n",
       "      <td>0</td>\n",
       "      <td>540000</td>\n",
       "      <td>0</td>\n",
       "      <td>630000</td>\n",
       "      <td>G</td>\n",
       "      <td>S</td>\n",
       "      <td>320000</td>\n",
       "    </tr>\n",
       "    <tr>\n",
       "      <td>4</td>\n",
       "      <td>5</td>\n",
       "      <td>0</td>\n",
       "      <td>4</td>\n",
       "      <td>0</td>\n",
       "      <td>0</td>\n",
       "      <td>0</td>\n",
       "      <td>21001</td>\n",
       "      <td>15001</td>\n",
       "      <td>21001</td>\n",
       "      <td>0</td>\n",
       "      <td>...</td>\n",
       "      <td>Y</td>\n",
       "      <td>800000</td>\n",
       "      <td>20131</td>\n",
       "      <td>0</td>\n",
       "      <td>130000</td>\n",
       "      <td>0</td>\n",
       "      <td>90000</td>\n",
       "      <td>G</td>\n",
       "      <td>U</td>\n",
       "      <td>410000</td>\n",
       "    </tr>\n",
       "  </tbody>\n",
       "</table>\n",
       "<p>5 rows × 69 columns</p>\n",
       "</div>"
      ],
      "text/plain": [
       "   CUST_ID  TARGET  BNK_LNIF_CNT  CPT_LNIF_CNT  SPART_LNIF_CNT  ECT_LNIF_CNT  \\\n",
       "0        1       0             1             0               0             0   \n",
       "1        2       0             1             0               0             0   \n",
       "2        3       0             0             1               3             2   \n",
       "3        4       1             0             2               4             2   \n",
       "4        5       0             4             0               0             0   \n",
       "\n",
       "   TOT_LNIF_AMT  TOT_CLIF_AMT  BNK_LNIF_AMT  CPT_LNIF_AMT  ...  CBPT_MBSP_YN  \\\n",
       "0          9001          9001          9001             0  ...             N   \n",
       "1         24001             0         24001             0  ...             N   \n",
       "2         15001          9001             0          3001  ...             Y   \n",
       "3          6001          3001             0          3001  ...             N   \n",
       "4         21001         15001         21001             0  ...             Y   \n",
       "\n",
       "   MOBL_FATY_PRC  TEL_CNTT_QTR  NUM_DAY_SUSP  CRMM_OVDU_AMT  TLFE_UNPD_CNT  \\\n",
       "0         800000         20111             0              0              0   \n",
       "1         500000         20143             0              0              0   \n",
       "2         500000         20103             0              0              0   \n",
       "3         900000         20144             0         540000              0   \n",
       "4         800000         20131             0         130000              0   \n",
       "\n",
       "  LT1Y_MXOD_AMT  PAYM_METD  LINE_STUS  MOBL_PRIN  \n",
       "0             0          O          U     580000  \n",
       "1             0          O          U      90000  \n",
       "2             0          O          U     120000  \n",
       "3        630000          G          S     320000  \n",
       "4         90000          G          U     410000  \n",
       "\n",
       "[5 rows x 69 columns]"
      ]
     },
     "execution_count": 5,
     "metadata": {},
     "output_type": "execute_result"
    }
   ],
   "source": [
    "Data_set = pd.read_csv('06_korean_default/Data_set.csv',encoding='cp949')\n",
    "Data_set.head()"
   ]
  },
  {
   "cell_type": "code",
   "execution_count": 7,
   "metadata": {},
   "outputs": [
    {
     "data": {
      "text/plain": [
       "0    0.95723\n",
       "1    0.04277\n",
       "Name: TARGET, dtype: float64"
      ]
     },
     "execution_count": 7,
     "metadata": {},
     "output_type": "execute_result"
    }
   ],
   "source": [
    "Data_set.TARGET.value_counts(normalize=True)"
   ]
  },
  {
   "cell_type": "code",
   "execution_count": 8,
   "metadata": {},
   "outputs": [
    {
     "data": {
      "text/plain": [
       "(100233, 69)"
      ]
     },
     "execution_count": 8,
     "metadata": {},
     "output_type": "execute_result"
    }
   ],
   "source": [
    "Data_set.shape"
   ]
  },
  {
   "cell_type": "code",
   "execution_count": 19,
   "metadata": {},
   "outputs": [
    {
     "name": "stdout",
     "output_type": "stream",
     "text": [
      "<class 'pandas.core.frame.DataFrame'>\n",
      "RangeIndex: 100233 entries, 0 to 100232\n",
      "Data columns (total 68 columns):\n",
      "TARGET               100233 non-null int64\n",
      "BNK_LNIF_CNT         100233 non-null int64\n",
      "CPT_LNIF_CNT         100233 non-null int64\n",
      "SPART_LNIF_CNT       100233 non-null int64\n",
      "ECT_LNIF_CNT         100233 non-null int64\n",
      "TOT_LNIF_AMT         100233 non-null int64\n",
      "TOT_CLIF_AMT         100233 non-null int64\n",
      "BNK_LNIF_AMT         100233 non-null int64\n",
      "CPT_LNIF_AMT         100233 non-null int64\n",
      "CRDT_OCCR_MDIF       100233 non-null int64\n",
      "SPTCT_OCCR_MDIF      100233 non-null int64\n",
      "CRDT_CARD_CNT        100233 non-null int64\n",
      "CTCD_OCCR_MDIF       100233 non-null int64\n",
      "CB_GUIF_CNT          100233 non-null int64\n",
      "CB_GUIF_AMT          100233 non-null int64\n",
      "OCCP_NAME_G          99769 non-null object\n",
      "CUST_JOB_INCM        100233 non-null int64\n",
      "HSHD_INFR_INCM       100233 non-null int64\n",
      "ACTL_FMLY_NUM        100233 non-null int64\n",
      "CUST_FMLY_NUM        100233 non-null int64\n",
      "LAST_CHLD_AGE        99206 non-null float64\n",
      "MATE_OCCP_NAME_G     54524 non-null object\n",
      "MATE_JOB_INCM        100233 non-null int64\n",
      "CRDT_LOAN_CNT        100233 non-null int64\n",
      "MIN_CNTT_DATE        100233 non-null int64\n",
      "TOT_CRLN_AMT         100233 non-null int64\n",
      "TOT_REPY_AMT         100233 non-null int64\n",
      "CRLN_OVDU_RATE       100233 non-null int64\n",
      "CRLN_30OVDU_RATE     100233 non-null int64\n",
      "LT1Y_CLOD_RATE       100233 non-null int64\n",
      "STRT_CRDT_GRAD       100233 non-null int64\n",
      "LTST_CRDT_GRAD       100233 non-null int64\n",
      "PREM_OVDU_RATE       100233 non-null int64\n",
      "LT1Y_PEOD_RATE       100233 non-null object\n",
      "AVG_STLN_RATE        100233 non-null int64\n",
      "STLN_REMN_AMT        100233 non-null int64\n",
      "LT1Y_STLN_AMT        100233 non-null int64\n",
      "LT1Y_SLOD_RATE       100233 non-null int64\n",
      "GDINS_MON_PREM       100233 non-null int64\n",
      "SVINS_MON_PREM       100233 non-null int64\n",
      "FMLY_GDINS_MNPREM    100233 non-null int64\n",
      "FMLY_SVINS_MNPREM    100233 non-null int64\n",
      "MAX_MON_PREM         100233 non-null int64\n",
      "TOT_PREM             100233 non-null int64\n",
      "FMLY_TOT_PREM        100233 non-null int64\n",
      "CNTT_LAMT_CNT        100233 non-null int64\n",
      "LT1Y_CTLT_CNT        100233 non-null int64\n",
      "AUTR_FAIL_MCNT       100233 non-null int64\n",
      "FYCM_PAID_AMT        100233 non-null int64\n",
      "FMLY_CLAM_CNT        100233 non-null int64\n",
      "FMLY_PLPY_CNT        100233 non-null int64\n",
      "AGE                  100233 non-null object\n",
      "SEX                  100233 non-null object\n",
      "AVG_CALL_TIME        100233 non-null int64\n",
      "AVG_CALL_FREQ        100233 non-null int64\n",
      "TEL_MBSP_GRAD        54218 non-null object\n",
      "ARPU                 100233 non-null int64\n",
      "MON_TLFE_AMT         100233 non-null int64\n",
      "CBPT_MBSP_YN         100233 non-null object\n",
      "MOBL_FATY_PRC        100233 non-null int64\n",
      "TEL_CNTT_QTR         100233 non-null int64\n",
      "NUM_DAY_SUSP         100233 non-null int64\n",
      "CRMM_OVDU_AMT        100233 non-null int64\n",
      "TLFE_UNPD_CNT        100233 non-null int64\n",
      "LT1Y_MXOD_AMT        100233 non-null int64\n",
      "PAYM_METD            97400 non-null object\n",
      "LINE_STUS            100233 non-null object\n",
      "MOBL_PRIN            100233 non-null int64\n",
      "dtypes: float64(1), int64(58), object(9)\n",
      "memory usage: 52.0+ MB\n"
     ]
    }
   ],
   "source": []
  },
  {
   "cell_type": "code",
   "execution_count": 11,
   "metadata": {
    "scrolled": true
   },
   "outputs": [
    {
     "data": {
      "text/plain": [
       "O    56919\n",
       "K    32364\n",
       "G     4541\n",
       "R     3576\n",
       "Name: PAYM_METD, dtype: int64"
      ]
     },
     "execution_count": 11,
     "metadata": {},
     "output_type": "execute_result"
    }
   ],
   "source": [
    "# 문자열 인코딩해야됨\n",
    "\n",
    "Data_set.PAYM_METD.value_counts()"
   ]
  },
  {
   "cell_type": "code",
   "execution_count": 14,
   "metadata": {},
   "outputs": [],
   "source": [
    "Data_set.drop('CUST_ID',axis=1,inplace=True)"
   ]
  },
  {
   "cell_type": "code",
   "execution_count": 16,
   "metadata": {},
   "outputs": [],
   "source": [
    "X = Data_set.iloc[:,1:]\n",
    "y = Data_set.iloc[:,0]"
   ]
  },
  {
   "cell_type": "code",
   "execution_count": null,
   "metadata": {},
   "outputs": [],
   "source": [
    "from sklearn.preprocessing import LabelEncoder\n",
    "\n",
    "ordinals = []\n",
    "\n",
    "for ordinal in ordinals:\n",
    "    le = LabelEncoder()\n",
    "    le.fit(X[ordinal])\n",
    "    df[ordinal] = le.transform(df[ordinal])"
   ]
  },
  {
   "cell_type": "code",
   "execution_count": null,
   "metadata": {},
   "outputs": [],
   "source": []
  },
  {
   "cell_type": "code",
   "execution_count": null,
   "metadata": {},
   "outputs": [],
   "source": []
  },
  {
   "cell_type": "code",
   "execution_count": null,
   "metadata": {},
   "outputs": [],
   "source": [
    "\n",
    "LGB = LGBMClassifier(verbose=1, n_jobs=-1)\n",
    "\n",
    "parameters = {\n",
    "    'n_estimators':np.arange(50,1000,50),\n",
    "    'learning_rate':np.arange(0.3,0.01,-0.05),\n",
    "    'max_depth':np.arange(2,20,2)\n",
    "}\n",
    "n_iter_search=10\n",
    "lgbc_rgs = RandomizedSearchCV(LGB, param_distributions=parameters, cv=7,\n",
    "                            scoring='accuracy', n_jobs=-1,\n",
    "                            verbose=1,random_state=1234,\n",
    "                            n_iter=n_iter_search)\n",
    "lgbc_rgs.fit(x_train, y_train)\n",
    "\n",
    "lgbc_rgs.fit(x_train, y_train)\n",
    "lgbc_best = lgbc_rgs.best_estimator_\n",
    "prediction = lgbc_best.predict(x_test)\n"
   ]
  },
  {
   "cell_type": "code",
   "execution_count": null,
   "metadata": {},
   "outputs": [],
   "source": []
  },
  {
   "cell_type": "code",
   "execution_count": null,
   "metadata": {},
   "outputs": [],
   "source": []
  },
  {
   "cell_type": "code",
   "execution_count": null,
   "metadata": {},
   "outputs": [],
   "source": []
  },
  {
   "cell_type": "markdown",
   "metadata": {},
   "source": [
    "clustering (군집화)\n",
    " - 비슷한, 공통된 특성을 보이는 것들끼리 모으는 일\n",
    " \n",
    " - k_means : 중심포인트기준 가까운 k개의 점에 대해서 거리의 평균값"
   ]
  },
  {
   "cell_type": "code",
   "execution_count": 20,
   "metadata": {},
   "outputs": [],
   "source": [
    "from sklearn.cluster import KMeans"
   ]
  },
  {
   "cell_type": "code",
   "execution_count": null,
   "metadata": {},
   "outputs": [],
   "source": [
    "np.random.seed(123)\n",
    "X = np.random.randn(50,2)"
   ]
  },
  {
   "cell_type": "markdown",
   "metadata": {},
   "source": [
    "dendogram \n",
    " - 가까운 것끼리 묶어서 올라가는 형태로 만들어짐 (다 그려지면 트리랑 비슷한 구조로 만들어짐)"
   ]
  },
  {
   "cell_type": "code",
   "execution_count": null,
   "metadata": {},
   "outputs": [],
   "source": []
  },
  {
   "cell_type": "code",
   "execution_count": null,
   "metadata": {},
   "outputs": [],
   "source": []
  },
  {
   "cell_type": "code",
   "execution_count": null,
   "metadata": {},
   "outputs": [],
   "source": []
  }
 ],
 "metadata": {
  "kernelspec": {
   "display_name": "Python 3",
   "language": "python",
   "name": "python3"
  },
  "language_info": {
   "codemirror_mode": {
    "name": "ipython",
    "version": 3
   },
   "file_extension": ".py",
   "mimetype": "text/x-python",
   "name": "python",
   "nbconvert_exporter": "python",
   "pygments_lexer": "ipython3",
   "version": "3.7.4"
  }
 },
 "nbformat": 4,
 "nbformat_minor": 2
}
