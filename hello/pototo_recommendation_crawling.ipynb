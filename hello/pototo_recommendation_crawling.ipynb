{
 "cells": [
  {
   "cell_type": "code",
   "execution_count": 162,
   "metadata": {},
   "outputs": [
    {
     "name": "stdout",
     "output_type": "stream",
     "text": [
      "input start(yy.mm.dd):20.02.21\n",
      "input end(yy.mm.dd):20.02.21\n"
     ]
    }
   ],
   "source": [
    "from urllib.request import urlopen\n",
    "from bs4 import BeautifulSoup\n",
    "\n",
    "from collections import defaultdict\n",
    "\n",
    "import datetime\n",
    "import time\n",
    "\n",
    "\n",
    "mainUrl = 'https://www.fmnation.net/index.php?mid=pototo&page='\n",
    "page = 1\n",
    "subUrlBase = 'https://www.fmnation.net'\n",
    "\n",
    "startDate = datetime.datetime.strptime(input('input start(yy.mm.dd):'),'%y.%m.%d').date()\n",
    "endDate = datetime.datetime.strptime(input('input end(yy.mm.dd):'),'%y.%m.%d').date()\n",
    "\n",
    "fileName = 'member_'+datetime.datetime.strftime(startDate, '%y%m%d')+'_'+datetime.datetime.strftime(endDate, '%y%m%d')+'.txt'\n",
    "\n",
    "member = defaultdict(int)\n",
    "whileBreak = False\n",
    "\n",
    "beforePk = 0\n",
    "curPk = 0\n",
    "isDuplicate = False\n",
    "\n",
    "while(True) :\n",
    "    html = urlopen(mainUrl + str(page))\n",
    "    bs = BeautifulSoup(html, 'html.parser')\n",
    "    \n",
    "    div_table = bs.find('div',attrs={'class': 'pp_list ln notice_color-yellow'})\n",
    "    trs = div_table.find_all('tr')\n",
    "    \n",
    "    for idx in range(8,len(trs)) :\n",
    "        trDate = trs[idx].find_all('td')[-3].find('span',attrs={'class':'pp_date'}).text\n",
    "        tmpDate = datetime.datetime.strptime(trDate, '%y.%m.%d.').date()\n",
    "        curPk = int(trs[idx].find_all('td')[1].find('a').get('href').split('=')[-1])\n",
    "        \n",
    "        isDuplicate = False\n",
    "        if beforePk == 0 :\n",
    "            pass\n",
    "        elif curPk >= beforPk :\n",
    "            isDuplicate = True\n",
    "            \n",
    "        if tmpDate < startDate :\n",
    "            whileBreak = True\n",
    "            break\n",
    "        elif (startDate <= tmpDate <= endDate) & (isDuplicate==False) :\n",
    "            subUrlPath = trs[idx].find_all('td')[1].find('a').get('href')\n",
    "            # subPage\n",
    "            subHtml = urlopen(subUrlBase + subUrlPath)  \n",
    "            bs_sub = BeautifulSoup(subHtml, \"html.parser\")\n",
    "            div_vote = bs_sub.find('div', attrs={'class':'voteListOn'})\n",
    "            for li in div_vote.find_all('li') :\n",
    "                if li.text.replace('\\n','') in member :\n",
    "                    member[li.text.replace('\\n','')]+=1\n",
    "                else :\n",
    "                    member[li.text.replace('\\n','')]=1\n",
    "            # access denied for connectingCount per time\n",
    "            time.sleep(0.3)\n",
    "        elif tmpDate > endDate :\n",
    "            pass\n",
    "        if (beforePk == 0) & (beforePk > curPk) :\n",
    "            beforePk = curPk\n",
    "        \n",
    "    # breakCheck\n",
    "    if whileBreak == True :\n",
    "        break\n",
    "    else :\n",
    "        page += 1\n",
    "        \n",
    "memberSort = sorted(member.items(), key=lambda x : x[1], reverse=True)\n",
    "with open(fileName, 'w') as f :\n",
    "    for idx in range(len(memberSort)) : \n",
    "        f.write(memberSort[idx][0] + '\\t\\t' + str(memberSort[idx][1])+'\\n') "
   ]
  }
 ],
 "metadata": {
  "kernelspec": {
   "display_name": "Python 3",
   "language": "python",
   "name": "python3"
  },
  "language_info": {
   "codemirror_mode": {
    "name": "ipython",
    "version": 3
   },
   "file_extension": ".py",
   "mimetype": "text/x-python",
   "name": "python",
   "nbconvert_exporter": "python",
   "pygments_lexer": "ipython3",
   "version": "3.7.4"
  }
 },
 "nbformat": 4,
 "nbformat_minor": 2
}
