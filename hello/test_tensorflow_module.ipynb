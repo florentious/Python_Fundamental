{
 "cells": [
  {
   "cell_type": "code",
   "execution_count": 3,
   "metadata": {},
   "outputs": [],
   "source": [
    "import tensorflow as tf\n",
    "\n",
    "import numpy as np\n",
    "import pandas as pd"
   ]
  },
  {
   "cell_type": "code",
   "execution_count": null,
   "metadata": {},
   "outputs": [],
   "source": []
  },
  {
   "cell_type": "code",
   "execution_count": 4,
   "metadata": {},
   "outputs": [
    {
     "data": {
      "text/html": [
       "<div>\n",
       "<style scoped>\n",
       "    .dataframe tbody tr th:only-of-type {\n",
       "        vertical-align: middle;\n",
       "    }\n",
       "\n",
       "    .dataframe tbody tr th {\n",
       "        vertical-align: top;\n",
       "    }\n",
       "\n",
       "    .dataframe thead th {\n",
       "        text-align: right;\n",
       "    }\n",
       "</style>\n",
       "<table border=\"1\" class=\"dataframe\">\n",
       "  <thead>\n",
       "    <tr style=\"text-align: right;\">\n",
       "      <th></th>\n",
       "      <th>headline</th>\n",
       "      <th>title</th>\n",
       "      <th>text</th>\n",
       "    </tr>\n",
       "  </thead>\n",
       "  <tbody>\n",
       "    <tr>\n",
       "      <td>0</td>\n",
       "      <td>\\nKeep related supplies in the same area.,\\nMa...</td>\n",
       "      <td>How to Be an Organized Artist1</td>\n",
       "      <td>If you're a photographer, keep all the necess...</td>\n",
       "    </tr>\n",
       "    <tr>\n",
       "      <td>1</td>\n",
       "      <td>\\nCreate a sketch in the NeoPopRealist manner ...</td>\n",
       "      <td>How to Create a Neopoprealist Art Work</td>\n",
       "      <td>See the image for how this drawing develops s...</td>\n",
       "    </tr>\n",
       "    <tr>\n",
       "      <td>2</td>\n",
       "      <td>\\nGet a bachelor’s degree.,\\nEnroll in a studi...</td>\n",
       "      <td>How to Be a Visual Effects Artist1</td>\n",
       "      <td>It is possible to become a VFX artist without...</td>\n",
       "    </tr>\n",
       "    <tr>\n",
       "      <td>3</td>\n",
       "      <td>\\nStart with some experience or interest in ar...</td>\n",
       "      <td>How to Become an Art Investor</td>\n",
       "      <td>The best art investors do their research on t...</td>\n",
       "    </tr>\n",
       "    <tr>\n",
       "      <td>4</td>\n",
       "      <td>\\nKeep your reference materials, sketches, art...</td>\n",
       "      <td>How to Be an Organized Artist2</td>\n",
       "      <td>As you start planning for a project or work, ...</td>\n",
       "    </tr>\n",
       "    <tr>\n",
       "      <td>...</td>\n",
       "      <td>...</td>\n",
       "      <td>...</td>\n",
       "      <td>...</td>\n",
       "    </tr>\n",
       "    <tr>\n",
       "      <td>215360</td>\n",
       "      <td>\\nConsider changing the spelling of your name....</td>\n",
       "      <td>How to Pick a Stage Name3</td>\n",
       "      <td>If you have a name that you like, you might f...</td>\n",
       "    </tr>\n",
       "    <tr>\n",
       "      <td>215361</td>\n",
       "      <td>\\nTry out your name.,\\nDon’t legally change yo...</td>\n",
       "      <td>How to Pick a Stage Name4</td>\n",
       "      <td>Your name might sound great to you when you s...</td>\n",
       "    </tr>\n",
       "    <tr>\n",
       "      <td>215362</td>\n",
       "      <td>\\nUnderstand the process of relief printing.,\\...</td>\n",
       "      <td>How to Identify Prints1</td>\n",
       "      <td>Relief printing is the oldest and most tradit...</td>\n",
       "    </tr>\n",
       "    <tr>\n",
       "      <td>215363</td>\n",
       "      <td>\\nUnderstand the process of intaglio printing....</td>\n",
       "      <td>How to Identify Prints2</td>\n",
       "      <td>Intaglio is Italian for \"incis­ing,\" and corr...</td>\n",
       "    </tr>\n",
       "    <tr>\n",
       "      <td>215364</td>\n",
       "      <td>\\nUnderstand the different varieties of lithog...</td>\n",
       "      <td>How to Identify Prints3</td>\n",
       "      <td>Lithography is a big term often used to refer...</td>\n",
       "    </tr>\n",
       "  </tbody>\n",
       "</table>\n",
       "<p>215365 rows × 3 columns</p>\n",
       "</div>"
      ],
      "text/plain": [
       "                                                 headline  \\\n",
       "0       \\nKeep related supplies in the same area.,\\nMa...   \n",
       "1       \\nCreate a sketch in the NeoPopRealist manner ...   \n",
       "2       \\nGet a bachelor’s degree.,\\nEnroll in a studi...   \n",
       "3       \\nStart with some experience or interest in ar...   \n",
       "4       \\nKeep your reference materials, sketches, art...   \n",
       "...                                                   ...   \n",
       "215360  \\nConsider changing the spelling of your name....   \n",
       "215361  \\nTry out your name.,\\nDon’t legally change yo...   \n",
       "215362  \\nUnderstand the process of relief printing.,\\...   \n",
       "215363  \\nUnderstand the process of intaglio printing....   \n",
       "215364  \\nUnderstand the different varieties of lithog...   \n",
       "\n",
       "                                         title  \\\n",
       "0               How to Be an Organized Artist1   \n",
       "1       How to Create a Neopoprealist Art Work   \n",
       "2           How to Be a Visual Effects Artist1   \n",
       "3                How to Become an Art Investor   \n",
       "4               How to Be an Organized Artist2   \n",
       "...                                        ...   \n",
       "215360               How to Pick a Stage Name3   \n",
       "215361               How to Pick a Stage Name4   \n",
       "215362                 How to Identify Prints1   \n",
       "215363                 How to Identify Prints2   \n",
       "215364                 How to Identify Prints3   \n",
       "\n",
       "                                                     text  \n",
       "0        If you're a photographer, keep all the necess...  \n",
       "1        See the image for how this drawing develops s...  \n",
       "2        It is possible to become a VFX artist without...  \n",
       "3        The best art investors do their research on t...  \n",
       "4        As you start planning for a project or work, ...  \n",
       "...                                                   ...  \n",
       "215360   If you have a name that you like, you might f...  \n",
       "215361   Your name might sound great to you when you s...  \n",
       "215362   Relief printing is the oldest and most tradit...  \n",
       "215363   Intaglio is Italian for \"incis­ing,\" and corr...  \n",
       "215364   Lithography is a big term often used to refer...  \n",
       "\n",
       "[215365 rows x 3 columns]"
      ]
     },
     "execution_count": 4,
     "metadata": {},
     "output_type": "execute_result"
    }
   ],
   "source": [
    "wikihowAll = pd.read_csv('C:/dev/dataset/wikihowAll.csv')\n",
    "wikihowAll"
   ]
  },
  {
   "cell_type": "code",
   "execution_count": 6,
   "metadata": {},
   "outputs": [
    {
     "data": {
      "text/plain": [
       "headline    \\nKeep related supplies in the same area.,\\nMa...\n",
       "title                          How to Be an Organized Artist1\n",
       "text         If you're a photographer, keep all the necess...\n",
       "Name: 0, dtype: object"
      ]
     },
     "execution_count": 6,
     "metadata": {},
     "output_type": "execute_result"
    }
   ],
   "source": [
    "wikihowAll.loc[0,:]"
   ]
  },
  {
   "cell_type": "code",
   "execution_count": null,
   "metadata": {},
   "outputs": [],
   "source": [
    "import collections\n",
    "import pickle"
   ]
  },
  {
   "cell_type": "code",
   "execution_count": 7,
   "metadata": {},
   "outputs": [
    {
     "name": "stderr",
     "output_type": "stream",
     "text": [
      "C:\\dev\\Anaconda3\\lib\\site-packages\\gensim\\utils.py:1167: UserWarning: detected Windows; aliasing chunkize to chunkize_serial\n",
      "  warnings.warn(\"detected Windows; aliasing chunkize to chunkize_serial\")\n"
     ]
    }
   ],
   "source": [
    "from nltk.tokenize import word_tokenize\n",
    "from gensim.test.utils import get_tmpfile\n",
    "from gensim.scripts.glove2word2vec import glove2word2vec\n",
    "from gensim.models.keyedvectors import KeyedVectors"
   ]
  },
  {
   "cell_type": "code",
   "execution_count": 12,
   "metadata": {
    "scrolled": true
   },
   "outputs": [],
   "source": [
    "# words = np.array([])\n",
    "\n",
    "# for sentence in wikihowAll['headline'] :\n",
    "#     for word in word_tokenize(sentence) :\n",
    "#         print(word)\n",
    "#         words = np.append(words,word)\n",
    "\n",
    "words = np.array([])\n",
    "\n",
    "for word in word_tokenize(wikihowAll.at[0,'headline']) :\n",
    "    words = np.append(words,word)"
   ]
  },
  {
   "cell_type": "code",
   "execution_count": 13,
   "metadata": {},
   "outputs": [
    {
     "data": {
      "text/plain": [
       "array(['Keep', 'related', 'supplies', 'in', 'the', 'same', 'area.', ',',\n",
       "       'Make', 'an', 'effort', 'to', 'clean', 'a', 'dedicated',\n",
       "       'workspace', 'after', 'every', 'session.', ',', 'Place', 'loose',\n",
       "       'supplies', 'in', 'large', ',', 'clearly', 'visible',\n",
       "       'containers.', ',', 'Use', 'clotheslines', 'and', 'clips', 'to',\n",
       "       'hang', 'sketches', ',', 'photos', ',', 'and', 'reference',\n",
       "       'material.', ',', 'Use', 'every', 'inch', 'of', 'the', 'room',\n",
       "       'for', 'storage', ',', 'especially', 'vertical', 'space.', ',',\n",
       "       'Use', 'chalkboard', 'paint', 'to', 'make', 'space', 'for',\n",
       "       'drafting', 'ideas', 'right', 'on', 'the', 'walls.', ',',\n",
       "       'Purchase', 'a', 'label', 'maker', 'to', 'make', 'your',\n",
       "       'organization', 'strategy', 'semi-permanent.', ',', 'Make', 'a',\n",
       "       'habit', 'of', 'throwing', 'out', 'old', ',', 'excess', ',', 'or',\n",
       "       'useless', 'stuff', 'each', 'month', '.'], dtype='<U32')"
      ]
     },
     "execution_count": 13,
     "metadata": {},
     "output_type": "execute_result"
    }
   ],
   "source": [
    "words"
   ]
  },
  {
   "cell_type": "code",
   "execution_count": null,
   "metadata": {},
   "outputs": [],
   "source": []
  },
  {
   "cell_type": "code",
   "execution_count": null,
   "metadata": {},
   "outputs": [],
   "source": []
  }
 ],
 "metadata": {
  "kernelspec": {
   "display_name": "Python 3",
   "language": "python",
   "name": "python3"
  },
  "language_info": {
   "codemirror_mode": {
    "name": "ipython",
    "version": 3
   },
   "file_extension": ".py",
   "mimetype": "text/x-python",
   "name": "python",
   "nbconvert_exporter": "python",
   "pygments_lexer": "ipython3",
   "version": "3.7.4"
  }
 },
 "nbformat": 4,
 "nbformat_minor": 2
}
