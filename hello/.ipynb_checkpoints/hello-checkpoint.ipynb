{
 "cells": [
  {
   "cell_type": "code",
   "execution_count": 5,
   "metadata": {},
   "outputs": [
    {
     "name": "stdout",
     "output_type": "stream",
     "text": [
      "a\n",
      "1\n"
     ]
    }
   ],
   "source": [
    "A = \"a\"\n",
    "a = '1'\n",
    "print(A)\n",
    "print(a)"
   ]
  },
  {
   "cell_type": "code",
   "execution_count": 6,
   "metadata": {},
   "outputs": [
    {
     "name": "stdout",
     "output_type": "stream",
     "text": [
      "abcd\n",
      "abcd\n",
      "True\n"
     ]
    }
   ],
   "source": [
    "a='abcd'\n",
    "b=\"abcd\"\n",
    "print(a)\n",
    "print(b)\n",
    "print(a==b)"
   ]
  },
  {
   "cell_type": "code",
   "execution_count": 7,
   "metadata": {},
   "outputs": [
    {
     "name": "stdout",
     "output_type": "stream",
     "text": [
      "Trupm...\"wow\"cccc \n"
     ]
    }
   ],
   "source": [
    "a = '''Trupm...\"wow\"cccc '''\n",
    "print(a)"
   ]
  },
  {
   "cell_type": "code",
   "execution_count": 9,
   "metadata": {},
   "outputs": [
    {
     "data": {
      "text/plain": [
       "[1, 2, 3, 4, 1, 2, 3, 4]"
      ]
     },
     "execution_count": 9,
     "metadata": {},
     "output_type": "execute_result"
    }
   ],
   "source": [
    "a = [1,2,3,4]\n",
    "b = [1,2,3,4]\n",
    "a+b"
   ]
  },
  {
   "cell_type": "code",
   "execution_count": 10,
   "metadata": {},
   "outputs": [
    {
     "data": {
      "text/plain": [
       "[1, 2, 3, '123']"
      ]
     },
     "execution_count": 10,
     "metadata": {},
     "output_type": "execute_result"
    }
   ],
   "source": [
    "a_list = [1,2,3,'123']\n",
    "a_list"
   ]
  },
  {
   "cell_type": "code",
   "execution_count": 16,
   "metadata": {},
   "outputs": [
    {
     "data": {
      "text/plain": [
       "1234"
      ]
     },
     "execution_count": 16,
     "metadata": {},
     "output_type": "execute_result"
    }
   ],
   "source": [
    "d1 = {'a':1234, 'b':5678}\n",
    "\n",
    "d1.keys()\n",
    "d1.values()\n",
    "d1['a']"
   ]
  },
  {
   "cell_type": "code",
   "execution_count": 26,
   "metadata": {},
   "outputs": [
    {
     "data": {
      "text/plain": [
       "'c2'"
      ]
     },
     "execution_count": 26,
     "metadata": {},
     "output_type": "execute_result"
    }
   ],
   "source": [
    "df = {'a' : [{1:'c1',2:'c2',3:'c3',4:'c4'},2,3,4], 'n':['n1','n2','n3','n4']}\n",
    "df['a'][0][2]"
   ]
  },
  {
   "cell_type": "code",
   "execution_count": 7,
   "metadata": {},
   "outputs": [
    {
     "name": "stdout",
     "output_type": "stream",
     "text": [
      "x의 2 자리 숫자입니다.\n",
      "\n"
     ]
    }
   ],
   "source": [
    "x = 12\n",
    "count = 0\n",
    "while  x >= 1 :\n",
    "    count+=1\n",
    "    x //= 10\n",
    "\n",
    "string = \"x의 %d 자리 숫자입니다.\\n\" % (count)\n",
    "print(string) "
   ]
  },
  {
   "cell_type": "code",
   "execution_count": 11,
   "metadata": {},
   "outputs": [
    {
     "name": "stdout",
     "output_type": "stream",
     "text": [
      "가나,다라,마바\n"
     ]
    }
   ],
   "source": [
    "s = ','.join(['가나','다라','마바'])\n",
    "print(s)"
   ]
  },
  {
   "cell_type": "code",
   "execution_count": 14,
   "metadata": {},
   "outputs": [],
   "source": [
    "x = 10\n",
    "\n",
    "if x == 10 :\n",
    "    pass\n",
    "elif x > 10 :\n",
    "    print('elif')\n",
    "else :\n",
    "    print('else')\n"
   ]
  },
  {
   "cell_type": "code",
   "execution_count": 19,
   "metadata": {
    "scrolled": true
   },
   "outputs": [
    {
     "name": "stdout",
     "output_type": "stream",
     "text": [
      "not odd\n",
      "odd\n",
      "not odd\n",
      "odd\n",
      "not odd\n",
      "odd\n",
      "not odd\n",
      "odd\n",
      "not odd\n",
      "odd\n"
     ]
    }
   ],
   "source": [
    "i=0\n",
    "while i < 10 : # (i+=1) <10 같은 조건문에 수식넣는건 안되는듯?\n",
    "    if i % 2 == 0 :\n",
    "        print('not odd')\n",
    "    else : \n",
    "        print('odd')\n",
    "    i+=1"
   ]
  },
  {
   "cell_type": "code",
   "execution_count": 20,
   "metadata": {
    "scrolled": true
   },
   "outputs": [
    {
     "data": {
      "text/plain": [
       "range(0, 10, 2)"
      ]
     },
     "execution_count": 20,
     "metadata": {},
     "output_type": "execute_result"
    }
   ],
   "source": [
    "a = range(0,10,2)\n"
   ]
  },
  {
   "cell_type": "code",
   "execution_count": 29,
   "metadata": {},
   "outputs": [
    {
     "data": {
      "text/plain": [
       "['a', 'b', 'd', 'f', 'g', 'i']"
      ]
     },
     "execution_count": 29,
     "metadata": {},
     "output_type": "execute_result"
    }
   ],
   "source": [
    "a = ['a','b','c','d','f','g','i']\n",
    "b= []\n",
    "idx = 2;\n",
    "b = a[0:idx] + a[idx+1:len(a)]\n",
    "b"
   ]
  },
  {
   "cell_type": "code",
   "execution_count": 69,
   "metadata": {},
   "outputs": [
    {
     "data": {
      "text/plain": [
       "(['b', 'd', 'f', 'g', 'i'], ['a', 'b', 'c', 'd', 'f', 'g', 'i'])"
      ]
     },
     "execution_count": 69,
     "metadata": {},
     "output_type": "execute_result"
    }
   ],
   "source": [
    "a = ['a','b','c','d','f','g','i']\n",
    "b = []\n",
    "for i in a :\n",
    "    if i not in ('a','c') :\n",
    "        b.append(i)\n",
    "\n",
    "c = []\n",
    "for i in range(len(a)) :\n",
    "    if (a[i] != 'c') | (a[i] != 'a') :\n",
    "        c.append(a[i])\n",
    "\n",
    "\n",
    "\n",
    "b,c"
   ]
  },
  {
   "cell_type": "code",
   "execution_count": 52,
   "metadata": {
    "scrolled": true
   },
   "outputs": [
    {
     "data": {
      "text/plain": [
       "['a', 'b', 'd', 'f', 'g', 'i']"
      ]
     },
     "execution_count": 52,
     "metadata": {},
     "output_type": "execute_result"
    }
   ],
   "source": [
    "a1 = [['a','b','c','d'],'f','g',['c','i']]\n",
    "\n",
    "b1 = []\n",
    "\n",
    "for i in a1 :\n",
    "    if type(i) == list : \n",
    "        for j in i :\n",
    "            if j != 'c' : \n",
    "                b1.append(j)\n",
    "    elif type(i) == str :\n",
    "        if i != 'c' :\n",
    "            b1.append(i)\n",
    "\n",
    "b1"
   ]
  },
  {
   "cell_type": "code",
   "execution_count": 73,
   "metadata": {},
   "outputs": [],
   "source": [
    "def deleteReg(inData, outData, reg) :\n",
    "    for i in inData :\n",
    "        if type(i) in (list, tuple) :\n",
    "            searchLoop(i,outData, reg)\n",
    "        else :\n",
    "            if i != reg :\n",
    "                outData.append(i)\n"
   ]
  },
  {
   "cell_type": "code",
   "execution_count": 76,
   "metadata": {},
   "outputs": [
    {
     "data": {
      "text/plain": [
       "['a', 'b', 'd', 'f', 'g', 'i']"
      ]
     },
     "execution_count": 76,
     "metadata": {},
     "output_type": "execute_result"
    }
   ],
   "source": [
    "b1 = []\n",
    "\n",
    "deleteReg(a1,b1,'c')\n",
    "\n",
    "b1"
   ]
  }
 ],
 "metadata": {
  "kernelspec": {
   "display_name": "Python 3",
   "language": "python",
   "name": "python3"
  },
  "language_info": {
   "codemirror_mode": {
    "name": "ipython",
    "version": 3
   },
   "file_extension": ".py",
   "mimetype": "text/x-python",
   "name": "python",
   "nbconvert_exporter": "python",
   "pygments_lexer": "ipython3",
   "version": "3.7.4"
  }
 },
 "nbformat": 4,
 "nbformat_minor": 2
}
