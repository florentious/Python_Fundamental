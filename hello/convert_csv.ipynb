{
 "cells": [
  {
   "cell_type": "code",
   "execution_count": 1,
   "metadata": {},
   "outputs": [],
   "source": [
    "def preprocessing(data_path,output) :\n",
    "    import pandas as pd\n",
    "    import numpy as np\n",
    "    import re\n",
    "    \n",
    "    data = pd.read_csv(data_path)\n",
    "    data.dropna(inplace=True)\n",
    "    \n",
    "    def clear(df) :\n",
    "        for i in range(len(df)) :\n",
    "            df.iat[i] = re.sub(r'[\\n,;,-,:]','',df.iat[i])\n",
    "        return df\n",
    "    \n",
    "    for col in data.columns :\n",
    "        data[col] = clear(data[col])\n",
    "    \n",
    "    data.to_csv(output + '.csv')"
   ]
  },
  {
   "cell_type": "code",
   "execution_count": 2,
   "metadata": {},
   "outputs": [],
   "source": [
    "preprocessing('c:/dev/dataset/wikihowAll.csv','c:/dev/dataset/wikihowAll_pre')"
   ]
  }
 ],
 "metadata": {
  "kernelspec": {
   "display_name": "Python 3",
   "language": "python",
   "name": "python3"
  },
  "language_info": {
   "codemirror_mode": {
    "name": "ipython",
    "version": 3
   },
   "file_extension": ".py",
   "mimetype": "text/x-python",
   "name": "python",
   "nbconvert_exporter": "python",
   "pygments_lexer": "ipython3",
   "version": "3.7.4"
  }
 },
 "nbformat": 4,
 "nbformat_minor": 2
}
